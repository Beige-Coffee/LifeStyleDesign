{
 "cells": [
  {
   "cell_type": "code",
   "execution_count": 66,
   "metadata": {
    "ExecuteTime": {
     "end_time": "2018-09-09T13:05:10.358935Z",
     "start_time": "2018-09-09T13:05:10.179082Z"
    }
   },
   "outputs": [],
   "source": [
    "from selenium.webdriver import Chrome\n",
    "from bs4 import BeautifulSoup\n",
    "import pandas as pd\n",
    "import numpy as np\n",
    "import pymongo\n",
    "from selenium.common.exceptions import NoSuchElementException\n",
    "from cost_of_living import *\n",
    "from functools import reduce\n",
    "import matplotlib.pyplot as plt\n",
    "%matplotlib inline\n",
    "from hidden import debt\n",
    "from math import cos, sqrt"
   ]
  },
  {
   "cell_type": "code",
   "execution_count": null,
   "metadata": {
    "ExecuteTime": {
     "end_time": "2018-09-09T12:06:57.187314Z",
     "start_time": "2018-09-09T12:06:57.084809Z"
    }
   },
   "outputs": [],
   "source": [
    "data = pd.read_excel('data/citydf.xlsx')\n",
    "data['city'].replace('Washington', \"Washington D.C.\", inplace=True)"
   ]
  },
  {
   "cell_type": "markdown",
   "metadata": {},
   "source": [
    "### Check Data for missing values --> Which appear to be denoted as '?'"
   ]
  },
  {
   "cell_type": "code",
   "execution_count": 20,
   "metadata": {
    "ExecuteTime": {
     "end_time": "2018-09-09T12:11:20.303328Z",
     "start_time": "2018-09-09T12:11:20.263301Z"
    }
   },
   "outputs": [
    {
     "data": {
      "text/html": [
       "<div>\n",
       "<style scoped>\n",
       "    .dataframe tbody tr th:only-of-type {\n",
       "        vertical-align: middle;\n",
       "    }\n",
       "\n",
       "    .dataframe tbody tr th {\n",
       "        vertical-align: top;\n",
       "    }\n",
       "\n",
       "    .dataframe thead th {\n",
       "        text-align: right;\n",
       "    }\n",
       "</style>\n",
       "<table border=\"1\" class=\"dataframe\">\n",
       "  <thead>\n",
       "    <tr style=\"text-align: right;\">\n",
       "      <th></th>\n",
       "      <th>category</th>\n",
       "      <th>city</th>\n",
       "      <th>item</th>\n",
       "      <th>price</th>\n",
       "    </tr>\n",
       "  </thead>\n",
       "  <tbody>\n",
       "    <tr>\n",
       "      <th>28</th>\n",
       "      <td>Transportation</td>\n",
       "      <td>Palo-Alto</td>\n",
       "      <td>Monthly Pass (Regular Price)</td>\n",
       "      <td>?</td>\n",
       "    </tr>\n",
       "    <tr>\n",
       "      <th>796</th>\n",
       "      <td>Markets</td>\n",
       "      <td>Mountain-View</td>\n",
       "      <td>Cigarettes 20 Pack (Marlboro)</td>\n",
       "      <td>?</td>\n",
       "    </tr>\n",
       "    <tr>\n",
       "      <th>1240</th>\n",
       "      <td>Transportation</td>\n",
       "      <td>Irvine</td>\n",
       "      <td>Taxi 1 mile (Normal Tariff)</td>\n",
       "      <td>?</td>\n",
       "    </tr>\n",
       "    <tr>\n",
       "      <th>1515</th>\n",
       "      <td>Transportation</td>\n",
       "      <td>Plano</td>\n",
       "      <td>Taxi 1 mile (Normal Tariff)</td>\n",
       "      <td>?</td>\n",
       "    </tr>\n",
       "    <tr>\n",
       "      <th>1516</th>\n",
       "      <td>Transportation</td>\n",
       "      <td>Plano</td>\n",
       "      <td>Taxi 1hour Waiting (Normal Tariff)</td>\n",
       "      <td>?</td>\n",
       "    </tr>\n",
       "  </tbody>\n",
       "</table>\n",
       "</div>"
      ],
      "text/plain": [
       "            category           city                                item price\n",
       "28    Transportation      Palo-Alto        Monthly Pass (Regular Price)     ?\n",
       "796          Markets  Mountain-View       Cigarettes 20 Pack (Marlboro)     ?\n",
       "1240  Transportation         Irvine         Taxi 1 mile (Normal Tariff)     ?\n",
       "1515  Transportation          Plano         Taxi 1 mile (Normal Tariff)     ?\n",
       "1516  Transportation          Plano  Taxi 1hour Waiting (Normal Tariff)     ?"
      ]
     },
     "execution_count": 20,
     "metadata": {},
     "output_type": "execute_result"
    }
   ],
   "source": [
    "data[data['price'] == '?']"
   ]
  },
  {
   "cell_type": "markdown",
   "metadata": {},
   "source": [
    "### Write function to find lat_long of a city"
   ]
  },
  {
   "cell_type": "code",
   "execution_count": 32,
   "metadata": {
    "ExecuteTime": {
     "end_time": "2018-09-09T12:38:09.647165Z",
     "start_time": "2018-09-09T12:38:09.379956Z"
    }
   },
   "outputs": [],
   "source": [
    "from geopy.geocoders import Nominatim\n",
    "def find_lat_long(city):\n",
    "    geolocator = Nominatim(user_agent=\"LifestyleDesign\")\n",
    "    location = geolocator.geocode(city)\n",
    "    return location[1]"
   ]
  },
  {
   "cell_type": "code",
   "execution_count": null,
   "metadata": {
    "ExecuteTime": {
     "end_time": "2018-09-09T12:49:24.042267Z",
     "start_time": "2018-09-09T12:49:03.491247Z"
    }
   },
   "outputs": [],
   "source": [
    "data['lat_long'] = data['city'].apply(find_lat_long)"
   ]
  },
  {
   "cell_type": "markdown",
   "metadata": {},
   "source": [
    "### For efficieny, we'll calculate the lat_long once for each city and map that value to each city"
   ]
  },
  {
   "cell_type": "code",
   "execution_count": 54,
   "metadata": {
    "ExecuteTime": {
     "end_time": "2018-09-09T12:47:46.322928Z",
     "start_time": "2018-09-09T12:47:46.292911Z"
    }
   },
   "outputs": [],
   "source": [
    "cities = data.city.unique()"
   ]
  },
  {
   "cell_type": "code",
   "execution_count": 62,
   "metadata": {
    "ExecuteTime": {
     "end_time": "2018-09-09T12:59:39.392815Z",
     "start_time": "2018-09-09T12:59:14.445706Z"
    }
   },
   "outputs": [],
   "source": [
    "city_lat_long = {}\n",
    "for city in cities:\n",
    "    city_lat_long[city] = find_lat_long(city)"
   ]
  },
  {
   "cell_type": "code",
   "execution_count": 64,
   "metadata": {
    "ExecuteTime": {
     "end_time": "2018-09-09T13:00:30.127386Z",
     "start_time": "2018-09-09T13:00:30.088563Z"
    }
   },
   "outputs": [],
   "source": [
    "data[\"lat_long\"] = data[\"city\"].map(city_lat_long)"
   ]
  },
  {
   "cell_type": "markdown",
   "metadata": {},
   "source": [
    "### Now, we'll write a function to find the closest city to each city (using the lat_long distance). This can POTENTIALLY allow us to fill in missing values."
   ]
  },
  {
   "cell_type": "code",
   "execution_count": 136,
   "metadata": {
    "ExecuteTime": {
     "end_time": "2018-09-09T13:32:44.062701Z",
     "start_time": "2018-09-09T13:32:44.034304Z"
    }
   },
   "outputs": [],
   "source": [
    "from math import cos, asin, sqrt\n",
    "\n",
    "def find_distance(lat1, lon1, lat2, lon2):\n",
    "    p = 0.017453292519943295\n",
    "    a = 0.5 - cos((lat2-lat1)*p)/2 + cos(lat1*p)*cos(lat2*p) * (1-cos((lon2-lon1)*p)) / 2\n",
    "    return 12742 * asin(sqrt(a))\n",
    "\n",
    "def closest_city(lat_long):\n",
    "    closest = {}\n",
    "    for k,v in city_lat_long.items():\n",
    "        if v == lat_long:\n",
    "            pass\n",
    "        else:\n",
    "            distance = find_distance(lat_long[0], lat_long[1], v[0], v[1])\n",
    "            closest[k] = distance\n",
    "    return min(closest.keys(), key=closest.__getitem__)"
   ]
  },
  {
   "cell_type": "code",
   "execution_count": 137,
   "metadata": {
    "ExecuteTime": {
     "end_time": "2018-09-09T13:32:44.328302Z",
     "start_time": "2018-09-09T13:32:44.288240Z"
    }
   },
   "outputs": [
    {
     "data": {
      "text/plain": [
       "(37.4455862, -122.1619289)"
      ]
     },
     "execution_count": 137,
     "metadata": {},
     "output_type": "execute_result"
    }
   ],
   "source": [
    "data.loc[0][4]"
   ]
  },
  {
   "cell_type": "code",
   "execution_count": 138,
   "metadata": {
    "ExecuteTime": {
     "end_time": "2018-09-09T13:32:44.616780Z",
     "start_time": "2018-09-09T13:32:44.585064Z"
    }
   },
   "outputs": [
    {
     "data": {
      "text/plain": [
       "'Mountain-View'"
      ]
     },
     "execution_count": 138,
     "metadata": {},
     "output_type": "execute_result"
    }
   ],
   "source": [
    "closest_city(data.loc[0][4])"
   ]
  },
  {
   "cell_type": "markdown",
   "metadata": {
    "ExecuteTime": {
     "end_time": "2018-09-09T13:27:24.201641Z",
     "start_time": "2018-09-09T13:27:24.164256Z"
    }
   },
   "source": [
    "### Create a dict of each city and it's closest city"
   ]
  },
  {
   "cell_type": "code",
   "execution_count": 148,
   "metadata": {
    "ExecuteTime": {
     "end_time": "2018-09-09T13:40:21.170487Z",
     "start_time": "2018-09-09T13:40:21.138430Z"
    }
   },
   "outputs": [],
   "source": [
    "city_neighbor = {}\n",
    "for city, lat_long in city_lat_long.items():\n",
    "    city_neighbor[city] = closest_city(lat_long)"
   ]
  },
  {
   "cell_type": "markdown",
   "metadata": {},
   "source": [
    "### Map neighbors to city in dataframe"
   ]
  },
  {
   "cell_type": "code",
   "execution_count": 150,
   "metadata": {
    "ExecuteTime": {
     "end_time": "2018-09-09T13:41:55.862934Z",
     "start_time": "2018-09-09T13:41:55.660363Z"
    }
   },
   "outputs": [],
   "source": [
    "data[\"city_neighbor\"] = data[\"city\"].map(city_neighbor)"
   ]
  },
  {
   "cell_type": "markdown",
   "metadata": {},
   "source": [
    "### Begin writing function to replace missing prices with city neighbors"
   ]
  },
  {
   "cell_type": "code",
   "execution_count": 207,
   "metadata": {
    "ExecuteTime": {
     "end_time": "2018-09-09T14:26:15.610118Z",
     "start_time": "2018-09-09T14:26:15.581349Z"
    }
   },
   "outputs": [],
   "source": [
    "def find_neighbor_price(city, item):\n",
    "    neighbor = city_neighbor[city]\n",
    "    price = data.loc[(data['city'] == neighbor) & data['item'].isin([item])]['price'].values[0]\n",
    "    return (f\"Neighbor: {neighbor}, Price: {price}\")"
   ]
  },
  {
   "cell_type": "code",
   "execution_count": 208,
   "metadata": {
    "ExecuteTime": {
     "end_time": "2018-09-09T14:26:15.968164Z",
     "start_time": "2018-09-09T14:26:15.930892Z"
    }
   },
   "outputs": [
    {
     "data": {
      "text/plain": [
       "'Neighbor: Mountain-View, Price: 70.00'"
      ]
     },
     "execution_count": 208,
     "metadata": {},
     "output_type": "execute_result"
    }
   ],
   "source": [
    "find_neighbor_price('Palo-Alto', 'Monthly Pass (Regular Price)')"
   ]
  }
 ],
 "metadata": {
  "kernelspec": {
   "display_name": "Python 3",
   "language": "python",
   "name": "python3"
  },
  "language_info": {
   "codemirror_mode": {
    "name": "ipython",
    "version": 3
   },
   "file_extension": ".py",
   "mimetype": "text/x-python",
   "name": "python",
   "nbconvert_exporter": "python",
   "pygments_lexer": "ipython3",
   "version": "3.6.5"
  }
 },
 "nbformat": 4,
 "nbformat_minor": 2
}
