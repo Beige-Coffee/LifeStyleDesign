{
 "cells": [
  {
   "cell_type": "code",
   "execution_count": 66,
   "metadata": {
    "ExecuteTime": {
     "end_time": "2018-09-09T13:05:10.358935Z",
     "start_time": "2018-09-09T13:05:10.179082Z"
    }
   },
   "outputs": [],
   "source": [
    "from selenium.webdriver import Chrome\n",
    "from bs4 import BeautifulSoup\n",
    "import pandas as pd\n",
    "import numpy as np\n",
    "import pymongo\n",
    "from selenium.common.exceptions import NoSuchElementException\n",
    "from cost_of_living import *\n",
    "from functools import reduce\n",
    "import matplotlib.pyplot as plt\n",
    "%matplotlib inline\n",
    "from hidden import debt\n",
    "from math import cos, sqrt"
   ]
  },
  {
   "cell_type": "code",
   "execution_count": null,
   "metadata": {
    "ExecuteTime": {
     "end_time": "2018-09-09T12:06:57.187314Z",
     "start_time": "2018-09-09T12:06:57.084809Z"
    }
   },
   "outputs": [],
   "source": [
    "data = pd.read_excel('data/citydf.xlsx')\n",
    "data['city'].replace('Washington', \"Washington D.C.\", inplace=True)"
   ]
  },
  {
   "cell_type": "markdown",
   "metadata": {},
   "source": [
    "### Check Data for missing values --> Which appear to be denoted as '?'"
   ]
  },
  {
   "cell_type": "code",
   "execution_count": 20,
   "metadata": {
    "ExecuteTime": {
     "end_time": "2018-09-09T12:11:20.303328Z",
     "start_time": "2018-09-09T12:11:20.263301Z"
    }
   },
   "outputs": [
    {
     "data": {
      "text/html": [
       "<div>\n",
       "<style scoped>\n",
       "    .dataframe tbody tr th:only-of-type {\n",
       "        vertical-align: middle;\n",
       "    }\n",
       "\n",
       "    .dataframe tbody tr th {\n",
       "        vertical-align: top;\n",
       "    }\n",
       "\n",
       "    .dataframe thead th {\n",
       "        text-align: right;\n",
       "    }\n",
       "</style>\n",
       "<table border=\"1\" class=\"dataframe\">\n",
       "  <thead>\n",
       "    <tr style=\"text-align: right;\">\n",
       "      <th></th>\n",
       "      <th>category</th>\n",
       "      <th>city</th>\n",
       "      <th>item</th>\n",
       "      <th>price</th>\n",
       "    </tr>\n",
       "  </thead>\n",
       "  <tbody>\n",
       "    <tr>\n",
       "      <th>28</th>\n",
       "      <td>Transportation</td>\n",
       "      <td>Palo-Alto</td>\n",
       "      <td>Monthly Pass (Regular Price)</td>\n",
       "      <td>?</td>\n",
       "    </tr>\n",
       "    <tr>\n",
       "      <th>796</th>\n",
       "      <td>Markets</td>\n",
       "      <td>Mountain-View</td>\n",
       "      <td>Cigarettes 20 Pack (Marlboro)</td>\n",
       "      <td>?</td>\n",
       "    </tr>\n",
       "    <tr>\n",
       "      <th>1240</th>\n",
       "      <td>Transportation</td>\n",
       "      <td>Irvine</td>\n",
       "      <td>Taxi 1 mile (Normal Tariff)</td>\n",
       "      <td>?</td>\n",
       "    </tr>\n",
       "    <tr>\n",
       "      <th>1515</th>\n",
       "      <td>Transportation</td>\n",
       "      <td>Plano</td>\n",
       "      <td>Taxi 1 mile (Normal Tariff)</td>\n",
       "      <td>?</td>\n",
       "    </tr>\n",
       "    <tr>\n",
       "      <th>1516</th>\n",
       "      <td>Transportation</td>\n",
       "      <td>Plano</td>\n",
       "      <td>Taxi 1hour Waiting (Normal Tariff)</td>\n",
       "      <td>?</td>\n",
       "    </tr>\n",
       "  </tbody>\n",
       "</table>\n",
       "</div>"
      ],
      "text/plain": [
       "            category           city                                item price\n",
       "28    Transportation      Palo-Alto        Monthly Pass (Regular Price)     ?\n",
       "796          Markets  Mountain-View       Cigarettes 20 Pack (Marlboro)     ?\n",
       "1240  Transportation         Irvine         Taxi 1 mile (Normal Tariff)     ?\n",
       "1515  Transportation          Plano         Taxi 1 mile (Normal Tariff)     ?\n",
       "1516  Transportation          Plano  Taxi 1hour Waiting (Normal Tariff)     ?"
      ]
     },
     "execution_count": 20,
     "metadata": {},
     "output_type": "execute_result"
    }
   ],
   "source": [
    "data[data['price'] == '?']"
   ]
  },
  {
   "cell_type": "markdown",
   "metadata": {},
   "source": [
    "### Write function to find lat_long of a city"
   ]
  },
  {
   "cell_type": "code",
   "execution_count": 32,
   "metadata": {
    "ExecuteTime": {
     "end_time": "2018-09-09T12:38:09.647165Z",
     "start_time": "2018-09-09T12:38:09.379956Z"
    }
   },
   "outputs": [],
   "source": [
    "from geopy.geocoders import Nominatim\n",
    "def find_lat_long(city):\n",
    "    geolocator = Nominatim(user_agent=\"LifestyleDesign\")\n",
    "    location = geolocator.geocode(city)\n",
    "    return location[1]"
   ]
  },
  {
   "cell_type": "code",
   "execution_count": null,
   "metadata": {
    "ExecuteTime": {
     "end_time": "2018-09-09T12:49:24.042267Z",
     "start_time": "2018-09-09T12:49:03.491247Z"
    }
   },
   "outputs": [],
   "source": [
    "data['lat_long'] = data['city'].apply(find_lat_long)"
   ]
  },
  {
   "cell_type": "markdown",
   "metadata": {},
   "source": [
    "### For efficieny, we'll calculate the lat_long once for each city and map that value to each city"
   ]
  },
  {
   "cell_type": "code",
   "execution_count": 54,
   "metadata": {
    "ExecuteTime": {
     "end_time": "2018-09-09T12:47:46.322928Z",
     "start_time": "2018-09-09T12:47:46.292911Z"
    }
   },
   "outputs": [],
   "source": [
    "cities = data.city.unique()"
   ]
  },
  {
   "cell_type": "code",
   "execution_count": 62,
   "metadata": {
    "ExecuteTime": {
     "end_time": "2018-09-09T12:59:39.392815Z",
     "start_time": "2018-09-09T12:59:14.445706Z"
    }
   },
   "outputs": [],
   "source": [
    "city_lat_long = {}\n",
    "for city in cities:\n",
    "    city_lat_long[city] = find_lat_long(city)"
   ]
  },
  {
   "cell_type": "code",
   "execution_count": 64,
   "metadata": {
    "ExecuteTime": {
     "end_time": "2018-09-09T13:00:30.127386Z",
     "start_time": "2018-09-09T13:00:30.088563Z"
    }
   },
   "outputs": [],
   "source": [
    "data[\"lat_long\"] = data[\"city\"].map(city_lat_long)"
   ]
  },
  {
   "cell_type": "markdown",
   "metadata": {},
   "source": [
    "### Now, we'll write a function to find the closest city to each city (using the lat_long distance). This can POTENTIALLY allow us to fill in missing values."
   ]
  },
  {
   "cell_type": "code",
   "execution_count": 136,
   "metadata": {
    "ExecuteTime": {
     "end_time": "2018-09-09T13:32:44.062701Z",
     "start_time": "2018-09-09T13:32:44.034304Z"
    }
   },
   "outputs": [],
   "source": [
    "from math import cos, asin, sqrt\n",
    "\n",
    "def find_distance(lat1, lon1, lat2, lon2):\n",
    "    p = 0.017453292519943295\n",
    "    a = 0.5 - cos((lat2-lat1)*p)/2 + cos(lat1*p)*cos(lat2*p) * (1-cos((lon2-lon1)*p)) / 2\n",
    "    return 12742 * asin(sqrt(a))\n",
    "\n",
    "def closest_city(lat_long):\n",
    "    closest = {}\n",
    "    for k,v in city_lat_long.items():\n",
    "        if v == lat_long:\n",
    "            pass\n",
    "        else:\n",
    "            distance = find_distance(lat_long[0], lat_long[1], v[0], v[1])\n",
    "            closest[k] = distance\n",
    "    return min(closest.keys(), key=closest.__getitem__)"
   ]
  },
  {
   "cell_type": "code",
   "execution_count": 137,
   "metadata": {
    "ExecuteTime": {
     "end_time": "2018-09-09T13:32:44.328302Z",
     "start_time": "2018-09-09T13:32:44.288240Z"
    }
   },
   "outputs": [
    {
     "data": {
      "text/plain": [
       "(37.4455862, -122.1619289)"
      ]
     },
     "execution_count": 137,
     "metadata": {},
     "output_type": "execute_result"
    }
   ],
   "source": [
    "data.loc[0][4]"
   ]
  },
  {
   "cell_type": "code",
   "execution_count": 138,
   "metadata": {
    "ExecuteTime": {
     "end_time": "2018-09-09T13:32:44.616780Z",
     "start_time": "2018-09-09T13:32:44.585064Z"
    }
   },
   "outputs": [
    {
     "data": {
      "text/plain": [
       "'Mountain-View'"
      ]
     },
     "execution_count": 138,
     "metadata": {},
     "output_type": "execute_result"
    }
   ],
   "source": [
    "closest_city(data.loc[0][4])"
   ]
  },
  {
   "cell_type": "markdown",
   "metadata": {
    "ExecuteTime": {
     "end_time": "2018-09-09T13:27:24.201641Z",
     "start_time": "2018-09-09T13:27:24.164256Z"
    }
   },
   "source": [
    "### Create a dict of each city and it's closest city"
   ]
  },
  {
   "cell_type": "code",
   "execution_count": 148,
   "metadata": {
    "ExecuteTime": {
     "end_time": "2018-09-09T13:40:21.170487Z",
     "start_time": "2018-09-09T13:40:21.138430Z"
    }
   },
   "outputs": [],
   "source": [
    "city_neighbor = {}\n",
    "for city, lat_long in city_lat_long.items():\n",
    "    city_neighbor[city] = closest_city(lat_long)"
   ]
  },
  {
   "cell_type": "markdown",
   "metadata": {},
   "source": [
    "### Map neighbors to city in dataframe"
   ]
  },
  {
   "cell_type": "code",
   "execution_count": 150,
   "metadata": {
    "ExecuteTime": {
     "end_time": "2018-09-09T13:41:55.862934Z",
     "start_time": "2018-09-09T13:41:55.660363Z"
    }
   },
   "outputs": [],
   "source": [
    "data[\"city_neighbor\"] = data[\"city\"].map(city_neighbor)"
   ]
  },
  {
   "cell_type": "markdown",
   "metadata": {},
   "source": [
    "### Begin writing function to replace missing prices with city neighbors"
   ]
  },
  {
   "cell_type": "code",
   "execution_count": 207,
   "metadata": {
    "ExecuteTime": {
     "end_time": "2018-09-09T14:26:15.610118Z",
     "start_time": "2018-09-09T14:26:15.581349Z"
    }
   },
   "outputs": [],
   "source": [
    "def find_neighbor_price(city, item):\n",
    "    neighbor = city_neighbor[city]\n",
    "    price = data.loc[(data['city'] == neighbor) & data['item'].isin([item])]['price'].values[0]\n",
    "    return (f\"Neighbor: {neighbor}, Price: {price}\")"
   ]
  },
  {
   "cell_type": "code",
   "execution_count": 208,
   "metadata": {
    "ExecuteTime": {
     "end_time": "2018-09-09T14:26:15.968164Z",
     "start_time": "2018-09-09T14:26:15.930892Z"
    }
   },
   "outputs": [
    {
     "data": {
      "text/plain": [
       "'Neighbor: Mountain-View, Price: 70.00'"
      ]
     },
     "execution_count": 208,
     "metadata": {},
     "output_type": "execute_result"
    }
   ],
   "source": [
    "find_neighbor_price('Palo-Alto', 'Monthly Pass (Regular Price)')"
   ]
  },
  {
   "cell_type": "markdown",
   "metadata": {},
   "source": [
    "## Write a function to produce cost-of-living in multiple cities"
   ]
  },
  {
   "cell_type": "code",
   "execution_count": 239,
   "metadata": {
    "ExecuteTime": {
     "end_time": "2018-09-11T20:47:34.651478Z",
     "start_time": "2018-09-11T20:47:34.609638Z"
    }
   },
   "outputs": [],
   "source": [
    "monthly_constants = {\n",
    "'Cinema, International Release, 1 Seat' : 2,\n",
    "'Fitness Club, Monthly Fee for 1 Adult' : 2,\n",
    "'Basic (Electricity, Heating, Cooling, Water, Garbage) for 915 sq ft Apartment' : 1,\n",
    "'Internet (60 Mbps or More, Unlimited Data, Cable/ADSL)' : 1,\n",
    "'Gasoline (1 gallon)' : 15,\n",
    "'Imported Beer (11.2 oz small bottle)' : 10,\n",
    "'Bottle of Wine (Mid-Range)' : 2,\n",
    "'Cappuccino (regular)'  : 30,\n",
    "'Meal, Inexpensive Restaurant' : 8,\n",
    "'1 Pair of Jeans (Levis 501 Or Similar)' : 1,\n",
    "'groceries (dollars)': 600\n",
    "}\n",
    "\n",
    "def cost_per_city_1B_Center(citydf, monthly_constants):\n",
    "    for city in citydf.city.unique():\n",
    "        total = 0\n",
    "        for item, price in monthly_constants.items():\n",
    "            if item != 'groceries (dollars)':\n",
    "                price = float(citydf[(citydf['city']==city) & (citydf['item']==item)].values[0][3]) * price\n",
    "                total += price\n",
    "            else:\n",
    "                total += price\n",
    "        total += (float(citydf[(citydf['city']==city) & \n",
    "                               (citydf['item']=='Apartment (1 bedroom) in City Centre')].values[0][3]))\n",
    "        result = {\n",
    "        'city' : city,\n",
    "        '1_Bed_Center_Total' : total\n",
    "                  }\n",
    "        yield result\n",
    "        \n",
    "def cost_per_city_3B_Center(citydf, monthly_constants):\n",
    "    for city in citydf.city.unique():\n",
    "        total = 0\n",
    "        for item, price in monthly_constants.items():\n",
    "            if item != 'groceries (dollars)':\n",
    "                price = float(citydf[(citydf['city']==city) & (citydf['item']==item)].values[0][3]) * price\n",
    "                total += price\n",
    "            else:\n",
    "                total += price\n",
    "        total += round((float(citydf[(citydf['city']==city) & \n",
    "                               (citydf['item']=='Apartment (3 bedrooms) in City Centre')].values[0][3]) / 3),2)\n",
    "        result = {\n",
    "        'city' : city,\n",
    "        '3_Bed_Center_Total' : total\n",
    "                  }\n",
    "        yield result\n",
    "\n",
    "def cost_per_city_3B_Outside(citydf, monthly_constants):\n",
    "    for city in citydf.city.unique():\n",
    "        total = 0\n",
    "        for item, price in monthly_constants.items():\n",
    "            if item != 'groceries (dollars)':\n",
    "                price = float(citydf[(citydf['city']==city) & (citydf['item']==item)].values[0][3]) * price\n",
    "                total += price\n",
    "            else:\n",
    "                total += price\n",
    "        total += round(((float(citydf[(citydf['city']==city) & \n",
    "                               (citydf['item']=='Apartment (3 bedrooms) Outside of Centre')].values[0][3])) / 3),2)\n",
    "        result = {\n",
    "        'city' : city,\n",
    "        '3_Bed_Outside_Total' : total\n",
    "                  }\n",
    "        yield result\n",
    "\n",
    "def cost_per_city_1B_Outside(citydf, monthly_constants):\n",
    "    for city in citydf.city.unique():\n",
    "        total = 0\n",
    "        for item, price in monthly_constants.items():\n",
    "            if item != 'groceries (dollars)':\n",
    "                price = float(citydf[(citydf['city']==city) & (citydf['item']==item)].values[0][3]) * price\n",
    "                total += price\n",
    "            else:\n",
    "                total += price\n",
    "        total += (float(citydf[(citydf['city']==city) & \n",
    "                               (citydf['item']=='Apartment (1 bedroom) Outside of Centre')].values[0][3]))\n",
    "        result = {\n",
    "        'city' : city,\n",
    "        '1_Bed_Outside_Total' : total\n",
    "                  }\n",
    "        yield result"
   ]
  },
  {
   "cell_type": "code",
   "execution_count": 241,
   "metadata": {
    "ExecuteTime": {
     "end_time": "2018-09-11T20:48:31.984048Z",
     "start_time": "2018-09-11T20:48:31.953897Z"
    }
   },
   "outputs": [],
   "source": [
    "def find_cost_of_living(data, monthly_constants):\n",
    "    B1_center = pd.DataFrame(list(cost_per_city_1B_Center(data, monthly_constants)))\n",
    "    B3_center = pd.DataFrame(list(cost_per_city_3B_Center(data, monthly_constants)))\n",
    "    B1_Outside = pd.DataFrame(list(cost_per_city_1B_Outside(data, monthly_constants)))\n",
    "    B3_Outside = pd.DataFrame(list(cost_per_city_3B_Outside(data, monthly_constants)))\n",
    "    B1_center.set_index('city', inplace=True)\n",
    "    B3_center.set_index('city', inplace=True)\n",
    "    B1_Outside.set_index('city', inplace=True)\n",
    "    B3_Outside.set_index('city', inplace=True)\n",
    "    dfs = [B1_center, B3_center, B1_Outside, B3_Outside]\n",
    "    city_matrix = pd.concat(dfs, axis=1)\n",
    "    city_matrix['city'] = city_matrix.index\n",
    "    city_matrix.drop(columns='city', inplace=True)\n",
    "    return city_matrix"
   ]
  },
  {
   "cell_type": "code",
   "execution_count": 243,
   "metadata": {
    "ExecuteTime": {
     "end_time": "2018-09-11T20:52:41.504317Z",
     "start_time": "2018-09-11T20:52:41.461867Z"
    }
   },
   "outputs": [],
   "source": [
    "monthly_constants2 = {\n",
    "'Cinema, International Release, 1 Seat' : 3,\n",
    "'Fitness Club, Monthly Fee for 1 Adult' : 0,\n",
    "'Basic (Electricity, Heating, Cooling, Water, Garbage) for 915 sq ft Apartment' : .5,\n",
    "'Internet (60 Mbps or More, Unlimited Data, Cable/ADSL)' : .5,\n",
    "'Gasoline (1 gallon)' : 15,\n",
    "'Imported Beer (11.2 oz small bottle)' : 25,\n",
    "'Bottle of Wine (Mid-Range)' : 3,\n",
    "'Cappuccino (regular)'  : 15,\n",
    "'Meal, Inexpensive Restaurant' : 20,\n",
    "'1 Pair of Jeans (Levis 501 Or Similar)' : 10,\n",
    "'groceries (dollars)': 200\n",
    "}"
   ]
  },
  {
   "cell_type": "code",
   "execution_count": 245,
   "metadata": {
    "ExecuteTime": {
     "end_time": "2018-09-11T20:54:04.481574Z",
     "start_time": "2018-09-11T20:54:03.120637Z"
    }
   },
   "outputs": [
    {
     "data": {
      "text/html": [
       "<div>\n",
       "<style scoped>\n",
       "    .dataframe tbody tr th:only-of-type {\n",
       "        vertical-align: middle;\n",
       "    }\n",
       "\n",
       "    .dataframe tbody tr th {\n",
       "        vertical-align: top;\n",
       "    }\n",
       "\n",
       "    .dataframe thead th {\n",
       "        text-align: right;\n",
       "    }\n",
       "</style>\n",
       "<table border=\"1\" class=\"dataframe\">\n",
       "  <thead>\n",
       "    <tr style=\"text-align: right;\">\n",
       "      <th></th>\n",
       "      <th>1_Bed_Center_Total</th>\n",
       "      <th>3_Bed_Center_Total</th>\n",
       "      <th>1_Bed_Outside_Total</th>\n",
       "      <th>3_Bed_Outside_Total</th>\n",
       "    </tr>\n",
       "    <tr>\n",
       "      <th>city</th>\n",
       "      <th></th>\n",
       "      <th></th>\n",
       "      <th></th>\n",
       "      <th></th>\n",
       "    </tr>\n",
       "  </thead>\n",
       "  <tbody>\n",
       "    <tr>\n",
       "      <th>Palo-Alto</th>\n",
       "      <td>4415.755</td>\n",
       "      <td>3155.825</td>\n",
       "      <td>4122.485</td>\n",
       "      <td>2900.265</td>\n",
       "    </tr>\n",
       "    <tr>\n",
       "      <th>San-Jose</th>\n",
       "      <td>3819.940</td>\n",
       "      <td>2606.570</td>\n",
       "      <td>3562.260</td>\n",
       "      <td>2521.090</td>\n",
       "    </tr>\n",
       "    <tr>\n",
       "      <th>Portland</th>\n",
       "      <td>2934.115</td>\n",
       "      <td>2365.775</td>\n",
       "      <td>2555.105</td>\n",
       "      <td>2049.675</td>\n",
       "    </tr>\n",
       "    <tr>\n",
       "      <th>Austin</th>\n",
       "      <td>2984.135</td>\n",
       "      <td>2303.925</td>\n",
       "      <td>2413.815</td>\n",
       "      <td>1957.895</td>\n",
       "    </tr>\n",
       "    <tr>\n",
       "      <th>Denver</th>\n",
       "      <td>2964.960</td>\n",
       "      <td>2269.020</td>\n",
       "      <td>2631.530</td>\n",
       "      <td>2039.630</td>\n",
       "    </tr>\n",
       "    <tr>\n",
       "      <th>San-Diego</th>\n",
       "      <td>3307.575</td>\n",
       "      <td>2503.265</td>\n",
       "      <td>2901.165</td>\n",
       "      <td>2281.845</td>\n",
       "    </tr>\n",
       "    <tr>\n",
       "      <th>Washington D.C.</th>\n",
       "      <td>3641.510</td>\n",
       "      <td>2825.480</td>\n",
       "      <td>3188.170</td>\n",
       "      <td>2438.230</td>\n",
       "    </tr>\n",
       "    <tr>\n",
       "      <th>Boston</th>\n",
       "      <td>3913.585</td>\n",
       "      <td>2945.425</td>\n",
       "      <td>3228.535</td>\n",
       "      <td>2408.555</td>\n",
       "    </tr>\n",
       "    <tr>\n",
       "      <th>San-Francisco</th>\n",
       "      <td>4993.135</td>\n",
       "      <td>3515.985</td>\n",
       "      <td>4239.605</td>\n",
       "      <td>3038.635</td>\n",
       "    </tr>\n",
       "    <tr>\n",
       "      <th>Seattle</th>\n",
       "      <td>3443.280</td>\n",
       "      <td>2676.760</td>\n",
       "      <td>2934.250</td>\n",
       "      <td>2284.060</td>\n",
       "    </tr>\n",
       "    <tr>\n",
       "      <th>Atlanta</th>\n",
       "      <td>2849.160</td>\n",
       "      <td>2235.780</td>\n",
       "      <td>2392.200</td>\n",
       "      <td>1902.590</td>\n",
       "    </tr>\n",
       "    <tr>\n",
       "      <th>Los-Angeles</th>\n",
       "      <td>3620.105</td>\n",
       "      <td>2784.115</td>\n",
       "      <td>3174.255</td>\n",
       "      <td>2448.155</td>\n",
       "    </tr>\n",
       "    <tr>\n",
       "      <th>Chicago</th>\n",
       "      <td>3177.940</td>\n",
       "      <td>2504.350</td>\n",
       "      <td>2562.550</td>\n",
       "      <td>2092.280</td>\n",
       "    </tr>\n",
       "    <tr>\n",
       "      <th>New-York</th>\n",
       "      <td>4796.600</td>\n",
       "      <td>3744.270</td>\n",
       "      <td>3564.700</td>\n",
       "      <td>2744.560</td>\n",
       "    </tr>\n",
       "    <tr>\n",
       "      <th>Mountain-View</th>\n",
       "      <td>4151.145</td>\n",
       "      <td>2822.815</td>\n",
       "      <td>3664.475</td>\n",
       "      <td>2631.145</td>\n",
       "    </tr>\n",
       "    <tr>\n",
       "      <th>Santa-Monica</th>\n",
       "      <td>4120.085</td>\n",
       "      <td>3623.185</td>\n",
       "      <td>3706.515</td>\n",
       "      <td>3085.085</td>\n",
       "    </tr>\n",
       "    <tr>\n",
       "      <th>Cambridge</th>\n",
       "      <td>2460.585</td>\n",
       "      <td>1999.755</td>\n",
       "      <td>2231.905</td>\n",
       "      <td>1871.235</td>\n",
       "    </tr>\n",
       "    <tr>\n",
       "      <th>Salt-Lake-City</th>\n",
       "      <td>2525.815</td>\n",
       "      <td>1966.495</td>\n",
       "      <td>2185.575</td>\n",
       "      <td>1808.525</td>\n",
       "    </tr>\n",
       "    <tr>\n",
       "      <th>Raleigh</th>\n",
       "      <td>2423.435</td>\n",
       "      <td>1839.425</td>\n",
       "      <td>2180.885</td>\n",
       "      <td>1697.325</td>\n",
       "    </tr>\n",
       "    <tr>\n",
       "      <th>Nashville</th>\n",
       "      <td>2917.260</td>\n",
       "      <td>2298.110</td>\n",
       "      <td>2419.430</td>\n",
       "      <td>1963.400</td>\n",
       "    </tr>\n",
       "    <tr>\n",
       "      <th>Sunnyvale</th>\n",
       "      <td>4169.235</td>\n",
       "      <td>2813.945</td>\n",
       "      <td>3648.605</td>\n",
       "      <td>2550.285</td>\n",
       "    </tr>\n",
       "    <tr>\n",
       "      <th>Boulder</th>\n",
       "      <td>2692.585</td>\n",
       "      <td>2209.255</td>\n",
       "      <td>2430.965</td>\n",
       "      <td>1990.735</td>\n",
       "    </tr>\n",
       "    <tr>\n",
       "      <th>Irvine</th>\n",
       "      <td>3468.025</td>\n",
       "      <td>2498.785</td>\n",
       "      <td>3257.695</td>\n",
       "      <td>2385.435</td>\n",
       "    </tr>\n",
       "    <tr>\n",
       "      <th>Philadelphia</th>\n",
       "      <td>2944.705</td>\n",
       "      <td>2324.575</td>\n",
       "      <td>2419.675</td>\n",
       "      <td>1932.685</td>\n",
       "    </tr>\n",
       "    <tr>\n",
       "      <th>Dallas</th>\n",
       "      <td>2598.150</td>\n",
       "      <td>2100.090</td>\n",
       "      <td>2262.280</td>\n",
       "      <td>1874.310</td>\n",
       "    </tr>\n",
       "    <tr>\n",
       "      <th>Bellevue</th>\n",
       "      <td>3485.605</td>\n",
       "      <td>2528.385</td>\n",
       "      <td>3186.135</td>\n",
       "      <td>2275.615</td>\n",
       "    </tr>\n",
       "    <tr>\n",
       "      <th>Charlotte</th>\n",
       "      <td>2742.425</td>\n",
       "      <td>2076.575</td>\n",
       "      <td>2295.005</td>\n",
       "      <td>1822.255</td>\n",
       "    </tr>\n",
       "    <tr>\n",
       "      <th>Plano</th>\n",
       "      <td>2433.145</td>\n",
       "      <td>1987.905</td>\n",
       "      <td>2204.015</td>\n",
       "      <td>1849.815</td>\n",
       "    </tr>\n",
       "    <tr>\n",
       "      <th>Richmond</th>\n",
       "      <td>2430.725</td>\n",
       "      <td>1854.765</td>\n",
       "      <td>2208.895</td>\n",
       "      <td>1734.325</td>\n",
       "    </tr>\n",
       "  </tbody>\n",
       "</table>\n",
       "</div>"
      ],
      "text/plain": [
       "                 1_Bed_Center_Total  3_Bed_Center_Total  1_Bed_Outside_Total  \\\n",
       "city                                                                           \n",
       "Palo-Alto                  4415.755            3155.825             4122.485   \n",
       "San-Jose                   3819.940            2606.570             3562.260   \n",
       "Portland                   2934.115            2365.775             2555.105   \n",
       "Austin                     2984.135            2303.925             2413.815   \n",
       "Denver                     2964.960            2269.020             2631.530   \n",
       "San-Diego                  3307.575            2503.265             2901.165   \n",
       "Washington D.C.            3641.510            2825.480             3188.170   \n",
       "Boston                     3913.585            2945.425             3228.535   \n",
       "San-Francisco              4993.135            3515.985             4239.605   \n",
       "Seattle                    3443.280            2676.760             2934.250   \n",
       "Atlanta                    2849.160            2235.780             2392.200   \n",
       "Los-Angeles                3620.105            2784.115             3174.255   \n",
       "Chicago                    3177.940            2504.350             2562.550   \n",
       "New-York                   4796.600            3744.270             3564.700   \n",
       "Mountain-View              4151.145            2822.815             3664.475   \n",
       "Santa-Monica               4120.085            3623.185             3706.515   \n",
       "Cambridge                  2460.585            1999.755             2231.905   \n",
       "Salt-Lake-City             2525.815            1966.495             2185.575   \n",
       "Raleigh                    2423.435            1839.425             2180.885   \n",
       "Nashville                  2917.260            2298.110             2419.430   \n",
       "Sunnyvale                  4169.235            2813.945             3648.605   \n",
       "Boulder                    2692.585            2209.255             2430.965   \n",
       "Irvine                     3468.025            2498.785             3257.695   \n",
       "Philadelphia               2944.705            2324.575             2419.675   \n",
       "Dallas                     2598.150            2100.090             2262.280   \n",
       "Bellevue                   3485.605            2528.385             3186.135   \n",
       "Charlotte                  2742.425            2076.575             2295.005   \n",
       "Plano                      2433.145            1987.905             2204.015   \n",
       "Richmond                   2430.725            1854.765             2208.895   \n",
       "\n",
       "                 3_Bed_Outside_Total  \n",
       "city                                  \n",
       "Palo-Alto                   2900.265  \n",
       "San-Jose                    2521.090  \n",
       "Portland                    2049.675  \n",
       "Austin                      1957.895  \n",
       "Denver                      2039.630  \n",
       "San-Diego                   2281.845  \n",
       "Washington D.C.             2438.230  \n",
       "Boston                      2408.555  \n",
       "San-Francisco               3038.635  \n",
       "Seattle                     2284.060  \n",
       "Atlanta                     1902.590  \n",
       "Los-Angeles                 2448.155  \n",
       "Chicago                     2092.280  \n",
       "New-York                    2744.560  \n",
       "Mountain-View               2631.145  \n",
       "Santa-Monica                3085.085  \n",
       "Cambridge                   1871.235  \n",
       "Salt-Lake-City              1808.525  \n",
       "Raleigh                     1697.325  \n",
       "Nashville                   1963.400  \n",
       "Sunnyvale                   2550.285  \n",
       "Boulder                     1990.735  \n",
       "Irvine                      2385.435  \n",
       "Philadelphia                1932.685  \n",
       "Dallas                      1874.310  \n",
       "Bellevue                    2275.615  \n",
       "Charlotte                   1822.255  \n",
       "Plano                       1849.815  \n",
       "Richmond                    1734.325  "
      ]
     },
     "execution_count": 245,
     "metadata": {},
     "output_type": "execute_result"
    }
   ],
   "source": [
    "find_cost_of_living(data, monthly_constants2)"
   ]
  },
  {
   "cell_type": "code",
   "execution_count": null,
   "metadata": {},
   "outputs": [],
   "source": []
  }
 ],
 "metadata": {
  "kernelspec": {
   "display_name": "Python 3",
   "language": "python",
   "name": "python3"
  },
  "language_info": {
   "codemirror_mode": {
    "name": "ipython",
    "version": 3
   },
   "file_extension": ".py",
   "mimetype": "text/x-python",
   "name": "python",
   "nbconvert_exporter": "python",
   "pygments_lexer": "ipython3",
   "version": "3.6.5"
  }
 },
 "nbformat": 4,
 "nbformat_minor": 2
}
