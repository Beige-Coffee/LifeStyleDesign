{
 "cells": [
  {
   "cell_type": "code",
   "execution_count": 66,
   "metadata": {
    "ExecuteTime": {
     "end_time": "2018-09-09T13:05:10.358935Z",
     "start_time": "2018-09-09T13:05:10.179082Z"
    }
   },
   "outputs": [],
   "source": [
    "from selenium.webdriver import Chrome\n",
    "from bs4 import BeautifulSoup\n",
    "import pandas as pd\n",
    "import numpy as np\n",
    "import pymongo\n",
    "from selenium.common.exceptions import NoSuchElementException\n",
    "from cost_of_living import *\n",
    "from functools import reduce\n",
    "import matplotlib.pyplot as plt\n",
    "%matplotlib inline\n",
    "from hidden import debt\n",
    "from math import cos, sqrt"
   ]
  },
  {
   "cell_type": "code",
   "execution_count": null,
   "metadata": {
    "ExecuteTime": {
     "end_time": "2018-09-09T12:06:57.187314Z",
     "start_time": "2018-09-09T12:06:57.084809Z"
    }
   },
   "outputs": [],
   "source": [
    "data = pd.read_excel('data/citydf.xlsx')\n",
    "data['city'].replace('Washington', \"Washington D.C.\", inplace=True)"
   ]
  },
  {
   "cell_type": "markdown",
   "metadata": {},
   "source": [
    "### Check Data for missing values --> Which appear to be denoted as '?'"
   ]
  },
  {
   "cell_type": "code",
   "execution_count": 20,
   "metadata": {
    "ExecuteTime": {
     "end_time": "2018-09-09T12:11:20.303328Z",
     "start_time": "2018-09-09T12:11:20.263301Z"
    }
   },
   "outputs": [
    {
     "data": {
      "text/html": [
       "<div>\n",
       "<style scoped>\n",
       "    .dataframe tbody tr th:only-of-type {\n",
       "        vertical-align: middle;\n",
       "    }\n",
       "\n",
       "    .dataframe tbody tr th {\n",
       "        vertical-align: top;\n",
       "    }\n",
       "\n",
       "    .dataframe thead th {\n",
       "        text-align: right;\n",
       "    }\n",
       "</style>\n",
       "<table border=\"1\" class=\"dataframe\">\n",
       "  <thead>\n",
       "    <tr style=\"text-align: right;\">\n",
       "      <th></th>\n",
       "      <th>category</th>\n",
       "      <th>city</th>\n",
       "      <th>item</th>\n",
       "      <th>price</th>\n",
       "    </tr>\n",
       "  </thead>\n",
       "  <tbody>\n",
       "    <tr>\n",
       "      <th>28</th>\n",
       "      <td>Transportation</td>\n",
       "      <td>Palo-Alto</td>\n",
       "      <td>Monthly Pass (Regular Price)</td>\n",
       "      <td>?</td>\n",
       "    </tr>\n",
       "    <tr>\n",
       "      <th>796</th>\n",
       "      <td>Markets</td>\n",
       "      <td>Mountain-View</td>\n",
       "      <td>Cigarettes 20 Pack (Marlboro)</td>\n",
       "      <td>?</td>\n",
       "    </tr>\n",
       "    <tr>\n",
       "      <th>1240</th>\n",
       "      <td>Transportation</td>\n",
       "      <td>Irvine</td>\n",
       "      <td>Taxi 1 mile (Normal Tariff)</td>\n",
       "      <td>?</td>\n",
       "    </tr>\n",
       "    <tr>\n",
       "      <th>1515</th>\n",
       "      <td>Transportation</td>\n",
       "      <td>Plano</td>\n",
       "      <td>Taxi 1 mile (Normal Tariff)</td>\n",
       "      <td>?</td>\n",
       "    </tr>\n",
       "    <tr>\n",
       "      <th>1516</th>\n",
       "      <td>Transportation</td>\n",
       "      <td>Plano</td>\n",
       "      <td>Taxi 1hour Waiting (Normal Tariff)</td>\n",
       "      <td>?</td>\n",
       "    </tr>\n",
       "  </tbody>\n",
       "</table>\n",
       "</div>"
      ],
      "text/plain": [
       "            category           city                                item price\n",
       "28    Transportation      Palo-Alto        Monthly Pass (Regular Price)     ?\n",
       "796          Markets  Mountain-View       Cigarettes 20 Pack (Marlboro)     ?\n",
       "1240  Transportation         Irvine         Taxi 1 mile (Normal Tariff)     ?\n",
       "1515  Transportation          Plano         Taxi 1 mile (Normal Tariff)     ?\n",
       "1516  Transportation          Plano  Taxi 1hour Waiting (Normal Tariff)     ?"
      ]
     },
     "execution_count": 20,
     "metadata": {},
     "output_type": "execute_result"
    }
   ],
   "source": [
    "data[data['price'] == '?']"
   ]
  },
  {
   "cell_type": "markdown",
   "metadata": {},
   "source": [
    "### Write function to find lat_long of a city"
   ]
  },
  {
   "cell_type": "code",
   "execution_count": 32,
   "metadata": {
    "ExecuteTime": {
     "end_time": "2018-09-09T12:38:09.647165Z",
     "start_time": "2018-09-09T12:38:09.379956Z"
    }
   },
   "outputs": [],
   "source": [
    "from geopy.geocoders import Nominatim\n",
    "def find_lat_long(city):\n",
    "    geolocator = Nominatim(user_agent=\"LifestyleDesign\")\n",
    "    location = geolocator.geocode(city)\n",
    "    return location[1]"
   ]
  },
  {
   "cell_type": "code",
   "execution_count": null,
   "metadata": {
    "ExecuteTime": {
     "end_time": "2018-09-09T12:49:24.042267Z",
     "start_time": "2018-09-09T12:49:03.491247Z"
    }
   },
   "outputs": [],
   "source": [
    "data['lat_long'] = data['city'].apply(find_lat_long)"
   ]
  },
  {
   "cell_type": "markdown",
   "metadata": {},
   "source": [
    "### For efficieny, we'll calculate the lat_long once for each city and map that value to each city"
   ]
  },
  {
   "cell_type": "code",
   "execution_count": 54,
   "metadata": {
    "ExecuteTime": {
     "end_time": "2018-09-09T12:47:46.322928Z",
     "start_time": "2018-09-09T12:47:46.292911Z"
    }
   },
   "outputs": [],
   "source": [
    "cities = data.city.unique()"
   ]
  },
  {
   "cell_type": "code",
   "execution_count": 62,
   "metadata": {
    "ExecuteTime": {
     "end_time": "2018-09-09T12:59:39.392815Z",
     "start_time": "2018-09-09T12:59:14.445706Z"
    }
   },
   "outputs": [],
   "source": [
    "city_lat_long = {}\n",
    "for city in cities:\n",
    "    city_lat_long[city] = find_lat_long(city)"
   ]
  },
  {
   "cell_type": "code",
   "execution_count": 64,
   "metadata": {
    "ExecuteTime": {
     "end_time": "2018-09-09T13:00:30.127386Z",
     "start_time": "2018-09-09T13:00:30.088563Z"
    }
   },
   "outputs": [],
   "source": [
    "data[\"lat_long\"] = data[\"city\"].map(city_lat_long)"
   ]
  },
  {
   "cell_type": "markdown",
   "metadata": {},
   "source": [
    "### Now, we'll write a function to find the closest city to each city (using the lat_long distance). This can POTENTIALLY allow us to fill in missing values."
   ]
  },
  {
   "cell_type": "code",
   "execution_count": 136,
   "metadata": {
    "ExecuteTime": {
     "end_time": "2018-09-09T13:32:44.062701Z",
     "start_time": "2018-09-09T13:32:44.034304Z"
    }
   },
   "outputs": [],
   "source": [
    "from math import cos, asin, sqrt\n",
    "\n",
    "def find_distance(lat1, lon1, lat2, lon2):\n",
    "    p = 0.017453292519943295\n",
    "    a = 0.5 - cos((lat2-lat1)*p)/2 + cos(lat1*p)*cos(lat2*p) * (1-cos((lon2-lon1)*p)) / 2\n",
    "    return 12742 * asin(sqrt(a))\n",
    "\n",
    "def closest_city(lat_long):\n",
    "    closest = {}\n",
    "    for k,v in city_lat_long.items():\n",
    "        if v == lat_long:\n",
    "            pass\n",
    "        else:\n",
    "            distance = find_distance(lat_long[0], lat_long[1], v[0], v[1])\n",
    "            closest[k] = distance\n",
    "    return min(closest.keys(), key=closest.__getitem__)"
   ]
  },
  {
   "cell_type": "code",
   "execution_count": 137,
   "metadata": {
    "ExecuteTime": {
     "end_time": "2018-09-09T13:32:44.328302Z",
     "start_time": "2018-09-09T13:32:44.288240Z"
    }
   },
   "outputs": [
    {
     "data": {
      "text/plain": [
       "(37.4455862, -122.1619289)"
      ]
     },
     "execution_count": 137,
     "metadata": {},
     "output_type": "execute_result"
    }
   ],
   "source": [
    "data.loc[0][4]"
   ]
  },
  {
   "cell_type": "code",
   "execution_count": 138,
   "metadata": {
    "ExecuteTime": {
     "end_time": "2018-09-09T13:32:44.616780Z",
     "start_time": "2018-09-09T13:32:44.585064Z"
    }
   },
   "outputs": [
    {
     "data": {
      "text/plain": [
       "'Mountain-View'"
      ]
     },
     "execution_count": 138,
     "metadata": {},
     "output_type": "execute_result"
    }
   ],
   "source": [
    "closest_city(data.loc[0][4])"
   ]
  },
  {
   "cell_type": "markdown",
   "metadata": {
    "ExecuteTime": {
     "end_time": "2018-09-09T13:27:24.201641Z",
     "start_time": "2018-09-09T13:27:24.164256Z"
    }
   },
   "source": [
    "### Create a dict of each city and it's closest city"
   ]
  },
  {
   "cell_type": "code",
   "execution_count": 148,
   "metadata": {
    "ExecuteTime": {
     "end_time": "2018-09-09T13:40:21.170487Z",
     "start_time": "2018-09-09T13:40:21.138430Z"
    }
   },
   "outputs": [],
   "source": [
    "city_neighbor = {}\n",
    "for city, lat_long in city_lat_long.items():\n",
    "    city_neighbor[city] = closest_city(lat_long)"
   ]
  },
  {
   "cell_type": "markdown",
   "metadata": {},
   "source": [
    "### Map neighbors to city in dataframe"
   ]
  },
  {
   "cell_type": "code",
   "execution_count": 150,
   "metadata": {
    "ExecuteTime": {
     "end_time": "2018-09-09T13:41:55.862934Z",
     "start_time": "2018-09-09T13:41:55.660363Z"
    }
   },
   "outputs": [],
   "source": [
    "data[\"city_neighbor\"] = data[\"city\"].map(city_neighbor)"
   ]
  },
  {
   "cell_type": "markdown",
   "metadata": {},
   "source": [
    "### Begin writing function to replace missing prices with city neighbors"
   ]
  },
  {
   "cell_type": "code",
   "execution_count": 207,
   "metadata": {
    "ExecuteTime": {
     "end_time": "2018-09-09T14:26:15.610118Z",
     "start_time": "2018-09-09T14:26:15.581349Z"
    }
   },
   "outputs": [],
   "source": [
    "def find_neighbor_price(city, item):\n",
    "    neighbor = city_neighbor[city]\n",
    "    price = data.loc[(data['city'] == neighbor) & data['item'].isin([item])]['price'].values[0]\n",
    "    return (f\"Neighbor: {neighbor}, Price: {price}\")"
   ]
  },
  {
   "cell_type": "code",
   "execution_count": 208,
   "metadata": {
    "ExecuteTime": {
     "end_time": "2018-09-09T14:26:15.968164Z",
     "start_time": "2018-09-09T14:26:15.930892Z"
    }
   },
   "outputs": [
    {
     "data": {
      "text/plain": [
       "'Neighbor: Mountain-View, Price: 70.00'"
      ]
     },
     "execution_count": 208,
     "metadata": {},
     "output_type": "execute_result"
    }
   ],
   "source": [
    "find_neighbor_price('Palo-Alto', 'Monthly Pass (Regular Price)')"
   ]
  },
  {
   "cell_type": "markdown",
   "metadata": {},
   "source": [
    "## Write a function to produce cost-of-living in multiple cities"
   ]
  },
  {
   "cell_type": "code",
   "execution_count": 233,
   "metadata": {
    "ExecuteTime": {
     "end_time": "2018-09-11T20:44:49.850045Z",
     "start_time": "2018-09-11T20:44:49.812146Z"
    }
   },
   "outputs": [],
   "source": [
    "monthly_constants = {\n",
    "'Cinema, International Release, 1 Seat' : 2,\n",
    "'Fitness Club, Monthly Fee for 1 Adult' : 2,\n",
    "'Basic (Electricity, Heating, Cooling, Water, Garbage) for 915 sq ft Apartment' : 1,\n",
    "'Internet (60 Mbps or More, Unlimited Data, Cable/ADSL)' : 1,\n",
    "'Gasoline (1 gallon)' : 15,\n",
    "'Imported Beer (11.2 oz small bottle)' : 10,\n",
    "'Bottle of Wine (Mid-Range)' : 2,\n",
    "'Cappuccino (regular)'  : 30,\n",
    "'Meal, Inexpensive Restaurant' : 8,\n",
    "'1 Pair of Jeans (Levis 501 Or Similar)' : 1,\n",
    "'groceries (dollars)': 600\n",
    "}\n",
    "\n",
    "def cost_per_city_1B_Center(citydf):\n",
    "    for city in citydf.city.unique():\n",
    "        total = 0\n",
    "        for item, price in monthly_constants.items():\n",
    "            if item != 'groceries (dollars)':\n",
    "                price = float(citydf[(citydf['city']==city) & (citydf['item']==item)].values[0][3]) * price\n",
    "                total += price\n",
    "            else:\n",
    "                total += price\n",
    "        total += (float(citydf[(citydf['city']==city) & \n",
    "                               (citydf['item']=='Apartment (1 bedroom) in City Centre')].values[0][3]))\n",
    "        result = {\n",
    "        'city' : city,\n",
    "        '1_Bed_Center_Total' : total\n",
    "                  }\n",
    "        yield result\n",
    "        \n",
    "def cost_per_city_3B_Center(citydf):\n",
    "    for city in citydf.city.unique():\n",
    "        total = 0\n",
    "        for item, price in monthly_constants.items():\n",
    "            if item != 'groceries (dollars)':\n",
    "                price = float(citydf[(citydf['city']==city) & (citydf['item']==item)].values[0][3]) * price\n",
    "                total += price\n",
    "            else:\n",
    "                total += price\n",
    "        total += round((float(citydf[(citydf['city']==city) & \n",
    "                               (citydf['item']=='Apartment (3 bedrooms) in City Centre')].values[0][3]) / 3),2)\n",
    "        result = {\n",
    "        'city' : city,\n",
    "        '3_Bed_Center_Total' : total\n",
    "                  }\n",
    "        yield result\n",
    "\n",
    "def cost_per_city_3B_Outside(citydf):\n",
    "    for city in citydf.city.unique():\n",
    "        total = 0\n",
    "        for item, price in monthly_constants.items():\n",
    "            if item != 'groceries (dollars)':\n",
    "                price = float(citydf[(citydf['city']==city) & (citydf['item']==item)].values[0][3]) * price\n",
    "                total += price\n",
    "            else:\n",
    "                total += price\n",
    "        total += round(((float(citydf[(citydf['city']==city) & \n",
    "                               (citydf['item']=='Apartment (3 bedrooms) Outside of Centre')].values[0][3])) / 3),2)\n",
    "        result = {\n",
    "        'city' : city,\n",
    "        '3_Bed_Outside_Total' : total\n",
    "                  }\n",
    "        yield result\n",
    "\n",
    "def cost_per_city_1B_Outside(citydf):\n",
    "    for city in citydf.city.unique():\n",
    "        total = 0\n",
    "        for item, price in monthly_constants.items():\n",
    "            if item != 'groceries (dollars)':\n",
    "                price = float(citydf[(citydf['city']==city) & (citydf['item']==item)].values[0][3]) * price\n",
    "                total += price\n",
    "            else:\n",
    "                total += price\n",
    "        total += (float(citydf[(citydf['city']==city) & \n",
    "                               (citydf['item']=='Apartment (1 bedroom) Outside of Centre')].values[0][3]))\n",
    "        result = {\n",
    "        'city' : city,\n",
    "        '1_Bed_Outside_Total' : total\n",
    "                  }\n",
    "        yield result"
   ]
  },
  {
   "cell_type": "code",
   "execution_count": 235,
   "metadata": {
    "ExecuteTime": {
     "end_time": "2018-09-11T20:45:14.640263Z",
     "start_time": "2018-09-11T20:45:13.432506Z"
    }
   },
   "outputs": [],
   "source": [
    "B1_center = pd.DataFrame(list(cost_per_city_1B_Center(data)))\n",
    "B3_center = pd.DataFrame(list(cost_per_city_3B_Center(data)))\n",
    "B1_Outside = pd.DataFrame(list(cost_per_city_1B_Outside(data)))\n",
    "B3_Outside = pd.DataFrame(list(cost_per_city_3B_Outside(data)))"
   ]
  },
  {
   "cell_type": "code",
   "execution_count": 236,
   "metadata": {
    "ExecuteTime": {
     "end_time": "2018-09-11T20:45:16.027630Z",
     "start_time": "2018-09-11T20:45:15.989061Z"
    }
   },
   "outputs": [],
   "source": [
    "B1_center.set_index('city', inplace=True)\n",
    "B3_center.set_index('city', inplace=True)\n",
    "B1_Outside.set_index('city', inplace=True)\n",
    "B3_Outside.set_index('city', inplace=True)"
   ]
  },
  {
   "cell_type": "code",
   "execution_count": 237,
   "metadata": {
    "ExecuteTime": {
     "end_time": "2018-09-11T20:45:18.402824Z",
     "start_time": "2018-09-11T20:45:18.369974Z"
    }
   },
   "outputs": [],
   "source": [
    "dfs = [B1_center, B3_center, B1_Outside, B3_Outside]\n",
    "city_matrix = pd.concat(dfs, axis=1)\n",
    "city_matrix['city'] = city_matrix.index\n",
    "city_matrix.drop(columns='city', inplace=True)"
   ]
  },
  {
   "cell_type": "code",
   "execution_count": 238,
   "metadata": {
    "ExecuteTime": {
     "end_time": "2018-09-11T20:45:19.614981Z",
     "start_time": "2018-09-11T20:45:19.580513Z"
    }
   },
   "outputs": [
    {
     "data": {
      "text/html": [
       "<div>\n",
       "<style scoped>\n",
       "    .dataframe tbody tr th:only-of-type {\n",
       "        vertical-align: middle;\n",
       "    }\n",
       "\n",
       "    .dataframe tbody tr th {\n",
       "        vertical-align: top;\n",
       "    }\n",
       "\n",
       "    .dataframe thead th {\n",
       "        text-align: right;\n",
       "    }\n",
       "</style>\n",
       "<table border=\"1\" class=\"dataframe\">\n",
       "  <thead>\n",
       "    <tr style=\"text-align: right;\">\n",
       "      <th></th>\n",
       "      <th>1_Bed_Center_Total</th>\n",
       "      <th>3_Bed_Center_Total</th>\n",
       "      <th>1_Bed_Outside_Total</th>\n",
       "      <th>3_Bed_Outside_Total</th>\n",
       "    </tr>\n",
       "    <tr>\n",
       "      <th>city</th>\n",
       "      <th></th>\n",
       "      <th></th>\n",
       "      <th></th>\n",
       "      <th></th>\n",
       "    </tr>\n",
       "  </thead>\n",
       "  <tbody>\n",
       "    <tr>\n",
       "      <th>Palo-Alto</th>\n",
       "      <td>4387.48</td>\n",
       "      <td>3127.55</td>\n",
       "      <td>4094.21</td>\n",
       "      <td>2871.99</td>\n",
       "    </tr>\n",
       "    <tr>\n",
       "      <th>San-Jose</th>\n",
       "      <td>3714.08</td>\n",
       "      <td>2500.71</td>\n",
       "      <td>3456.40</td>\n",
       "      <td>2415.23</td>\n",
       "    </tr>\n",
       "    <tr>\n",
       "      <th>Portland</th>\n",
       "      <td>2864.56</td>\n",
       "      <td>2296.22</td>\n",
       "      <td>2485.55</td>\n",
       "      <td>1980.12</td>\n",
       "    </tr>\n",
       "    <tr>\n",
       "      <th>Austin</th>\n",
       "      <td>2969.98</td>\n",
       "      <td>2289.77</td>\n",
       "      <td>2399.66</td>\n",
       "      <td>1943.74</td>\n",
       "    </tr>\n",
       "    <tr>\n",
       "      <th>Denver</th>\n",
       "      <td>2907.57</td>\n",
       "      <td>2211.63</td>\n",
       "      <td>2574.14</td>\n",
       "      <td>1982.24</td>\n",
       "    </tr>\n",
       "    <tr>\n",
       "      <th>San-Diego</th>\n",
       "      <td>3210.41</td>\n",
       "      <td>2406.10</td>\n",
       "      <td>2804.00</td>\n",
       "      <td>2184.68</td>\n",
       "    </tr>\n",
       "    <tr>\n",
       "      <th>Washington D.C.</th>\n",
       "      <td>3517.34</td>\n",
       "      <td>2701.31</td>\n",
       "      <td>3064.00</td>\n",
       "      <td>2314.06</td>\n",
       "    </tr>\n",
       "    <tr>\n",
       "      <th>Boston</th>\n",
       "      <td>3821.77</td>\n",
       "      <td>2853.61</td>\n",
       "      <td>3136.72</td>\n",
       "      <td>2316.74</td>\n",
       "    </tr>\n",
       "    <tr>\n",
       "      <th>San-Francisco</th>\n",
       "      <td>4806.91</td>\n",
       "      <td>3329.76</td>\n",
       "      <td>4053.38</td>\n",
       "      <td>2852.41</td>\n",
       "    </tr>\n",
       "    <tr>\n",
       "      <th>Seattle</th>\n",
       "      <td>3375.61</td>\n",
       "      <td>2609.09</td>\n",
       "      <td>2866.58</td>\n",
       "      <td>2216.39</td>\n",
       "    </tr>\n",
       "    <tr>\n",
       "      <th>Atlanta</th>\n",
       "      <td>2826.20</td>\n",
       "      <td>2212.82</td>\n",
       "      <td>2369.24</td>\n",
       "      <td>1879.63</td>\n",
       "    </tr>\n",
       "    <tr>\n",
       "      <th>Los-Angeles</th>\n",
       "      <td>3482.61</td>\n",
       "      <td>2646.62</td>\n",
       "      <td>3036.76</td>\n",
       "      <td>2310.66</td>\n",
       "    </tr>\n",
       "    <tr>\n",
       "      <th>Chicago</th>\n",
       "      <td>3078.89</td>\n",
       "      <td>2405.30</td>\n",
       "      <td>2463.50</td>\n",
       "      <td>1993.23</td>\n",
       "    </tr>\n",
       "    <tr>\n",
       "      <th>New-York</th>\n",
       "      <td>4646.15</td>\n",
       "      <td>3593.82</td>\n",
       "      <td>3414.25</td>\n",
       "      <td>2594.11</td>\n",
       "    </tr>\n",
       "    <tr>\n",
       "      <th>Mountain-View</th>\n",
       "      <td>4161.09</td>\n",
       "      <td>2832.76</td>\n",
       "      <td>3674.42</td>\n",
       "      <td>2641.09</td>\n",
       "    </tr>\n",
       "    <tr>\n",
       "      <th>Santa-Monica</th>\n",
       "      <td>3877.65</td>\n",
       "      <td>3380.75</td>\n",
       "      <td>3464.08</td>\n",
       "      <td>2842.65</td>\n",
       "    </tr>\n",
       "    <tr>\n",
       "      <th>Cambridge</th>\n",
       "      <td>2314.90</td>\n",
       "      <td>1854.07</td>\n",
       "      <td>2086.22</td>\n",
       "      <td>1725.55</td>\n",
       "    </tr>\n",
       "    <tr>\n",
       "      <th>Salt-Lake-City</th>\n",
       "      <td>2440.12</td>\n",
       "      <td>1880.80</td>\n",
       "      <td>2099.88</td>\n",
       "      <td>1722.83</td>\n",
       "    </tr>\n",
       "    <tr>\n",
       "      <th>Raleigh</th>\n",
       "      <td>2463.53</td>\n",
       "      <td>1879.52</td>\n",
       "      <td>2220.98</td>\n",
       "      <td>1737.42</td>\n",
       "    </tr>\n",
       "    <tr>\n",
       "      <th>Nashville</th>\n",
       "      <td>2872.34</td>\n",
       "      <td>2253.19</td>\n",
       "      <td>2374.51</td>\n",
       "      <td>1918.48</td>\n",
       "    </tr>\n",
       "    <tr>\n",
       "      <th>Sunnyvale</th>\n",
       "      <td>4161.60</td>\n",
       "      <td>2806.31</td>\n",
       "      <td>3640.97</td>\n",
       "      <td>2542.65</td>\n",
       "    </tr>\n",
       "    <tr>\n",
       "      <th>Boulder</th>\n",
       "      <td>2824.38</td>\n",
       "      <td>2341.05</td>\n",
       "      <td>2562.76</td>\n",
       "      <td>2122.53</td>\n",
       "    </tr>\n",
       "    <tr>\n",
       "      <th>Irvine</th>\n",
       "      <td>3353.58</td>\n",
       "      <td>2384.34</td>\n",
       "      <td>3143.25</td>\n",
       "      <td>2270.99</td>\n",
       "    </tr>\n",
       "    <tr>\n",
       "      <th>Philadelphia</th>\n",
       "      <td>2893.43</td>\n",
       "      <td>2273.30</td>\n",
       "      <td>2368.40</td>\n",
       "      <td>1881.41</td>\n",
       "    </tr>\n",
       "    <tr>\n",
       "      <th>Dallas</th>\n",
       "      <td>2590.93</td>\n",
       "      <td>2092.87</td>\n",
       "      <td>2255.06</td>\n",
       "      <td>1867.09</td>\n",
       "    </tr>\n",
       "    <tr>\n",
       "      <th>Bellevue</th>\n",
       "      <td>3430.36</td>\n",
       "      <td>2473.14</td>\n",
       "      <td>3130.89</td>\n",
       "      <td>2220.37</td>\n",
       "    </tr>\n",
       "    <tr>\n",
       "      <th>Charlotte</th>\n",
       "      <td>2717.21</td>\n",
       "      <td>2051.36</td>\n",
       "      <td>2269.79</td>\n",
       "      <td>1797.04</td>\n",
       "    </tr>\n",
       "    <tr>\n",
       "      <th>Plano</th>\n",
       "      <td>2489.02</td>\n",
       "      <td>2043.78</td>\n",
       "      <td>2259.89</td>\n",
       "      <td>1905.69</td>\n",
       "    </tr>\n",
       "    <tr>\n",
       "      <th>Richmond</th>\n",
       "      <td>2409.60</td>\n",
       "      <td>1833.64</td>\n",
       "      <td>2187.77</td>\n",
       "      <td>1713.20</td>\n",
       "    </tr>\n",
       "  </tbody>\n",
       "</table>\n",
       "</div>"
      ],
      "text/plain": [
       "                 1_Bed_Center_Total  3_Bed_Center_Total  1_Bed_Outside_Total  \\\n",
       "city                                                                           \n",
       "Palo-Alto                   4387.48             3127.55              4094.21   \n",
       "San-Jose                    3714.08             2500.71              3456.40   \n",
       "Portland                    2864.56             2296.22              2485.55   \n",
       "Austin                      2969.98             2289.77              2399.66   \n",
       "Denver                      2907.57             2211.63              2574.14   \n",
       "San-Diego                   3210.41             2406.10              2804.00   \n",
       "Washington D.C.             3517.34             2701.31              3064.00   \n",
       "Boston                      3821.77             2853.61              3136.72   \n",
       "San-Francisco               4806.91             3329.76              4053.38   \n",
       "Seattle                     3375.61             2609.09              2866.58   \n",
       "Atlanta                     2826.20             2212.82              2369.24   \n",
       "Los-Angeles                 3482.61             2646.62              3036.76   \n",
       "Chicago                     3078.89             2405.30              2463.50   \n",
       "New-York                    4646.15             3593.82              3414.25   \n",
       "Mountain-View               4161.09             2832.76              3674.42   \n",
       "Santa-Monica                3877.65             3380.75              3464.08   \n",
       "Cambridge                   2314.90             1854.07              2086.22   \n",
       "Salt-Lake-City              2440.12             1880.80              2099.88   \n",
       "Raleigh                     2463.53             1879.52              2220.98   \n",
       "Nashville                   2872.34             2253.19              2374.51   \n",
       "Sunnyvale                   4161.60             2806.31              3640.97   \n",
       "Boulder                     2824.38             2341.05              2562.76   \n",
       "Irvine                      3353.58             2384.34              3143.25   \n",
       "Philadelphia                2893.43             2273.30              2368.40   \n",
       "Dallas                      2590.93             2092.87              2255.06   \n",
       "Bellevue                    3430.36             2473.14              3130.89   \n",
       "Charlotte                   2717.21             2051.36              2269.79   \n",
       "Plano                       2489.02             2043.78              2259.89   \n",
       "Richmond                    2409.60             1833.64              2187.77   \n",
       "\n",
       "                 3_Bed_Outside_Total  \n",
       "city                                  \n",
       "Palo-Alto                    2871.99  \n",
       "San-Jose                     2415.23  \n",
       "Portland                     1980.12  \n",
       "Austin                       1943.74  \n",
       "Denver                       1982.24  \n",
       "San-Diego                    2184.68  \n",
       "Washington D.C.              2314.06  \n",
       "Boston                       2316.74  \n",
       "San-Francisco                2852.41  \n",
       "Seattle                      2216.39  \n",
       "Atlanta                      1879.63  \n",
       "Los-Angeles                  2310.66  \n",
       "Chicago                      1993.23  \n",
       "New-York                     2594.11  \n",
       "Mountain-View                2641.09  \n",
       "Santa-Monica                 2842.65  \n",
       "Cambridge                    1725.55  \n",
       "Salt-Lake-City               1722.83  \n",
       "Raleigh                      1737.42  \n",
       "Nashville                    1918.48  \n",
       "Sunnyvale                    2542.65  \n",
       "Boulder                      2122.53  \n",
       "Irvine                       2270.99  \n",
       "Philadelphia                 1881.41  \n",
       "Dallas                       1867.09  \n",
       "Bellevue                     2220.37  \n",
       "Charlotte                    1797.04  \n",
       "Plano                        1905.69  \n",
       "Richmond                     1713.20  "
      ]
     },
     "execution_count": 238,
     "metadata": {},
     "output_type": "execute_result"
    }
   ],
   "source": [
    "city_matrix"
   ]
  },
  {
   "cell_type": "code",
   "execution_count": null,
   "metadata": {},
   "outputs": [],
   "source": []
  }
 ],
 "metadata": {
  "kernelspec": {
   "display_name": "Python 3",
   "language": "python",
   "name": "python3"
  },
  "language_info": {
   "codemirror_mode": {
    "name": "ipython",
    "version": 3
   },
   "file_extension": ".py",
   "mimetype": "text/x-python",
   "name": "python",
   "nbconvert_exporter": "python",
   "pygments_lexer": "ipython3",
   "version": "3.6.5"
  }
 },
 "nbformat": 4,
 "nbformat_minor": 2
}
