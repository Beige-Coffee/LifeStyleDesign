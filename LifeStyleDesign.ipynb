{
 "cells": [
  {
   "cell_type": "code",
   "execution_count": 3,
   "metadata": {
    "ExecuteTime": {
     "end_time": "2018-08-18T00:28:33.169524Z",
     "start_time": "2018-08-18T00:28:33.143885Z"
    },
    "scrolled": true
   },
   "outputs": [],
   "source": [
    "from selenium.webdriver import Chrome\n",
    "from bs4 import BeautifulSoup\n",
    "import pandas as pd\n",
    "import numpy as np\n",
    "import pymongo\n",
    "from selenium.common.exceptions import NoSuchElementException\n",
    "from cost_of_living import *\n",
    "from functools import reduce\n",
    "import matplotlib.pyplot as plt\n",
    "%matplotlib inline\n",
    "from hidden import debt"
   ]
  },
  {
   "cell_type": "markdown",
   "metadata": {},
   "source": [
    "## Use this to download a DataFrame to csv, pickle a DF, and unpickle a DF"
   ]
  },
  {
   "cell_type": "code",
   "execution_count": 2,
   "metadata": {
    "ExecuteTime": {
     "end_time": "2018-08-14T12:14:13.030442Z",
     "start_time": "2018-08-14T12:14:13.003157Z"
    }
   },
   "outputs": [],
   "source": [
    "#avg_salaries_df.to_csv(\"avg_salaries.csv\", index=False)\n",
    "\n",
    "##  Pickle DF ##\n",
    "#citydf.to_pickle('citydf')\n",
    "##  Unpickle DF ##\n",
    "# df = pd.read_pickle(file_name)\n",
    "\n",
    "##  Save DF to excel ##\n",
    "#writer = pd.ExcelWriter('citydf.xlsx')\n",
    "#citydf.to_excel(writer,'citydf')\n",
    "#writer.save()"
   ]
  },
  {
   "cell_type": "markdown",
   "metadata": {},
   "source": [
    "## Declare cities of interest"
   ]
  },
  {
   "cell_type": "code",
   "execution_count": 7,
   "metadata": {
    "ExecuteTime": {
     "end_time": "2018-08-15T01:58:13.727699Z",
     "start_time": "2018-08-15T01:58:13.696274Z"
    }
   },
   "outputs": [],
   "source": [
    "cities = ['Palo-Alto', 'San-Jose', 'Portland', 'Austin', 'Denver', 'San-Diego', 'Washington', 'Boston', \n",
    "                 'San-Francisco', 'Seattle', 'Atlanta', 'Los-Angeles', 'Chicago', 'New-York', 'Mountain-View',\n",
    "                 'Santa-Monica', 'Cambridge', 'Salt-Lake-City', 'Raleigh', 'Nashville', 'Sunnyvale', 'Boulder',\n",
    "                 'Irvine', 'Philadelphia', 'Dallas', 'Bellevue', \n",
    "                 'Charlotte', 'Plano', 'Richmond']"
   ]
  },
  {
   "cell_type": "markdown",
   "metadata": {
    "ExecuteTime": {
     "end_time": "2018-08-06T19:11:16.061216Z",
     "start_time": "2018-08-06T19:11:16.037767Z"
    }
   },
   "source": [
    "## Scrape Cost-Of-Living data and turn into DataFrame"
   ]
  },
  {
   "cell_type": "code",
   "execution_count": 14,
   "metadata": {
    "ExecuteTime": {
     "end_time": "2018-08-14T12:20:37.361712Z",
     "start_time": "2018-08-14T12:16:15.279383Z"
    }
   },
   "outputs": [],
   "source": [
    "city_data = list(scrape_cities(cities))"
   ]
  },
  {
   "cell_type": "code",
   "execution_count": 15,
   "metadata": {
    "ExecuteTime": {
     "end_time": "2018-08-14T12:25:44.697783Z",
     "start_time": "2018-08-14T12:25:44.646157Z"
    }
   },
   "outputs": [],
   "source": [
    "citydf = pd.DataFrame(city_data)"
   ]
  },
  {
   "cell_type": "markdown",
   "metadata": {},
   "source": [
    "## Remove characters from price columns that will cause problems later"
   ]
  },
  {
   "cell_type": "code",
   "execution_count": 16,
   "metadata": {
    "ExecuteTime": {
     "end_time": "2018-08-14T12:25:45.684016Z",
     "start_time": "2018-08-14T12:25:45.649260Z"
    }
   },
   "outputs": [],
   "source": [
    "citydf['price'] = citydf['price'].apply(lambda x : x.replace(',', '').replace('£', ''))"
   ]
  },
  {
   "cell_type": "markdown",
   "metadata": {},
   "source": [
    "## Create a monthy constants object that can be used to calculate cost-of-living expenditures that are specific for each city"
   ]
  },
  {
   "cell_type": "code",
   "execution_count": 8,
   "metadata": {
    "ExecuteTime": {
     "end_time": "2018-08-15T01:58:16.588905Z",
     "start_time": "2018-08-15T01:58:16.564188Z"
    }
   },
   "outputs": [],
   "source": [
    "monthly_constants = {\n",
    "'Cinema, International Release, 1 Seat' : 2,\n",
    "'Fitness Club, Monthly Fee for 1 Adult' : 2,\n",
    "'Basic (Electricity, Heating, Cooling, Water, Garbage) for 915 sq ft Apartment' : 1,\n",
    "'Internet (60 Mbps or More, Unlimited Data, Cable/ADSL)' : 1,\n",
    "'Gasoline (1 gallon)' : 15,\n",
    "'Imported Beer (11.2 oz small bottle)' : 10,\n",
    "'Bottle of Wine (Mid-Range)' : 2,\n",
    "'Cappuccino (regular)'  : 30,\n",
    "'Meal, Inexpensive Restaurant' : 8,\n",
    "'1 Pair of Jeans (Levis 501 Or Similar)' : 1\n",
    "}"
   ]
  },
  {
   "cell_type": "markdown",
   "metadata": {},
   "source": [
    "## Write funcions to calculate the specific cost-of-living for 4 different prespecified living situations"
   ]
  },
  {
   "cell_type": "code",
   "execution_count": 9,
   "metadata": {
    "ExecuteTime": {
     "end_time": "2018-08-15T01:58:18.508038Z",
     "start_time": "2018-08-15T01:58:18.480332Z"
    }
   },
   "outputs": [],
   "source": [
    "def cost_per_city_1B_Center(citydf, cities):\n",
    "    for city in cities:\n",
    "        total = 0\n",
    "        for item, price in monthly_constants.items():\n",
    "            price = float(citydf[(citydf['city']==city) & (citydf['item']==item)].values[0][3]) * price\n",
    "            total += price\n",
    "        total += 600 # for groceries & transportation\n",
    "        total += (float(citydf[(citydf['city']==city) & \n",
    "                               (citydf['item']=='Apartment (1 bedroom) in City Centre')].values[0][3]))\n",
    "        result = {\n",
    "        'city' : city,\n",
    "        '1_Bed_Center_Total' : total\n",
    "                  }\n",
    "        yield result"
   ]
  },
  {
   "cell_type": "code",
   "execution_count": 10,
   "metadata": {
    "ExecuteTime": {
     "end_time": "2018-08-15T01:58:18.780792Z",
     "start_time": "2018-08-15T01:58:18.753172Z"
    }
   },
   "outputs": [],
   "source": [
    "def cost_per_city_3B_Center(citydf, cities):\n",
    "    for city in cities:\n",
    "        total = 0\n",
    "        for item, price in monthly_constants.items():\n",
    "            price = float(citydf[(citydf['city']==city) & (citydf['item']==item)].values[0][3]) * price\n",
    "            total += price\n",
    "        total += 600 # for groceries & transportation\n",
    "        total += round((float(citydf[(citydf['city']==city) & \n",
    "                               (citydf['item']=='Apartment (3 bedrooms) in City Centre')].values[0][3]) / 3),2)\n",
    "        result = {\n",
    "        'city' : city,\n",
    "        '3_Bed_Center_Total' : total\n",
    "                  }\n",
    "        yield result"
   ]
  },
  {
   "cell_type": "code",
   "execution_count": 11,
   "metadata": {
    "ExecuteTime": {
     "end_time": "2018-08-15T01:58:19.014166Z",
     "start_time": "2018-08-15T01:58:18.984975Z"
    }
   },
   "outputs": [],
   "source": [
    "def cost_per_city_3B_Outside(citydf, cities):\n",
    "    for city in cities:\n",
    "        total = 0\n",
    "        for item, price in monthly_constants.items():\n",
    "            price = float(citydf[(citydf['city']==city) & (citydf['item']==item)].values[0][3]) * price\n",
    "            total += price\n",
    "        total += 600 # for groceries & transportation\n",
    "        total += round(((float(citydf[(citydf['city']==city) & \n",
    "                               (citydf['item']=='Apartment (3 bedrooms) Outside of Centre')].values[0][3])) / 3),2)\n",
    "        result = {\n",
    "        'city' : city,\n",
    "        '3_Bed_Outside_Total' : total\n",
    "                  }\n",
    "        yield result"
   ]
  },
  {
   "cell_type": "code",
   "execution_count": 12,
   "metadata": {
    "ExecuteTime": {
     "end_time": "2018-08-15T01:58:19.654619Z",
     "start_time": "2018-08-15T01:58:19.630049Z"
    }
   },
   "outputs": [],
   "source": [
    "def cost_per_city_1B_Outside(citydf, cities):\n",
    "    for city in cities:\n",
    "        total = 0\n",
    "        for item, price in monthly_constants.items():\n",
    "            price = float(citydf[(citydf['city']==city) & (citydf['item']==item)].values[0][3]) * price\n",
    "            total += price\n",
    "        total += 600 # for groceries & transportation\n",
    "        total += (float(citydf[(citydf['city']==city) & \n",
    "                               (citydf['item']=='Apartment (1 bedroom) Outside of Centre')].values[0][3]))\n",
    "        result = {\n",
    "        'city' : city,\n",
    "        '1_Bed_Outside_Total' : total\n",
    "                  }\n",
    "        yield result"
   ]
  },
  {
   "cell_type": "markdown",
   "metadata": {},
   "source": [
    "## Create a dataframe of all 4 living situations - for each city"
   ]
  },
  {
   "cell_type": "code",
   "execution_count": 22,
   "metadata": {
    "ExecuteTime": {
     "end_time": "2018-08-14T12:25:50.368556Z",
     "start_time": "2018-08-14T12:25:49.175865Z"
    }
   },
   "outputs": [],
   "source": [
    "B1_center = list(cost_per_city_1B_Center(citydf, cities))\n",
    "B3_center = list(cost_per_city_3B_Center(citydf, cities))\n",
    "B1_Outside = list(cost_per_city_1B_Outside(citydf, cities))\n",
    "B3_Outside = list(cost_per_city_3B_Outside(citydf, cities))\n",
    "B1_center = pd.DataFrame(B1_center)\n",
    "B3_center = pd.DataFrame(B3_center)\n",
    "B1_Outside = pd.DataFrame(B1_Outside)\n",
    "B3_Outside = pd.DataFrame(B3_Outside)"
   ]
  },
  {
   "cell_type": "code",
   "execution_count": 23,
   "metadata": {
    "ExecuteTime": {
     "end_time": "2018-08-14T12:25:51.150157Z",
     "start_time": "2018-08-14T12:25:51.121690Z"
    }
   },
   "outputs": [],
   "source": [
    "B1_center.set_index('city', inplace=True)\n",
    "B3_center.set_index('city', inplace=True)\n",
    "B1_Outside.set_index('city', inplace=True)\n",
    "B3_Outside.set_index('city', inplace=True)"
   ]
  },
  {
   "cell_type": "code",
   "execution_count": 24,
   "metadata": {
    "ExecuteTime": {
     "end_time": "2018-08-14T12:25:51.695172Z",
     "start_time": "2018-08-14T12:25:51.663046Z"
    }
   },
   "outputs": [],
   "source": [
    "dfs = [B1_center, B3_center, B1_Outside, B3_Outside]\n",
    "city_matrix = pd.concat(dfs, axis=1)\n",
    "city_matrix['city'] = city_matrix.index"
   ]
  },
  {
   "cell_type": "markdown",
   "metadata": {},
   "source": [
    "## Make a slim DataFrame, which includes a couple less cities, and, therefore, is a little more focused for our purposes"
   ]
  },
  {
   "cell_type": "code",
   "execution_count": 25,
   "metadata": {
    "ExecuteTime": {
     "end_time": "2018-08-14T12:25:52.725630Z",
     "start_time": "2018-08-14T12:25:52.553396Z"
    }
   },
   "outputs": [
    {
     "data": {
      "text/html": [
       "<div>\n",
       "<style scoped>\n",
       "    .dataframe tbody tr th:only-of-type {\n",
       "        vertical-align: middle;\n",
       "    }\n",
       "\n",
       "    .dataframe tbody tr th {\n",
       "        vertical-align: top;\n",
       "    }\n",
       "\n",
       "    .dataframe thead th {\n",
       "        text-align: right;\n",
       "    }\n",
       "</style>\n",
       "<table border=\"1\" class=\"dataframe\">\n",
       "  <thead>\n",
       "    <tr style=\"text-align: right;\">\n",
       "      <th></th>\n",
       "      <th>1_Bed_Center_Total</th>\n",
       "      <th>3_Bed_Center_Total</th>\n",
       "      <th>1_Bed_Outside_Total</th>\n",
       "      <th>3_Bed_Outside_Total</th>\n",
       "    </tr>\n",
       "    <tr>\n",
       "      <th>city</th>\n",
       "      <th></th>\n",
       "      <th></th>\n",
       "      <th></th>\n",
       "      <th></th>\n",
       "    </tr>\n",
       "  </thead>\n",
       "  <tbody>\n",
       "    <tr>\n",
       "      <th>Palo-Alto</th>\n",
       "      <td>4387.78</td>\n",
       "      <td>3127.85</td>\n",
       "      <td>4094.51</td>\n",
       "      <td>2872.29</td>\n",
       "    </tr>\n",
       "    <tr>\n",
       "      <th>Austin</th>\n",
       "      <td>2969.98</td>\n",
       "      <td>2289.77</td>\n",
       "      <td>2399.66</td>\n",
       "      <td>1943.74</td>\n",
       "    </tr>\n",
       "    <tr>\n",
       "      <th>Denver</th>\n",
       "      <td>2910.66</td>\n",
       "      <td>2213.23</td>\n",
       "      <td>2577.82</td>\n",
       "      <td>1985.90</td>\n",
       "    </tr>\n",
       "    <tr>\n",
       "      <th>San-Diego</th>\n",
       "      <td>3210.41</td>\n",
       "      <td>2406.10</td>\n",
       "      <td>2804.00</td>\n",
       "      <td>2184.68</td>\n",
       "    </tr>\n",
       "    <tr>\n",
       "      <th>Washington</th>\n",
       "      <td>3517.19</td>\n",
       "      <td>2701.16</td>\n",
       "      <td>3063.85</td>\n",
       "      <td>2313.91</td>\n",
       "    </tr>\n",
       "    <tr>\n",
       "      <th>Boston</th>\n",
       "      <td>3821.53</td>\n",
       "      <td>2853.37</td>\n",
       "      <td>3136.48</td>\n",
       "      <td>2316.50</td>\n",
       "    </tr>\n",
       "    <tr>\n",
       "      <th>San-Francisco</th>\n",
       "      <td>4815.12</td>\n",
       "      <td>3350.49</td>\n",
       "      <td>4076.46</td>\n",
       "      <td>2863.90</td>\n",
       "    </tr>\n",
       "    <tr>\n",
       "      <th>Seattle</th>\n",
       "      <td>3374.11</td>\n",
       "      <td>2609.85</td>\n",
       "      <td>2867.34</td>\n",
       "      <td>2217.15</td>\n",
       "    </tr>\n",
       "    <tr>\n",
       "      <th>Chicago</th>\n",
       "      <td>3078.89</td>\n",
       "      <td>2405.30</td>\n",
       "      <td>2463.50</td>\n",
       "      <td>1993.23</td>\n",
       "    </tr>\n",
       "    <tr>\n",
       "      <th>New-York</th>\n",
       "      <td>4643.37</td>\n",
       "      <td>3595.55</td>\n",
       "      <td>3423.52</td>\n",
       "      <td>2591.48</td>\n",
       "    </tr>\n",
       "    <tr>\n",
       "      <th>Mountain-View</th>\n",
       "      <td>4161.09</td>\n",
       "      <td>2832.76</td>\n",
       "      <td>3674.42</td>\n",
       "      <td>2641.09</td>\n",
       "    </tr>\n",
       "    <tr>\n",
       "      <th>Cambridge</th>\n",
       "      <td>2314.90</td>\n",
       "      <td>1854.07</td>\n",
       "      <td>2086.22</td>\n",
       "      <td>1725.55</td>\n",
       "    </tr>\n",
       "    <tr>\n",
       "      <th>Philadelphia</th>\n",
       "      <td>2893.43</td>\n",
       "      <td>2273.30</td>\n",
       "      <td>2368.40</td>\n",
       "      <td>1881.41</td>\n",
       "    </tr>\n",
       "    <tr>\n",
       "      <th>Dallas</th>\n",
       "      <td>2589.88</td>\n",
       "      <td>2094.07</td>\n",
       "      <td>2254.14</td>\n",
       "      <td>1868.29</td>\n",
       "    </tr>\n",
       "    <tr>\n",
       "      <th>Richmond</th>\n",
       "      <td>2409.60</td>\n",
       "      <td>1833.64</td>\n",
       "      <td>2187.77</td>\n",
       "      <td>1713.20</td>\n",
       "    </tr>\n",
       "  </tbody>\n",
       "</table>\n",
       "</div>"
      ],
      "text/plain": [
       "               1_Bed_Center_Total  3_Bed_Center_Total  1_Bed_Outside_Total  \\\n",
       "city                                                                         \n",
       "Palo-Alto                 4387.78             3127.85              4094.51   \n",
       "Austin                    2969.98             2289.77              2399.66   \n",
       "Denver                    2910.66             2213.23              2577.82   \n",
       "San-Diego                 3210.41             2406.10              2804.00   \n",
       "Washington                3517.19             2701.16              3063.85   \n",
       "Boston                    3821.53             2853.37              3136.48   \n",
       "San-Francisco             4815.12             3350.49              4076.46   \n",
       "Seattle                   3374.11             2609.85              2867.34   \n",
       "Chicago                   3078.89             2405.30              2463.50   \n",
       "New-York                  4643.37             3595.55              3423.52   \n",
       "Mountain-View             4161.09             2832.76              3674.42   \n",
       "Cambridge                 2314.90             1854.07              2086.22   \n",
       "Philadelphia              2893.43             2273.30              2368.40   \n",
       "Dallas                    2589.88             2094.07              2254.14   \n",
       "Richmond                  2409.60             1833.64              2187.77   \n",
       "\n",
       "               3_Bed_Outside_Total  \n",
       "city                                \n",
       "Palo-Alto                  2872.29  \n",
       "Austin                     1943.74  \n",
       "Denver                     1985.90  \n",
       "San-Diego                  2184.68  \n",
       "Washington                 2313.91  \n",
       "Boston                     2316.50  \n",
       "San-Francisco              2863.90  \n",
       "Seattle                    2217.15  \n",
       "Chicago                    1993.23  \n",
       "New-York                   2591.48  \n",
       "Mountain-View              2641.09  \n",
       "Cambridge                  1725.55  \n",
       "Philadelphia               1881.41  \n",
       "Dallas                     1868.29  \n",
       "Richmond                   1713.20  "
      ]
     },
     "execution_count": 25,
     "metadata": {},
     "output_type": "execute_result"
    }
   ],
   "source": [
    "slim_city = city_matrix.loc[city_matrix['city'].isin(['Palo-Alto', 'San_Jose', 'Austin', 'Denver', 'San-Diego', 'Washington',\n",
    "                                          'Boston', 'San-Francisco', 'Seattle', 'Los_Angeles', 'Chicago', 'New-York',\n",
    "                                         'Mountain-View', 'Cambridge', 'Philadelphia', 'Dallas', 'Richmond'])]\n",
    "slim_city.drop(columns='city')"
   ]
  },
  {
   "cell_type": "markdown",
   "metadata": {},
   "source": [
    "# Scrape Salaries"
   ]
  },
  {
   "cell_type": "markdown",
   "metadata": {},
   "source": [
    "## Write function to find salary range"
   ]
  },
  {
   "cell_type": "code",
   "execution_count": 26,
   "metadata": {
    "ExecuteTime": {
     "end_time": "2018-08-14T12:25:56.782155Z",
     "start_time": "2018-08-14T12:25:56.745861Z"
    }
   },
   "outputs": [],
   "source": [
    "salaries_dct = {\n",
    "    'palo-alto' : 'https://www.glassdoor.com/Salaries/san-jose-data-scientist-salary-SRCH_IL.0,8_IM761_KO9,23.htm',\n",
    "    'san-jose' : 'https://www.glassdoor.com/Salaries/san-jose-data-scientist-salary-SRCH_IL.0,8_IM761_KO9,23.htm',\n",
    "    'portland' : 'https://www.glassdoor.com/Salaries/portland-data-scientist-salary-SRCH_IL.0,8_IM700_KO9,23.htm',\n",
    "    'austin' : 'https://www.glassdoor.com/Salaries/austin-data-scientist-salary-SRCH_IL.0,6_IM60_KO7,21.htm',\n",
    "    'denver' : 'https://www.glassdoor.com/Salaries/denver-data-scientist-salary-SRCH_IL.0,6_IM234_KO7,21.htm',\n",
    "    'san-diego' : 'https://www.glassdoor.com/Salaries/san-diego-data-scientist-salary-SRCH_IL.0,9_IM758_KO10,24.htm',\n",
    "    'washington' : 'https://www.glassdoor.com/Salaries/washington-dc-data-scientist-salary-SRCH_IL.0,13_IM911_KO14,28.htm',\n",
    "    'boston' : 'https://www.glassdoor.com/Salaries/boston-data-scientist-salary-SRCH_IL.0,6_IM109_KO7,21.htm',\n",
    "    'san-francisco' : 'https://www.glassdoor.com/Salaries/san-francisco-data-scientist-salary-SRCH_IL.0,13_IM759_KO14,28.htm',\n",
    "    'seattle' : 'https://www.glassdoor.com/Salaries/seattle-data-scientist-salary-SRCH_IL.0,7_IM781_KO8,22.htm',\n",
    "    'atlanta' : 'https://www.glassdoor.com/Salaries/atlanta-data-scientist-salary-SRCH_IL.0,7_IM52_KO8,22.htm',\n",
    "    'los-angeles' : 'https://www.glassdoor.com/Salaries/los-angeles-data-scientist-salary-SRCH_IL.0,11_IM508_KO12,26.htm',\n",
    "    'chicago' : 'https://www.glassdoor.com/Salaries/chicago-data-scientist-salary-SRCH_IL.0,7_IM167_KO8,22.htm',\n",
    "    'new-york' : 'https://www.glassdoor.com/Salaries/new-york-city-data-scientist-salary-SRCH_IL.0,13_IM615_KO14,28.htm',\n",
    "    'mountain-view' : 'https://www.glassdoor.com/Salaries/san-jose-data-scientist-salary-SRCH_IL.0,8_IM761_KO9,23.htm',\n",
    "    'santa-monica' : 'https://www.glassdoor.com/Salaries/los-angeles-data-scientist-salary-SRCH_IL.0,11_IM508_KO12,26.htm',\n",
    "    'cambridge' : 'https://www.glassdoor.com/Salaries/boston-data-scientist-salary-SRCH_IL.0,6_IM109_KO7,21.htm',\n",
    "    'salt-lake-city' : 'https://www.glassdoor.com/Salaries/salt-lake-city-data-scientist-salary-SRCH_IL.0,14_IM755_KO15,29.htm',\n",
    "    'raleigh' : 'https://www.glassdoor.com/Salaries/raleigh-data-scientist-salary-SRCH_IL.0,7_IM714_KO8,22.htm',\n",
    "    'nashville' : 'https://www.glassdoor.com/Salaries/nashville-data-scientist-salary-SRCH_IL.0,9_IM604_KO10,24.htm',\n",
    "    'sunnyvale' : 'https://www.glassdoor.com/Salaries/san-jose-data-scientist-salary-SRCH_IL.0,8_IM761_KO9,23.htm',\n",
    "    'boulder' : 'https://www.glassdoor.com/Salaries/boulder-data-scientist-salary-SRCH_IL.0,7_IM110_KO8,22.htm',\n",
    "    'irvine' : 'https://www.glassdoor.com/Salaries/los-angeles-data-scientist-salary-SRCH_IL.0,11_IM508_KO12,26.htm',\n",
    "    'philadelphia' : 'https://www.glassdoor.com/Salaries/philadelphia-data-scientist-salary-SRCH_IL.0,12_IM676_KO13,27.htm',\n",
    "    'dallas' : 'https://www.glassdoor.com/Salaries/dallas-data-scientist-salary-SRCH_IL.0,6_IM218_KO7,21.htm',\n",
    "    'bellevue' : 'https://www.glassdoor.com/Salaries/seattle-data-scientist-salary-SRCH_IL.0,7_IM781_KO8,22.htm',\n",
    "    'charlotte' : 'https://www.glassdoor.com/Salaries/charlotte-data-scientist-salary-SRCH_IL.0,9_IM162_KO10,24.htm',\n",
    "    'Plano' : 'https://www.glassdoor.com/Salaries/dallas-data-scientist-salary-SRCH_IL.0,6_IM218_KO7,21.htm',\n",
    "    'Richmond' : 'https://www.glassdoor.com/Salaries/richmond-data-scientist-salary-SRCH_IL.0,8_IM724_KO9,23.htm',    \n",
    "}\n"
   ]
  },
  {
   "cell_type": "code",
   "execution_count": 13,
   "metadata": {
    "ExecuteTime": {
     "end_time": "2018-08-15T01:58:24.979524Z",
     "start_time": "2018-08-15T01:58:24.953721Z"
    }
   },
   "outputs": [],
   "source": [
    "def get_glassdoor_salaries(salaries_dct):\n",
    "    \"\"\" Return a dict of city, avg_salary, and, if available, min/max salaries per city.\"\"\"\n",
    "    for city, url in salaries_dct.items():\n",
    "        browser = Chrome()\n",
    "        browser.get(url)\n",
    "        sel_title = 'span.OccMedianBasePayStyle__payNumber' # This is for average salaries \n",
    "        sel_title2 = 'div.HistogramStyle__labelWrapper' # This is for the low range of salaries\n",
    "        avg_salary = browser.find_element_by_css_selector(sel_title).text.strip().strip('$').replace(',','')\n",
    "        min_salary = browser.find_element_by_css_selector(sel_title2).text.replace('K', '000').strip('\\nLow').strip('$')\n",
    "        result = {'city': city,\n",
    "                  'avg_salary': avg_salary,\n",
    "                  'min_salary': min_salary}\n",
    "        yield result\n",
    "        browser.quit()"
   ]
  },
  {
   "cell_type": "markdown",
   "metadata": {},
   "source": [
    "## Make a DataFrame of salary information for each city"
   ]
  },
  {
   "cell_type": "code",
   "execution_count": 28,
   "metadata": {
    "ExecuteTime": {
     "end_time": "2018-08-14T12:28:33.015656Z",
     "start_time": "2018-08-14T12:25:57.950783Z"
    }
   },
   "outputs": [],
   "source": [
    "glassdoor_salaries = list(get_glassdoor_salaries(salaries_dct))"
   ]
  },
  {
   "cell_type": "code",
   "execution_count": 29,
   "metadata": {
    "ExecuteTime": {
     "end_time": "2018-08-14T12:28:33.177110Z",
     "start_time": "2018-08-14T12:28:33.018606Z"
    }
   },
   "outputs": [],
   "source": [
    "glassdoor_salaries = pd.DataFrame(glassdoor_salaries)"
   ]
  },
  {
   "cell_type": "code",
   "execution_count": 30,
   "metadata": {
    "ExecuteTime": {
     "end_time": "2018-08-14T12:28:33.214777Z",
     "start_time": "2018-08-14T12:28:33.179511Z"
    }
   },
   "outputs": [],
   "source": [
    "glassdoor_columns=[\"city\", \"min_salary\", \"avg_salary\"]\n",
    "glassdoor_salaries = glassdoor_salaries.reindex(columns=glassdoor_columns)"
   ]
  },
  {
   "cell_type": "markdown",
   "metadata": {},
   "source": [
    "## Change index to match the same style (capitalization, hyphen instead of space) as other DataFrames so that we can seamlessly concatenate them"
   ]
  },
  {
   "cell_type": "code",
   "execution_count": 31,
   "metadata": {
    "ExecuteTime": {
     "end_time": "2018-08-14T12:28:34.727798Z",
     "start_time": "2018-08-14T12:28:34.698368Z"
    }
   },
   "outputs": [],
   "source": [
    "glassdoor_index = ['Palo-Alto', 'San-Jose', 'Portland', 'Austin', 'Denver', 'San-Diego',\n",
    "       'Washington', 'Boston', 'San-Francisco', 'Seattle', 'Atlanta',\n",
    "       'Los-Angeles', 'Chicago', 'New-York', 'Mountain-View', 'Santa-Monica',\n",
    "       'Cambridge', 'Salt-Lake-City', 'Raleigh', 'Nashville', 'Sunnyvale',\n",
    "       'Boulder', 'Irvine', 'Philadelphia', 'Dallas', 'Bellevue', 'Charlotte',\n",
    "       'Plano', 'Richmond']\n",
    "glassdoor_salaries.index = glassdoor_index"
   ]
  },
  {
   "cell_type": "markdown",
   "metadata": {},
   "source": [
    "## Graph min Data Science salary by city - notice that y-axis is inverted"
   ]
  },
  {
   "cell_type": "code",
   "execution_count": 32,
   "metadata": {
    "ExecuteTime": {
     "end_time": "2018-08-14T12:28:36.479002Z",
     "start_time": "2018-08-14T12:28:36.041264Z"
    }
   },
   "outputs": [
    {
     "data": {
      "text/plain": [
       "<BarContainer object of 29 artists>"
      ]
     },
     "execution_count": 32,
     "metadata": {},
     "output_type": "execute_result"
    },
    {
     "data": {
      "image/png": "[encoded data removed]",
      "text/plain": [
       "<Figure size 2016x432 with 1 Axes>"
      ]
     },
     "metadata": {},
     "output_type": "display_data"
    }
   ],
   "source": [
    "x = glassdoor_salaries.index\n",
    "y = glassdoor_salaries['min_salary']\n",
    "\n",
    "fig = plt.figure(figsize=(28,6))\n",
    "ax = fig.add_subplot(121)\n",
    "ax.set_xlabel('City')\n",
    "ax.set_ylabel('Salary')\n",
    "ax.set_title(\"Min Data Science Salary By City\")\n",
    "ax.set_xticklabels(x, rotation=90)\n",
    "ax.bar(x,y)"
   ]
  },
  {
   "cell_type": "markdown",
   "metadata": {},
   "source": [
    "# Income Taxes"
   ]
  },
  {
   "cell_type": "code",
   "execution_count": 14,
   "metadata": {
    "ExecuteTime": {
     "end_time": "2018-08-15T01:58:28.710540Z",
     "start_time": "2018-08-15T01:58:28.567176Z"
    }
   },
   "outputs": [],
   "source": [
    "income_taxes_dct = {\n",
    "    'Palo-Alto' : {'rate': .0930, 'standard_deduction' : 4236,\n",
    "                   'personal_exemption' : 114},\n",
    "    \n",
    "    'San-Jose' : {'rate': .0930, 'standard_deduction' : 4236,\n",
    "                   'personal_exemption' : 114},\n",
    "    \n",
    "    'Portland' : {'rate': .0900 , 'standard_deduction' : 2175 ,\n",
    "                   'personal_exemption' : 90},\n",
    "    \n",
    "    'Austin' : {'rate': 0, 'standard_deduction' : 0,\n",
    "                   'personal_exemption' : 0},\n",
    "    \n",
    "    'Denver' : {'rate': .0463, 'standard_deduction' : 0,\n",
    "                   'personal_exemption' : 0},\n",
    "    \n",
    "    'San-Diego' : {'rate': .0930, 'standard_deduction' : 12000,\n",
    "                   'personal_exemption' : 0},\n",
    "    \n",
    "    'Washington' : {'rate': .0850, 'standard_deduction' : 0,\n",
    "                   'personal_exemption' : 2000},\n",
    "    \n",
    "    'Boston' : {'rate': .0510, 'standard_deduction' : 0,\n",
    "                   'personal_exemption' : 4400},\n",
    "    \n",
    "    'San-Francisco' : {'rate': .0930, 'standard_deduction' : 4236,\n",
    "                   'personal_exemption' : 114},\n",
    "    \n",
    "    'Seattle' : {'rate': 0, 'standard_deduction' : 0,\n",
    "                   'personal_exemption' : 0},\n",
    "    \n",
    "    'Atlanta' : {'rate': .06, 'standard_deduction' : 4600,\n",
    "                   'personal_exemption' : 2700},\n",
    "    \n",
    "    'Los-Angeles' : {'rate': .0930, 'standard_deduction' : 4236,\n",
    "                   'personal_exemption' : 2000},\n",
    "    \n",
    "    'Chicago' : {'rate': .0495, 'standard_deduction' : 0,\n",
    "                   'personal_exemption' : 0},\n",
    "    \n",
    "    'New-York' : {'rate': .0657, 'standard_deduction' : 8000,\n",
    "                   'personal_exemption' : 0},\n",
    "    \n",
    "    'Mountain-View' : {'rate': .0930, 'standard_deduction' : 4236,\n",
    "                   'personal_exemption' : 114},\n",
    "    \n",
    "    'Santa-Monica' : {'rate': .0930, 'standard_deduction' : 4236,\n",
    "                   'personal_exemption' : 114},\n",
    "    \n",
    "    'Cambridge' : {'rate': .0510, 'standard_deduction' : 0,\n",
    "                   'personal_exemption' : 4400},\n",
    "    \n",
    "    'Salt-Lake-City' : {'rate': .050, 'standard_deduction' : 0,\n",
    "                   'personal_exemption' : 0},\n",
    "    \n",
    "    'Raleigh' : {'rate': .05499, 'standard_deduction' : 8750,\n",
    "                   'personal_exemption' :0},\n",
    "    \n",
    "    'Nashville' : {'rate': .03, 'standard_deduction' : 0,\n",
    "                   'personal_exemption' : 1250},\n",
    "    \n",
    "    'Sunnyvale' : {'rate': .0930, 'standard_deduction' : 4236,\n",
    "                   'personal_exemption' : 114},\n",
    "    \n",
    "    'Boulder' : {'rate': .0463, 'standard_deduction' : 0,\n",
    "                   'personal_exemption' : 0},\n",
    "    \n",
    "    'Irvine' : {'rate': .0930, 'standard_deduction' : 4236,\n",
    "                   'personal_exemption' : 114},\n",
    "    \n",
    "    'Philadelphia' : {'rate': .0307, 'standard_deduction' : 0,\n",
    "                   'personal_exemption' : 0},\n",
    "    \n",
    "    'Dallas' : {'rate': 0, 'standard_deduction' : 0,\n",
    "                   'personal_exemption' : 0},\n",
    "    \n",
    "    'Bellevue' : {'rate': 0, 'standard_deduction' : 0,\n",
    "                   'personal_exemption' : 0},\n",
    "    \n",
    "    'Charlotte' : {'rate': .05499, 'standard_deduction' : 8750,\n",
    "                   'personal_exemption' :0},\n",
    "    \n",
    "    'Plano' : {'rate': 0, 'standard_deduction' : 0,\n",
    "                   'personal_exemption' : 0},\n",
    "    \n",
    "    'Richmond' : {'rate': .0575, 'standard_deduction' : 3000,\n",
    "                   'personal_exemption' : 930},    \n",
    "}\n"
   ]
  },
  {
   "cell_type": "code",
   "execution_count": 30,
   "metadata": {
    "ExecuteTime": {
     "end_time": "2018-08-15T02:08:29.894185Z",
     "start_time": "2018-08-15T02:08:29.867360Z"
    }
   },
   "outputs": [],
   "source": [
    "income_taxes_dct = pd.DataFrame(income_taxes_dct).T"
   ]
  },
  {
   "cell_type": "markdown",
   "metadata": {},
   "source": [
    "# Combine Income Tax Information With Salaries"
   ]
  },
  {
   "cell_type": "code",
   "execution_count": 35,
   "metadata": {
    "ExecuteTime": {
     "end_time": "2018-08-14T12:28:39.633479Z",
     "start_time": "2018-08-14T12:28:39.606428Z"
    }
   },
   "outputs": [],
   "source": [
    "#glassdoor_salaries.set_index('city', inplace=True)\n",
    "dfs2 = [glassdoor_salaries, income_taxes_dct]\n",
    "city_incomes_taxes = pd.concat(dfs2, axis=1)"
   ]
  },
  {
   "cell_type": "markdown",
   "metadata": {},
   "source": [
    "## Cast min and max salary columns to float so that math can be performed on them"
   ]
  },
  {
   "cell_type": "code",
   "execution_count": 36,
   "metadata": {
    "ExecuteTime": {
     "end_time": "2018-08-14T12:28:42.444120Z",
     "start_time": "2018-08-14T12:28:42.408722Z"
    }
   },
   "outputs": [],
   "source": [
    "city_incomes_taxes.min_salary = city_incomes_taxes.min_salary.astype(float)\n",
    "city_incomes_taxes.avg_salary = city_incomes_taxes.avg_salary.astype(float)"
   ]
  },
  {
   "cell_type": "markdown",
   "metadata": {},
   "source": [
    "## Calculate adjusted min/average salary for each city"
   ]
  },
  {
   "cell_type": "code",
   "execution_count": 37,
   "metadata": {
    "ExecuteTime": {
     "end_time": "2018-08-14T12:28:43.354107Z",
     "start_time": "2018-08-14T12:28:43.222162Z"
    }
   },
   "outputs": [],
   "source": [
    "city_incomes_taxes['Adjusted_Min_Salary'] = (\n",
    "    city_incomes_taxes['min_salary'] - \n",
    "    (city_incomes_taxes['min_salary'] * city_incomes_taxes['rate']) - \n",
    "    city_incomes_taxes['personal_exemption'] - city_incomes_taxes['standard_deduction'])"
   ]
  },
  {
   "cell_type": "code",
   "execution_count": 38,
   "metadata": {
    "ExecuteTime": {
     "end_time": "2018-08-14T12:28:43.590272Z",
     "start_time": "2018-08-14T12:28:43.562730Z"
    }
   },
   "outputs": [],
   "source": [
    "city_incomes_taxes['Adjusted_Avg_Salary'] = (\n",
    "    city_incomes_taxes['avg_salary'] - \n",
    "    (city_incomes_taxes['avg_salary'] * city_incomes_taxes['rate']) - \n",
    "    city_incomes_taxes['personal_exemption'] - city_incomes_taxes['standard_deduction'])"
   ]
  },
  {
   "cell_type": "markdown",
   "metadata": {},
   "source": [
    "## Sort index so that we can easily concatenate this DataFrame with our Cost-Of-Living DataFrame"
   ]
  },
  {
   "cell_type": "code",
   "execution_count": 39,
   "metadata": {
    "ExecuteTime": {
     "end_time": "2018-08-14T12:28:44.437868Z",
     "start_time": "2018-08-14T12:28:44.406100Z"
    }
   },
   "outputs": [],
   "source": [
    "city_incomes_taxes.sort_index(inplace=True)"
   ]
  },
  {
   "cell_type": "markdown",
   "metadata": {
    "ExecuteTime": {
     "end_time": "2018-08-12T14:26:53.561579Z",
     "start_time": "2018-08-12T14:26:53.526162Z"
    }
   },
   "source": [
    "## Estimate Net Monthly Income For Each Living Situation"
   ]
  },
  {
   "cell_type": "code",
   "execution_count": 40,
   "metadata": {
    "ExecuteTime": {
     "end_time": "2018-08-14T12:28:45.290339Z",
     "start_time": "2018-08-14T12:28:45.237778Z"
    }
   },
   "outputs": [
    {
     "data": {
      "text/html": [
       "<div>\n",
       "<style scoped>\n",
       "    .dataframe tbody tr th:only-of-type {\n",
       "        vertical-align: middle;\n",
       "    }\n",
       "\n",
       "    .dataframe tbody tr th {\n",
       "        vertical-align: top;\n",
       "    }\n",
       "\n",
       "    .dataframe thead th {\n",
       "        text-align: right;\n",
       "    }\n",
       "</style>\n",
       "<table border=\"1\" class=\"dataframe\">\n",
       "  <thead>\n",
       "    <tr style=\"text-align: right;\">\n",
       "      <th></th>\n",
       "      <th>city</th>\n",
       "      <th>min_salary</th>\n",
       "      <th>avg_salary</th>\n",
       "      <th>personal_exemption</th>\n",
       "      <th>rate</th>\n",
       "      <th>standard_deduction</th>\n",
       "      <th>Adjusted_Min_Salary</th>\n",
       "      <th>Adjusted_Avg_Salary</th>\n",
       "      <th>1_Bed_Center_Total</th>\n",
       "      <th>3_Bed_Center_Total</th>\n",
       "      <th>1_Bed_Outside_Total</th>\n",
       "      <th>3_Bed_Outside_Total</th>\n",
       "    </tr>\n",
       "    <tr>\n",
       "      <th>city</th>\n",
       "      <th></th>\n",
       "      <th></th>\n",
       "      <th></th>\n",
       "      <th></th>\n",
       "      <th></th>\n",
       "      <th></th>\n",
       "      <th></th>\n",
       "      <th></th>\n",
       "      <th></th>\n",
       "      <th></th>\n",
       "      <th></th>\n",
       "      <th></th>\n",
       "    </tr>\n",
       "  </thead>\n",
       "  <tbody>\n",
       "    <tr>\n",
       "      <th>Atlanta</th>\n",
       "      <td>atlanta</td>\n",
       "      <td>76000.0</td>\n",
       "      <td>99680.0</td>\n",
       "      <td>2700.0</td>\n",
       "      <td>0.06000</td>\n",
       "      <td>4600.0</td>\n",
       "      <td>64140.00</td>\n",
       "      <td>86399.20000</td>\n",
       "      <td>2827.69</td>\n",
       "      <td>2214.31</td>\n",
       "      <td>2370.73</td>\n",
       "      <td>1881.12</td>\n",
       "    </tr>\n",
       "    <tr>\n",
       "      <th>Austin</th>\n",
       "      <td>austin</td>\n",
       "      <td>79000.0</td>\n",
       "      <td>103313.0</td>\n",
       "      <td>0.0</td>\n",
       "      <td>0.00000</td>\n",
       "      <td>0.0</td>\n",
       "      <td>79000.00</td>\n",
       "      <td>103313.00000</td>\n",
       "      <td>2969.98</td>\n",
       "      <td>2289.77</td>\n",
       "      <td>2399.66</td>\n",
       "      <td>1943.74</td>\n",
       "    </tr>\n",
       "    <tr>\n",
       "      <th>Bellevue</th>\n",
       "      <td>bellevue</td>\n",
       "      <td>101000.0</td>\n",
       "      <td>131112.0</td>\n",
       "      <td>0.0</td>\n",
       "      <td>0.00000</td>\n",
       "      <td>0.0</td>\n",
       "      <td>101000.00</td>\n",
       "      <td>131112.00000</td>\n",
       "      <td>3430.36</td>\n",
       "      <td>2473.14</td>\n",
       "      <td>3130.89</td>\n",
       "      <td>2220.37</td>\n",
       "    </tr>\n",
       "    <tr>\n",
       "      <th>Boston</th>\n",
       "      <td>boston</td>\n",
       "      <td>86000.0</td>\n",
       "      <td>112468.0</td>\n",
       "      <td>4400.0</td>\n",
       "      <td>0.05100</td>\n",
       "      <td>0.0</td>\n",
       "      <td>77214.00</td>\n",
       "      <td>102332.13200</td>\n",
       "      <td>3821.53</td>\n",
       "      <td>2853.37</td>\n",
       "      <td>3136.48</td>\n",
       "      <td>2316.50</td>\n",
       "    </tr>\n",
       "    <tr>\n",
       "      <th>Boulder</th>\n",
       "      <td>boulder</td>\n",
       "      <td>80000.0</td>\n",
       "      <td>104962.0</td>\n",
       "      <td>0.0</td>\n",
       "      <td>0.04630</td>\n",
       "      <td>0.0</td>\n",
       "      <td>76296.00</td>\n",
       "      <td>100102.25940</td>\n",
       "      <td>2824.38</td>\n",
       "      <td>2341.05</td>\n",
       "      <td>2562.76</td>\n",
       "      <td>2122.53</td>\n",
       "    </tr>\n",
       "    <tr>\n",
       "      <th>Cambridge</th>\n",
       "      <td>cambridge</td>\n",
       "      <td>86000.0</td>\n",
       "      <td>112468.0</td>\n",
       "      <td>4400.0</td>\n",
       "      <td>0.05100</td>\n",
       "      <td>0.0</td>\n",
       "      <td>77214.00</td>\n",
       "      <td>102332.13200</td>\n",
       "      <td>2314.90</td>\n",
       "      <td>1854.07</td>\n",
       "      <td>2086.22</td>\n",
       "      <td>1725.55</td>\n",
       "    </tr>\n",
       "    <tr>\n",
       "      <th>Charlotte</th>\n",
       "      <td>charlotte</td>\n",
       "      <td>80000.0</td>\n",
       "      <td>104647.0</td>\n",
       "      <td>0.0</td>\n",
       "      <td>0.05499</td>\n",
       "      <td>8750.0</td>\n",
       "      <td>66850.80</td>\n",
       "      <td>90142.46147</td>\n",
       "      <td>2717.21</td>\n",
       "      <td>2051.36</td>\n",
       "      <td>2269.79</td>\n",
       "      <td>1797.04</td>\n",
       "    </tr>\n",
       "    <tr>\n",
       "      <th>Chicago</th>\n",
       "      <td>chicago</td>\n",
       "      <td>79000.0</td>\n",
       "      <td>103685.0</td>\n",
       "      <td>0.0</td>\n",
       "      <td>0.04950</td>\n",
       "      <td>0.0</td>\n",
       "      <td>75089.50</td>\n",
       "      <td>98552.59250</td>\n",
       "      <td>3078.89</td>\n",
       "      <td>2405.30</td>\n",
       "      <td>2463.50</td>\n",
       "      <td>1993.23</td>\n",
       "    </tr>\n",
       "    <tr>\n",
       "      <th>Dallas</th>\n",
       "      <td>dallas</td>\n",
       "      <td>77000.0</td>\n",
       "      <td>101853.0</td>\n",
       "      <td>0.0</td>\n",
       "      <td>0.00000</td>\n",
       "      <td>0.0</td>\n",
       "      <td>77000.00</td>\n",
       "      <td>101853.00000</td>\n",
       "      <td>2589.88</td>\n",
       "      <td>2094.07</td>\n",
       "      <td>2254.14</td>\n",
       "      <td>1868.29</td>\n",
       "    </tr>\n",
       "    <tr>\n",
       "      <th>Denver</th>\n",
       "      <td>denver</td>\n",
       "      <td>76000.0</td>\n",
       "      <td>100221.0</td>\n",
       "      <td>0.0</td>\n",
       "      <td>0.04630</td>\n",
       "      <td>0.0</td>\n",
       "      <td>72481.20</td>\n",
       "      <td>95580.76770</td>\n",
       "      <td>2910.66</td>\n",
       "      <td>2213.23</td>\n",
       "      <td>2577.82</td>\n",
       "      <td>1985.90</td>\n",
       "    </tr>\n",
       "    <tr>\n",
       "      <th>Irvine</th>\n",
       "      <td>irvine</td>\n",
       "      <td>93000.0</td>\n",
       "      <td>120774.0</td>\n",
       "      <td>114.0</td>\n",
       "      <td>0.09300</td>\n",
       "      <td>4236.0</td>\n",
       "      <td>80001.00</td>\n",
       "      <td>105192.01800</td>\n",
       "      <td>3357.72</td>\n",
       "      <td>2388.25</td>\n",
       "      <td>3142.85</td>\n",
       "      <td>2275.84</td>\n",
       "    </tr>\n",
       "    <tr>\n",
       "      <th>Los-Angeles</th>\n",
       "      <td>los-angeles</td>\n",
       "      <td>93000.0</td>\n",
       "      <td>120774.0</td>\n",
       "      <td>2000.0</td>\n",
       "      <td>0.09300</td>\n",
       "      <td>4236.0</td>\n",
       "      <td>78115.00</td>\n",
       "      <td>103306.01800</td>\n",
       "      <td>3478.00</td>\n",
       "      <td>2647.25</td>\n",
       "      <td>3033.31</td>\n",
       "      <td>2315.14</td>\n",
       "    </tr>\n",
       "    <tr>\n",
       "      <th>Mountain-View</th>\n",
       "      <td>mountain-view</td>\n",
       "      <td>109000.0</td>\n",
       "      <td>141317.0</td>\n",
       "      <td>114.0</td>\n",
       "      <td>0.09300</td>\n",
       "      <td>4236.0</td>\n",
       "      <td>94513.00</td>\n",
       "      <td>123824.51900</td>\n",
       "      <td>4161.09</td>\n",
       "      <td>2832.76</td>\n",
       "      <td>3674.42</td>\n",
       "      <td>2641.09</td>\n",
       "    </tr>\n",
       "    <tr>\n",
       "      <th>Nashville</th>\n",
       "      <td>nashville</td>\n",
       "      <td>73000.0</td>\n",
       "      <td>96751.0</td>\n",
       "      <td>1250.0</td>\n",
       "      <td>0.03000</td>\n",
       "      <td>0.0</td>\n",
       "      <td>69560.00</td>\n",
       "      <td>92598.47000</td>\n",
       "      <td>2872.34</td>\n",
       "      <td>2253.19</td>\n",
       "      <td>2374.51</td>\n",
       "      <td>1918.48</td>\n",
       "    </tr>\n",
       "    <tr>\n",
       "      <th>New-York</th>\n",
       "      <td>new-york</td>\n",
       "      <td>90000.0</td>\n",
       "      <td>118225.0</td>\n",
       "      <td>0.0</td>\n",
       "      <td>0.06570</td>\n",
       "      <td>8000.0</td>\n",
       "      <td>76087.00</td>\n",
       "      <td>102457.61750</td>\n",
       "      <td>4643.37</td>\n",
       "      <td>3595.55</td>\n",
       "      <td>3423.52</td>\n",
       "      <td>2591.48</td>\n",
       "    </tr>\n",
       "    <tr>\n",
       "      <th>Palo-Alto</th>\n",
       "      <td>palo-alto</td>\n",
       "      <td>109000.0</td>\n",
       "      <td>141317.0</td>\n",
       "      <td>114.0</td>\n",
       "      <td>0.09300</td>\n",
       "      <td>4236.0</td>\n",
       "      <td>94513.00</td>\n",
       "      <td>123824.51900</td>\n",
       "      <td>4387.78</td>\n",
       "      <td>3127.85</td>\n",
       "      <td>4094.51</td>\n",
       "      <td>2872.29</td>\n",
       "    </tr>\n",
       "    <tr>\n",
       "      <th>Philadelphia</th>\n",
       "      <td>philadelphia</td>\n",
       "      <td>76000.0</td>\n",
       "      <td>99539.0</td>\n",
       "      <td>0.0</td>\n",
       "      <td>0.03070</td>\n",
       "      <td>0.0</td>\n",
       "      <td>73666.80</td>\n",
       "      <td>96483.15270</td>\n",
       "      <td>2893.43</td>\n",
       "      <td>2273.30</td>\n",
       "      <td>2368.40</td>\n",
       "      <td>1881.41</td>\n",
       "    </tr>\n",
       "    <tr>\n",
       "      <th>Plano</th>\n",
       "      <td>Plano</td>\n",
       "      <td>77000.0</td>\n",
       "      <td>101853.0</td>\n",
       "      <td>0.0</td>\n",
       "      <td>0.00000</td>\n",
       "      <td>0.0</td>\n",
       "      <td>77000.00</td>\n",
       "      <td>101853.00000</td>\n",
       "      <td>2489.02</td>\n",
       "      <td>2043.78</td>\n",
       "      <td>2259.89</td>\n",
       "      <td>1905.69</td>\n",
       "    </tr>\n",
       "    <tr>\n",
       "      <th>Portland</th>\n",
       "      <td>portland</td>\n",
       "      <td>92000.0</td>\n",
       "      <td>119754.0</td>\n",
       "      <td>90.0</td>\n",
       "      <td>0.09000</td>\n",
       "      <td>2175.0</td>\n",
       "      <td>81455.00</td>\n",
       "      <td>106711.14000</td>\n",
       "      <td>2872.38</td>\n",
       "      <td>2295.22</td>\n",
       "      <td>2486.15</td>\n",
       "      <td>1977.56</td>\n",
       "    </tr>\n",
       "    <tr>\n",
       "      <th>Raleigh</th>\n",
       "      <td>raleigh</td>\n",
       "      <td>74000.0</td>\n",
       "      <td>97731.0</td>\n",
       "      <td>0.0</td>\n",
       "      <td>0.05499</td>\n",
       "      <td>8750.0</td>\n",
       "      <td>61180.74</td>\n",
       "      <td>83606.77231</td>\n",
       "      <td>2463.53</td>\n",
       "      <td>1879.52</td>\n",
       "      <td>2220.98</td>\n",
       "      <td>1737.42</td>\n",
       "    </tr>\n",
       "    <tr>\n",
       "      <th>Richmond</th>\n",
       "      <td>Richmond</td>\n",
       "      <td>75000.0</td>\n",
       "      <td>98365.0</td>\n",
       "      <td>930.0</td>\n",
       "      <td>0.05750</td>\n",
       "      <td>3000.0</td>\n",
       "      <td>66757.50</td>\n",
       "      <td>88779.01250</td>\n",
       "      <td>2409.60</td>\n",
       "      <td>1833.64</td>\n",
       "      <td>2187.77</td>\n",
       "      <td>1713.20</td>\n",
       "    </tr>\n",
       "    <tr>\n",
       "      <th>Salt-Lake-City</th>\n",
       "      <td>salt-lake-city</td>\n",
       "      <td>76000.0</td>\n",
       "      <td>100436.0</td>\n",
       "      <td>0.0</td>\n",
       "      <td>0.05000</td>\n",
       "      <td>0.0</td>\n",
       "      <td>72200.00</td>\n",
       "      <td>95414.20000</td>\n",
       "      <td>2438.04</td>\n",
       "      <td>1879.04</td>\n",
       "      <td>2114.56</td>\n",
       "      <td>1718.61</td>\n",
       "    </tr>\n",
       "    <tr>\n",
       "      <th>San-Diego</th>\n",
       "      <td>san-diego</td>\n",
       "      <td>87000.0</td>\n",
       "      <td>114236.0</td>\n",
       "      <td>0.0</td>\n",
       "      <td>0.09300</td>\n",
       "      <td>12000.0</td>\n",
       "      <td>66909.00</td>\n",
       "      <td>91612.05200</td>\n",
       "      <td>3210.41</td>\n",
       "      <td>2406.10</td>\n",
       "      <td>2804.00</td>\n",
       "      <td>2184.68</td>\n",
       "    </tr>\n",
       "    <tr>\n",
       "      <th>San-Francisco</th>\n",
       "      <td>san-francisco</td>\n",
       "      <td>111000.0</td>\n",
       "      <td>142729.0</td>\n",
       "      <td>114.0</td>\n",
       "      <td>0.09300</td>\n",
       "      <td>4236.0</td>\n",
       "      <td>96327.00</td>\n",
       "      <td>125105.20300</td>\n",
       "      <td>4815.12</td>\n",
       "      <td>3350.49</td>\n",
       "      <td>4076.46</td>\n",
       "      <td>2863.90</td>\n",
       "    </tr>\n",
       "    <tr>\n",
       "      <th>San-Jose</th>\n",
       "      <td>san-jose</td>\n",
       "      <td>109000.0</td>\n",
       "      <td>141317.0</td>\n",
       "      <td>114.0</td>\n",
       "      <td>0.09300</td>\n",
       "      <td>4236.0</td>\n",
       "      <td>94513.00</td>\n",
       "      <td>123824.51900</td>\n",
       "      <td>3714.23</td>\n",
       "      <td>2500.36</td>\n",
       "      <td>3456.55</td>\n",
       "      <td>2415.38</td>\n",
       "    </tr>\n",
       "    <tr>\n",
       "      <th>Santa-Monica</th>\n",
       "      <td>santa-monica</td>\n",
       "      <td>93000.0</td>\n",
       "      <td>120774.0</td>\n",
       "      <td>114.0</td>\n",
       "      <td>0.09300</td>\n",
       "      <td>4236.0</td>\n",
       "      <td>80001.00</td>\n",
       "      <td>105192.01800</td>\n",
       "      <td>3821.54</td>\n",
       "      <td>3382.59</td>\n",
       "      <td>3460.36</td>\n",
       "      <td>2844.49</td>\n",
       "    </tr>\n",
       "    <tr>\n",
       "      <th>Seattle</th>\n",
       "      <td>seattle</td>\n",
       "      <td>101000.0</td>\n",
       "      <td>131112.0</td>\n",
       "      <td>0.0</td>\n",
       "      <td>0.00000</td>\n",
       "      <td>0.0</td>\n",
       "      <td>101000.00</td>\n",
       "      <td>131112.00000</td>\n",
       "      <td>3374.11</td>\n",
       "      <td>2609.85</td>\n",
       "      <td>2867.34</td>\n",
       "      <td>2217.15</td>\n",
       "    </tr>\n",
       "    <tr>\n",
       "      <th>Sunnyvale</th>\n",
       "      <td>sunnyvale</td>\n",
       "      <td>109000.0</td>\n",
       "      <td>141317.0</td>\n",
       "      <td>114.0</td>\n",
       "      <td>0.09300</td>\n",
       "      <td>4236.0</td>\n",
       "      <td>94513.00</td>\n",
       "      <td>123824.51900</td>\n",
       "      <td>4161.60</td>\n",
       "      <td>2806.31</td>\n",
       "      <td>3640.97</td>\n",
       "      <td>2542.65</td>\n",
       "    </tr>\n",
       "    <tr>\n",
       "      <th>Washington</th>\n",
       "      <td>washington</td>\n",
       "      <td>81000.0</td>\n",
       "      <td>105613.0</td>\n",
       "      <td>2000.0</td>\n",
       "      <td>0.08500</td>\n",
       "      <td>0.0</td>\n",
       "      <td>72115.00</td>\n",
       "      <td>94635.89500</td>\n",
       "      <td>3517.19</td>\n",
       "      <td>2701.16</td>\n",
       "      <td>3063.85</td>\n",
       "      <td>2313.91</td>\n",
       "    </tr>\n",
       "  </tbody>\n",
       "</table>\n",
       "</div>"
      ],
      "text/plain": [
       "                          city  min_salary  avg_salary  personal_exemption  \\\n",
       "city                                                                         \n",
       "Atlanta                atlanta     76000.0     99680.0              2700.0   \n",
       "Austin                  austin     79000.0    103313.0                 0.0   \n",
       "Bellevue              bellevue    101000.0    131112.0                 0.0   \n",
       "Boston                  boston     86000.0    112468.0              4400.0   \n",
       "Boulder                boulder     80000.0    104962.0                 0.0   \n",
       "Cambridge            cambridge     86000.0    112468.0              4400.0   \n",
       "Charlotte            charlotte     80000.0    104647.0                 0.0   \n",
       "Chicago                chicago     79000.0    103685.0                 0.0   \n",
       "Dallas                  dallas     77000.0    101853.0                 0.0   \n",
       "Denver                  denver     76000.0    100221.0                 0.0   \n",
       "Irvine                  irvine     93000.0    120774.0               114.0   \n",
       "Los-Angeles        los-angeles     93000.0    120774.0              2000.0   \n",
       "Mountain-View    mountain-view    109000.0    141317.0               114.0   \n",
       "Nashville            nashville     73000.0     96751.0              1250.0   \n",
       "New-York              new-york     90000.0    118225.0                 0.0   \n",
       "Palo-Alto            palo-alto    109000.0    141317.0               114.0   \n",
       "Philadelphia      philadelphia     76000.0     99539.0                 0.0   \n",
       "Plano                    Plano     77000.0    101853.0                 0.0   \n",
       "Portland              portland     92000.0    119754.0                90.0   \n",
       "Raleigh                raleigh     74000.0     97731.0                 0.0   \n",
       "Richmond              Richmond     75000.0     98365.0               930.0   \n",
       "Salt-Lake-City  salt-lake-city     76000.0    100436.0                 0.0   \n",
       "San-Diego            san-diego     87000.0    114236.0                 0.0   \n",
       "San-Francisco    san-francisco    111000.0    142729.0               114.0   \n",
       "San-Jose              san-jose    109000.0    141317.0               114.0   \n",
       "Santa-Monica      santa-monica     93000.0    120774.0               114.0   \n",
       "Seattle                seattle    101000.0    131112.0                 0.0   \n",
       "Sunnyvale            sunnyvale    109000.0    141317.0               114.0   \n",
       "Washington          washington     81000.0    105613.0              2000.0   \n",
       "\n",
       "                   rate  standard_deduction  Adjusted_Min_Salary  \\\n",
       "city                                                               \n",
       "Atlanta         0.06000              4600.0             64140.00   \n",
       "Austin          0.00000                 0.0             79000.00   \n",
       "Bellevue        0.00000                 0.0            101000.00   \n",
       "Boston          0.05100                 0.0             77214.00   \n",
       "Boulder         0.04630                 0.0             76296.00   \n",
       "Cambridge       0.05100                 0.0             77214.00   \n",
       "Charlotte       0.05499              8750.0             66850.80   \n",
       "Chicago         0.04950                 0.0             75089.50   \n",
       "Dallas          0.00000                 0.0             77000.00   \n",
       "Denver          0.04630                 0.0             72481.20   \n",
       "Irvine          0.09300              4236.0             80001.00   \n",
       "Los-Angeles     0.09300              4236.0             78115.00   \n",
       "Mountain-View   0.09300              4236.0             94513.00   \n",
       "Nashville       0.03000                 0.0             69560.00   \n",
       "New-York        0.06570              8000.0             76087.00   \n",
       "Palo-Alto       0.09300              4236.0             94513.00   \n",
       "Philadelphia    0.03070                 0.0             73666.80   \n",
       "Plano           0.00000                 0.0             77000.00   \n",
       "Portland        0.09000              2175.0             81455.00   \n",
       "Raleigh         0.05499              8750.0             61180.74   \n",
       "Richmond        0.05750              3000.0             66757.50   \n",
       "Salt-Lake-City  0.05000                 0.0             72200.00   \n",
       "San-Diego       0.09300             12000.0             66909.00   \n",
       "San-Francisco   0.09300              4236.0             96327.00   \n",
       "San-Jose        0.09300              4236.0             94513.00   \n",
       "Santa-Monica    0.09300              4236.0             80001.00   \n",
       "Seattle         0.00000                 0.0            101000.00   \n",
       "Sunnyvale       0.09300              4236.0             94513.00   \n",
       "Washington      0.08500                 0.0             72115.00   \n",
       "\n",
       "                Adjusted_Avg_Salary  1_Bed_Center_Total  3_Bed_Center_Total  \\\n",
       "city                                                                          \n",
       "Atlanta                 86399.20000             2827.69             2214.31   \n",
       "Austin                 103313.00000             2969.98             2289.77   \n",
       "Bellevue               131112.00000             3430.36             2473.14   \n",
       "Boston                 102332.13200             3821.53             2853.37   \n",
       "Boulder                100102.25940             2824.38             2341.05   \n",
       "Cambridge              102332.13200             2314.90             1854.07   \n",
       "Charlotte               90142.46147             2717.21             2051.36   \n",
       "Chicago                 98552.59250             3078.89             2405.30   \n",
       "Dallas                 101853.00000             2589.88             2094.07   \n",
       "Denver                  95580.76770             2910.66             2213.23   \n",
       "Irvine                 105192.01800             3357.72             2388.25   \n",
       "Los-Angeles            103306.01800             3478.00             2647.25   \n",
       "Mountain-View          123824.51900             4161.09             2832.76   \n",
       "Nashville               92598.47000             2872.34             2253.19   \n",
       "New-York               102457.61750             4643.37             3595.55   \n",
       "Palo-Alto              123824.51900             4387.78             3127.85   \n",
       "Philadelphia            96483.15270             2893.43             2273.30   \n",
       "Plano                  101853.00000             2489.02             2043.78   \n",
       "Portland               106711.14000             2872.38             2295.22   \n",
       "Raleigh                 83606.77231             2463.53             1879.52   \n",
       "Richmond                88779.01250             2409.60             1833.64   \n",
       "Salt-Lake-City          95414.20000             2438.04             1879.04   \n",
       "San-Diego               91612.05200             3210.41             2406.10   \n",
       "San-Francisco          125105.20300             4815.12             3350.49   \n",
       "San-Jose               123824.51900             3714.23             2500.36   \n",
       "Santa-Monica           105192.01800             3821.54             3382.59   \n",
       "Seattle                131112.00000             3374.11             2609.85   \n",
       "Sunnyvale              123824.51900             4161.60             2806.31   \n",
       "Washington              94635.89500             3517.19             2701.16   \n",
       "\n",
       "                1_Bed_Outside_Total  3_Bed_Outside_Total  \n",
       "city                                                      \n",
       "Atlanta                     2370.73              1881.12  \n",
       "Austin                      2399.66              1943.74  \n",
       "Bellevue                    3130.89              2220.37  \n",
       "Boston                      3136.48              2316.50  \n",
       "Boulder                     2562.76              2122.53  \n",
       "Cambridge                   2086.22              1725.55  \n",
       "Charlotte                   2269.79              1797.04  \n",
       "Chicago                     2463.50              1993.23  \n",
       "Dallas                      2254.14              1868.29  \n",
       "Denver                      2577.82              1985.90  \n",
       "Irvine                      3142.85              2275.84  \n",
       "Los-Angeles                 3033.31              2315.14  \n",
       "Mountain-View               3674.42              2641.09  \n",
       "Nashville                   2374.51              1918.48  \n",
       "New-York                    3423.52              2591.48  \n",
       "Palo-Alto                   4094.51              2872.29  \n",
       "Philadelphia                2368.40              1881.41  \n",
       "Plano                       2259.89              1905.69  \n",
       "Portland                    2486.15              1977.56  \n",
       "Raleigh                     2220.98              1737.42  \n",
       "Richmond                    2187.77              1713.20  \n",
       "Salt-Lake-City              2114.56              1718.61  \n",
       "San-Diego                   2804.00              2184.68  \n",
       "San-Francisco               4076.46              2863.90  \n",
       "San-Jose                    3456.55              2415.38  \n",
       "Santa-Monica                3460.36              2844.49  \n",
       "Seattle                     2867.34              2217.15  \n",
       "Sunnyvale                   3640.97              2542.65  \n",
       "Washington                  3063.85              2313.91  "
      ]
     },
     "execution_count": 40,
     "metadata": {},
     "output_type": "execute_result"
    }
   ],
   "source": [
    "dfs3 = [city_incomes_taxes, city_matrix.drop(columns='city').sort_index()]\n",
    "net_monthly = pd.concat(dfs3, axis=1)\n",
    "net_monthly"
   ]
  },
  {
   "cell_type": "markdown",
   "metadata": {},
   "source": [
    "## Calculate the Net Monthly total for each of the 4 predetermined living scenarios"
   ]
  },
  {
   "cell_type": "code",
   "execution_count": 41,
   "metadata": {
    "ExecuteTime": {
     "end_time": "2018-08-14T12:28:46.412537Z",
     "start_time": "2018-08-14T12:28:46.382404Z"
    }
   },
   "outputs": [],
   "source": [
    "net_monthly['1BC_Net'] = round(((net_monthly['Adjusted_Min_Salary'] / 12) - net_monthly['1_Bed_Center_Total']),2)\n",
    "net_monthly['1BO_Net'] = round(((net_monthly['Adjusted_Min_Salary'] / 12) - net_monthly['1_Bed_Outside_Total']),2)\n",
    "net_monthly['3BC_Net'] = round(((net_monthly['Adjusted_Min_Salary'] / 12) - net_monthly['3_Bed_Center_Total']),2)\n",
    "net_monthly['3BO_Net'] = round(((net_monthly['Adjusted_Min_Salary'] / 12) - net_monthly['3_Bed_Outside_Total']),2)"
   ]
  },
  {
   "cell_type": "markdown",
   "metadata": {
    "ExecuteTime": {
     "end_time": "2018-08-12T15:03:08.978328Z",
     "start_time": "2018-08-12T15:03:08.839865Z"
    }
   },
   "source": [
    "## Years To Pay Off Debt (Assuming Allocation Of 30% Net Per/Month)\n",
    "#### Also, cut down df to only include columns that represent Years-To-Pay-Off-Debt"
   ]
  },
  {
   "cell_type": "code",
   "execution_count": 42,
   "metadata": {
    "ExecuteTime": {
     "end_time": "2018-08-14T12:28:47.006698Z",
     "start_time": "2018-08-14T12:28:46.981363Z"
    }
   },
   "outputs": [],
   "source": [
    "net_monthly_slim = net_monthly.iloc[:,-4:]"
   ]
  },
  {
   "cell_type": "code",
   "execution_count": 43,
   "metadata": {
    "ExecuteTime": {
     "end_time": "2018-08-14T12:28:47.223772Z",
     "start_time": "2018-08-14T12:28:47.192957Z"
    }
   },
   "outputs": [],
   "source": [
    "net_monthly_slim['1BC_Yrs'] = round(debt / ((net_monthly_slim['1BC_Net'] * .30) * 12),2)\n",
    "net_monthly_slim['1BO_Yrs'] = round(debt / ((net_monthly_slim['1BO_Net'] * .30) * 12),2)\n",
    "net_monthly_slim['3BC_Yrs'] = round(debt / ((net_monthly_slim['3BC_Net'] * .30) * 12),2)\n",
    "net_monthly_slim['3BO_Yrs'] = round(debt / ((net_monthly_slim['3BO_Net'] * .30) * 12),2)"
   ]
  },
  {
   "cell_type": "markdown",
   "metadata": {},
   "source": [
    "## Finally, graph our 4 different living scenarios in each of our chosen cities"
   ]
  },
  {
   "cell_type": "code",
   "execution_count": 44,
   "metadata": {
    "ExecuteTime": {
     "end_time": "2018-08-14T12:28:48.140829Z",
     "start_time": "2018-08-14T12:28:47.841933Z"
    }
   },
   "outputs": [
    {
     "data": {
      "text/plain": [
       "<BarContainer object of 29 artists>"
      ]
     },
     "execution_count": 44,
     "metadata": {},
     "output_type": "execute_result"
    },
    {
     "data": {
      "image/png": "[encoded data removed]",
      "text/plain": [
       "<Figure size 2016x432 with 1 Axes>"
      ]
     },
     "metadata": {},
     "output_type": "display_data"
    }
   ],
   "source": [
    "x = net_monthly_slim.index\n",
    "y = net_monthly_slim['1BC_Yrs']\n",
    "\n",
    "fig = plt.figure(figsize=(28,6))\n",
    "ax = fig.add_subplot(121)\n",
    "ax.set_xlabel('City')\n",
    "ax.set_ylabel('Years')\n",
    "ax.set_title(\"Num Years To Pay Debt By City - 1 Bedroom In City Center\")\n",
    "ax.set_xticklabels(x, rotation=90)\n",
    "ax.bar(x,y)"
   ]
  },
  {
   "cell_type": "code",
   "execution_count": 45,
   "metadata": {
    "ExecuteTime": {
     "end_time": "2018-08-14T12:28:48.546480Z",
     "start_time": "2018-08-14T12:28:48.250182Z"
    },
    "scrolled": true
   },
   "outputs": [
    {
     "data": {
      "text/plain": [
       "<BarContainer object of 29 artists>"
      ]
     },
     "execution_count": 45,
     "metadata": {},
     "output_type": "execute_result"
    },
    {
     "data": {
      "image/png": "[encoded data removed]",
      "text/plain": [
       "<Figure size 2016x432 with 1 Axes>"
      ]
     },
     "metadata": {},
     "output_type": "display_data"
    }
   ],
   "source": [
    "x = net_monthly_slim.index\n",
    "y = net_monthly_slim['1BO_Yrs']\n",
    "\n",
    "fig = plt.figure(figsize=(28,6))\n",
    "ax = fig.add_subplot(121)\n",
    "ax.set_xlabel('City')\n",
    "ax.set_ylabel('Years')\n",
    "ax.set_title(\"Num Years To Pay Debt By City - 1 Bedroom Outside City Center\")\n",
    "ax.set_xticklabels(x, rotation=90)\n",
    "ax.bar(x,y)"
   ]
  },
  {
   "cell_type": "code",
   "execution_count": 46,
   "metadata": {
    "ExecuteTime": {
     "end_time": "2018-08-14T12:28:48.987230Z",
     "start_time": "2018-08-14T12:28:48.667441Z"
    }
   },
   "outputs": [
    {
     "data": {
      "text/plain": [
       "<BarContainer object of 29 artists>"
      ]
     },
     "execution_count": 46,
     "metadata": {},
     "output_type": "execute_result"
    },
    {
     "data": {
      "image/png": "[encoded data removed]",
      "text/plain": [
       "<Figure size 2016x432 with 1 Axes>"
      ]
     },
     "metadata": {},
     "output_type": "display_data"
    }
   ],
   "source": [
    "x = net_monthly_slim.index\n",
    "y = net_monthly_slim['3BC_Yrs']\n",
    "\n",
    "fig = plt.figure(figsize=(28,6))\n",
    "ax = fig.add_subplot(121)\n",
    "ax.set_xlabel('City')\n",
    "ax.set_ylabel('Years')\n",
    "ax.set_title(\"Num Years To Pay Debt By City - 3 Bedrooms In City Center\")\n",
    "ax.set_xticklabels(x, rotation=90)\n",
    "ax.bar(x,y)"
   ]
  },
  {
   "cell_type": "code",
   "execution_count": 47,
   "metadata": {
    "ExecuteTime": {
     "end_time": "2018-08-14T12:28:49.308959Z",
     "start_time": "2018-08-14T12:28:48.990229Z"
    }
   },
   "outputs": [
    {
     "data": {
      "text/plain": [
       "<BarContainer object of 29 artists>"
      ]
     },
     "execution_count": 47,
     "metadata": {},
     "output_type": "execute_result"
    },
    {
     "data": {
      "image/png": "[encoded data removed]",
      "text/plain": [
       "<Figure size 2016x432 with 1 Axes>"
      ]
     },
     "metadata": {},
     "output_type": "display_data"
    }
   ],
   "source": [
    "x = net_monthly_slim.index\n",
    "y = net_monthly_slim['3BO_Yrs']\n",
    "\n",
    "fig = plt.figure(figsize=(28,6))\n",
    "ax = fig.add_subplot(121)\n",
    "ax.set_xlabel('City')\n",
    "ax.set_ylabel('Years')\n",
    "ax.set_title(\"Num Years To Pay Debt By City - 3 Bedrooms Outside City Center\")\n",
    "ax.set_xticklabels(x, rotation=90)\n",
    "ax.bar(x,y)"
   ]
  },
  {
   "cell_type": "markdown",
   "metadata": {},
   "source": [
    "# Do everything again for Data Analyst Positions"
   ]
  },
  {
   "cell_type": "code",
   "execution_count": 3,
   "metadata": {
    "ExecuteTime": {
     "end_time": "2018-08-15T01:44:41.507993Z",
     "start_time": "2018-08-15T01:44:41.178777Z"
    }
   },
   "outputs": [],
   "source": [
    "df = pd.read_pickle('/Users/austin/Documents/Knowledge/LifeStyleDesign/city_matrix')"
   ]
  },
  {
   "cell_type": "code",
   "execution_count": 4,
   "metadata": {
    "ExecuteTime": {
     "end_time": "2018-08-15T01:44:45.027227Z",
     "start_time": "2018-08-15T01:44:44.981911Z"
    }
   },
   "outputs": [
    {
     "data": {
      "text/html": [
       "<div>\n",
       "<style scoped>\n",
       "    .dataframe tbody tr th:only-of-type {\n",
       "        vertical-align: middle;\n",
       "    }\n",
       "\n",
       "    .dataframe tbody tr th {\n",
       "        vertical-align: top;\n",
       "    }\n",
       "\n",
       "    .dataframe thead th {\n",
       "        text-align: right;\n",
       "    }\n",
       "</style>\n",
       "<table border=\"1\" class=\"dataframe\">\n",
       "  <thead>\n",
       "    <tr style=\"text-align: right;\">\n",
       "      <th></th>\n",
       "      <th>1_Bed_Center_Total</th>\n",
       "      <th>3_Bed_Center_Total</th>\n",
       "      <th>1_Bed_Outside_Total</th>\n",
       "      <th>3_Bed_Outside_Total</th>\n",
       "    </tr>\n",
       "    <tr>\n",
       "      <th>city</th>\n",
       "      <th></th>\n",
       "      <th></th>\n",
       "      <th></th>\n",
       "      <th></th>\n",
       "    </tr>\n",
       "  </thead>\n",
       "  <tbody>\n",
       "    <tr>\n",
       "      <th>Palo-Alto</th>\n",
       "      <td>4387.48</td>\n",
       "      <td>3127.55</td>\n",
       "      <td>4094.21</td>\n",
       "      <td>2871.99</td>\n",
       "    </tr>\n",
       "    <tr>\n",
       "      <th>San-Jose</th>\n",
       "      <td>3714.08</td>\n",
       "      <td>2500.71</td>\n",
       "      <td>3456.40</td>\n",
       "      <td>2415.23</td>\n",
       "    </tr>\n",
       "    <tr>\n",
       "      <th>Portland</th>\n",
       "      <td>2864.56</td>\n",
       "      <td>2296.22</td>\n",
       "      <td>2485.55</td>\n",
       "      <td>1980.12</td>\n",
       "    </tr>\n",
       "    <tr>\n",
       "      <th>Austin</th>\n",
       "      <td>2969.98</td>\n",
       "      <td>2289.77</td>\n",
       "      <td>2399.66</td>\n",
       "      <td>1943.74</td>\n",
       "    </tr>\n",
       "    <tr>\n",
       "      <th>Denver</th>\n",
       "      <td>2907.57</td>\n",
       "      <td>2211.63</td>\n",
       "      <td>2574.14</td>\n",
       "      <td>1982.24</td>\n",
       "    </tr>\n",
       "    <tr>\n",
       "      <th>San-Diego</th>\n",
       "      <td>3210.41</td>\n",
       "      <td>2406.10</td>\n",
       "      <td>2804.00</td>\n",
       "      <td>2184.68</td>\n",
       "    </tr>\n",
       "    <tr>\n",
       "      <th>Washington</th>\n",
       "      <td>3517.34</td>\n",
       "      <td>2701.31</td>\n",
       "      <td>3064.00</td>\n",
       "      <td>2314.06</td>\n",
       "    </tr>\n",
       "    <tr>\n",
       "      <th>Boston</th>\n",
       "      <td>3821.77</td>\n",
       "      <td>2853.61</td>\n",
       "      <td>3136.72</td>\n",
       "      <td>2316.74</td>\n",
       "    </tr>\n",
       "    <tr>\n",
       "      <th>San-Francisco</th>\n",
       "      <td>4806.91</td>\n",
       "      <td>3329.76</td>\n",
       "      <td>4053.38</td>\n",
       "      <td>2852.41</td>\n",
       "    </tr>\n",
       "    <tr>\n",
       "      <th>Seattle</th>\n",
       "      <td>3375.61</td>\n",
       "      <td>2609.09</td>\n",
       "      <td>2866.58</td>\n",
       "      <td>2216.39</td>\n",
       "    </tr>\n",
       "    <tr>\n",
       "      <th>Atlanta</th>\n",
       "      <td>2826.20</td>\n",
       "      <td>2212.82</td>\n",
       "      <td>2369.24</td>\n",
       "      <td>1879.63</td>\n",
       "    </tr>\n",
       "    <tr>\n",
       "      <th>Los-Angeles</th>\n",
       "      <td>3482.61</td>\n",
       "      <td>2646.62</td>\n",
       "      <td>3036.76</td>\n",
       "      <td>2310.66</td>\n",
       "    </tr>\n",
       "    <tr>\n",
       "      <th>Chicago</th>\n",
       "      <td>3078.89</td>\n",
       "      <td>2405.30</td>\n",
       "      <td>2463.50</td>\n",
       "      <td>1993.23</td>\n",
       "    </tr>\n",
       "    <tr>\n",
       "      <th>New-York</th>\n",
       "      <td>4646.15</td>\n",
       "      <td>3593.82</td>\n",
       "      <td>3414.25</td>\n",
       "      <td>2594.11</td>\n",
       "    </tr>\n",
       "    <tr>\n",
       "      <th>Mountain-View</th>\n",
       "      <td>4161.09</td>\n",
       "      <td>2832.76</td>\n",
       "      <td>3674.42</td>\n",
       "      <td>2641.09</td>\n",
       "    </tr>\n",
       "    <tr>\n",
       "      <th>Santa-Monica</th>\n",
       "      <td>3877.65</td>\n",
       "      <td>3380.75</td>\n",
       "      <td>3464.08</td>\n",
       "      <td>2842.65</td>\n",
       "    </tr>\n",
       "    <tr>\n",
       "      <th>Cambridge</th>\n",
       "      <td>2314.90</td>\n",
       "      <td>1854.07</td>\n",
       "      <td>2086.22</td>\n",
       "      <td>1725.55</td>\n",
       "    </tr>\n",
       "    <tr>\n",
       "      <th>Salt-Lake-City</th>\n",
       "      <td>2440.12</td>\n",
       "      <td>1880.80</td>\n",
       "      <td>2099.88</td>\n",
       "      <td>1722.83</td>\n",
       "    </tr>\n",
       "    <tr>\n",
       "      <th>Raleigh</th>\n",
       "      <td>2463.53</td>\n",
       "      <td>1879.52</td>\n",
       "      <td>2220.98</td>\n",
       "      <td>1737.42</td>\n",
       "    </tr>\n",
       "    <tr>\n",
       "      <th>Nashville</th>\n",
       "      <td>2872.34</td>\n",
       "      <td>2253.19</td>\n",
       "      <td>2374.51</td>\n",
       "      <td>1918.48</td>\n",
       "    </tr>\n",
       "    <tr>\n",
       "      <th>Sunnyvale</th>\n",
       "      <td>4161.60</td>\n",
       "      <td>2806.31</td>\n",
       "      <td>3640.97</td>\n",
       "      <td>2542.65</td>\n",
       "    </tr>\n",
       "    <tr>\n",
       "      <th>Boulder</th>\n",
       "      <td>2824.38</td>\n",
       "      <td>2341.05</td>\n",
       "      <td>2562.76</td>\n",
       "      <td>2122.53</td>\n",
       "    </tr>\n",
       "    <tr>\n",
       "      <th>Irvine</th>\n",
       "      <td>3353.58</td>\n",
       "      <td>2384.34</td>\n",
       "      <td>3143.25</td>\n",
       "      <td>2270.99</td>\n",
       "    </tr>\n",
       "    <tr>\n",
       "      <th>Philadelphia</th>\n",
       "      <td>2893.43</td>\n",
       "      <td>2273.30</td>\n",
       "      <td>2368.40</td>\n",
       "      <td>1881.41</td>\n",
       "    </tr>\n",
       "    <tr>\n",
       "      <th>Dallas</th>\n",
       "      <td>2590.93</td>\n",
       "      <td>2092.87</td>\n",
       "      <td>2255.06</td>\n",
       "      <td>1867.09</td>\n",
       "    </tr>\n",
       "    <tr>\n",
       "      <th>Bellevue</th>\n",
       "      <td>3430.36</td>\n",
       "      <td>2473.14</td>\n",
       "      <td>3130.89</td>\n",
       "      <td>2220.37</td>\n",
       "    </tr>\n",
       "    <tr>\n",
       "      <th>Charlotte</th>\n",
       "      <td>2717.21</td>\n",
       "      <td>2051.36</td>\n",
       "      <td>2269.79</td>\n",
       "      <td>1797.04</td>\n",
       "    </tr>\n",
       "    <tr>\n",
       "      <th>Plano</th>\n",
       "      <td>2489.02</td>\n",
       "      <td>2043.78</td>\n",
       "      <td>2259.89</td>\n",
       "      <td>1905.69</td>\n",
       "    </tr>\n",
       "    <tr>\n",
       "      <th>Richmond</th>\n",
       "      <td>2409.60</td>\n",
       "      <td>1833.64</td>\n",
       "      <td>2187.77</td>\n",
       "      <td>1713.20</td>\n",
       "    </tr>\n",
       "  </tbody>\n",
       "</table>\n",
       "</div>"
      ],
      "text/plain": [
       "                1_Bed_Center_Total  3_Bed_Center_Total  1_Bed_Outside_Total  \\\n",
       "city                                                                          \n",
       "Palo-Alto                  4387.48             3127.55              4094.21   \n",
       "San-Jose                   3714.08             2500.71              3456.40   \n",
       "Portland                   2864.56             2296.22              2485.55   \n",
       "Austin                     2969.98             2289.77              2399.66   \n",
       "Denver                     2907.57             2211.63              2574.14   \n",
       "San-Diego                  3210.41             2406.10              2804.00   \n",
       "Washington                 3517.34             2701.31              3064.00   \n",
       "Boston                     3821.77             2853.61              3136.72   \n",
       "San-Francisco              4806.91             3329.76              4053.38   \n",
       "Seattle                    3375.61             2609.09              2866.58   \n",
       "Atlanta                    2826.20             2212.82              2369.24   \n",
       "Los-Angeles                3482.61             2646.62              3036.76   \n",
       "Chicago                    3078.89             2405.30              2463.50   \n",
       "New-York                   4646.15             3593.82              3414.25   \n",
       "Mountain-View              4161.09             2832.76              3674.42   \n",
       "Santa-Monica               3877.65             3380.75              3464.08   \n",
       "Cambridge                  2314.90             1854.07              2086.22   \n",
       "Salt-Lake-City             2440.12             1880.80              2099.88   \n",
       "Raleigh                    2463.53             1879.52              2220.98   \n",
       "Nashville                  2872.34             2253.19              2374.51   \n",
       "Sunnyvale                  4161.60             2806.31              3640.97   \n",
       "Boulder                    2824.38             2341.05              2562.76   \n",
       "Irvine                     3353.58             2384.34              3143.25   \n",
       "Philadelphia               2893.43             2273.30              2368.40   \n",
       "Dallas                     2590.93             2092.87              2255.06   \n",
       "Bellevue                   3430.36             2473.14              3130.89   \n",
       "Charlotte                  2717.21             2051.36              2269.79   \n",
       "Plano                      2489.02             2043.78              2259.89   \n",
       "Richmond                   2409.60             1833.64              2187.77   \n",
       "\n",
       "                3_Bed_Outside_Total  \n",
       "city                                 \n",
       "Palo-Alto                   2871.99  \n",
       "San-Jose                    2415.23  \n",
       "Portland                    1980.12  \n",
       "Austin                      1943.74  \n",
       "Denver                      1982.24  \n",
       "San-Diego                   2184.68  \n",
       "Washington                  2314.06  \n",
       "Boston                      2316.74  \n",
       "San-Francisco               2852.41  \n",
       "Seattle                     2216.39  \n",
       "Atlanta                     1879.63  \n",
       "Los-Angeles                 2310.66  \n",
       "Chicago                     1993.23  \n",
       "New-York                    2594.11  \n",
       "Mountain-View               2641.09  \n",
       "Santa-Monica                2842.65  \n",
       "Cambridge                   1725.55  \n",
       "Salt-Lake-City              1722.83  \n",
       "Raleigh                     1737.42  \n",
       "Nashville                   1918.48  \n",
       "Sunnyvale                   2542.65  \n",
       "Boulder                     2122.53  \n",
       "Irvine                      2270.99  \n",
       "Philadelphia                1881.41  \n",
       "Dallas                      1867.09  \n",
       "Bellevue                    2220.37  \n",
       "Charlotte                   1797.04  \n",
       "Plano                       1905.69  \n",
       "Richmond                    1713.20  "
      ]
     },
     "execution_count": 4,
     "metadata": {},
     "output_type": "execute_result"
    }
   ],
   "source": [
    "df"
   ]
  },
  {
   "cell_type": "code",
   "execution_count": 5,
   "metadata": {
    "ExecuteTime": {
     "end_time": "2018-08-15T01:56:24.202433Z",
     "start_time": "2018-08-15T01:56:24.039938Z"
    }
   },
   "outputs": [],
   "source": [
    "data_analyst_salaries_dct = {\n",
    "    'palo-alto' : 'https://www.glassdoor.com/Salaries/san-jose-data-analyst-salary-SRCH_IL.0,8_IM761_KO9,21.htm',\n",
    "    'san-jose' : 'https://www.glassdoor.com/Salaries/san-jose-data-analyst-salary-SRCH_IL.0,8_IM761_KO9,21.htm',\n",
    "    'portland' : 'https://www.glassdoor.com/Salaries/portland-data-analyst-salary-SRCH_IL.0,8_IM700_KO9,21.htm',\n",
    "    'austin' : 'https://www.glassdoor.com/Salaries/austin-data-analyst-salary-SRCH_IL.0,6_IM60_KO7,19.htm',\n",
    "    'denver' : 'https://www.glassdoor.com/Salaries/denver-data-analyst-salary-SRCH_IL.0,6_IM234_KO7,19.htm',\n",
    "    'san-diego' : 'https://www.glassdoor.com/Salaries/san-diego-data-analyst-salary-SRCH_IL.0,9_IM758_KO10,22.htm',\n",
    "    'washington' : 'https://www.glassdoor.com/Salaries/washington-dc-data-analyst-salary-SRCH_IL.0,13_IM911_KO14,26.htm',\n",
    "    'boston' : 'https://www.glassdoor.com/Salaries/boston-data-analyst-salary-SRCH_IL.0,6_IM109_KO7,19.htm',\n",
    "    'san-francisco' : 'https://www.glassdoor.com/Salaries/san-francisco-data-analyst-salary-SRCH_IL.0,13_IM759_KO14,26.htm',\n",
    "    'seattle' : 'https://www.glassdoor.com/Salaries/seattle-data-analyst-salary-SRCH_IL.0,7_IM781_KO8,20.htm',\n",
    "    'atlanta' : 'https://www.glassdoor.com/Salaries/atlanta-data-analyst-salary-SRCH_IL.0,7_IM52_KO8,20.htm',\n",
    "    'los-angeles' : 'https://www.glassdoor.com/Salaries/los-angeles-data-analyst-salary-SRCH_IL.0,11_IM508_KO12,24.htm',\n",
    "    'chicago' : 'https://www.glassdoor.com/Salaries/chicago-data-analyst-salary-SRCH_IL.0,7_IM167_KO8,20.htm',\n",
    "    'new-york' : 'https://www.glassdoor.com/Salaries/new-york-city-data-analyst-salary-SRCH_IL.0,13_IM615_KO14,26.htm',\n",
    "    'mountain-view' : 'https://www.glassdoor.com/Salaries/san-jose-data-analyst-salary-SRCH_IL.0,8_IM761_KO9,21.htm',\n",
    "    'santa-monica' : 'https://www.glassdoor.com/Salaries/los-angeles-data-analyst-salary-SRCH_IL.0,11_IM508_KO12,24.htm',\n",
    "    'cambridge' : 'https://www.glassdoor.com/Salaries/boston-data-analyst-salary-SRCH_IL.0,6_IM109_KO7,19.htm',\n",
    "    'salt-lake-city' : 'https://www.glassdoor.com/Salaries/salt-lake-city-data-analyst-salary-SRCH_IL.0,14_IM755_KO15,27.htm',\n",
    "    'raleigh' : 'https://www.glassdoor.com/Salaries/raleigh-data-analyst-salary-SRCH_IL.0,7_IM714_KO8,20.htm',\n",
    "    'nashville' : 'https://www.glassdoor.com/Salaries/nashville-data-analyst-salary-SRCH_IL.0,9_IM604_KO10,22.htm',\n",
    "    'sunnyvale' : 'https://www.glassdoor.com/Salaries/san-jose-data-analyst-salary-SRCH_IL.0,8_IM761_KO9,21.htm',\n",
    "    'boulder' : 'https://www.glassdoor.com/Salaries/boulder-data-analyst-salary-SRCH_IL.0,7_IM110_KO8,20.htm',\n",
    "    'irvine' : 'https://www.glassdoor.com/Salaries/los-angeles-data-analyst-salary-SRCH_IL.0,11_IM508_KO12,24.htm',\n",
    "    'philadelphia' : 'https://www.glassdoor.com/Salaries/philadelphia-data-analyst-salary-SRCH_IL.0,12_IM676_KO13,25.htm',\n",
    "    'dallas' : 'https://www.glassdoor.com/Salaries/dallas-data-analyst-salary-SRCH_IL.0,6_IM218_KO7,19.htm',\n",
    "    'bellevue' : 'https://www.glassdoor.com/Salaries/seattle-data-analyst-salary-SRCH_IL.0,7_IM781_KO8,20.htm',\n",
    "    'charlotte' : 'https://www.glassdoor.com/Salaries/charlotte-data-analyst-salary-SRCH_IL.0,9_IM162_KO10,22.htm',\n",
    "    'Plano' : 'https://www.glassdoor.com/Salaries/dallas-data-analyst-salary-SRCH_IL.0,6_IM218_KO7,19.htm',\n",
    "    'Richmond' : 'https://www.glassdoor.com/Salaries/richmond-data-analyst-salary-SRCH_IL.0,8_IM724_KO9,21.htm',    \n",
    "}\n"
   ]
  },
  {
   "cell_type": "code",
   "execution_count": 18,
   "metadata": {
    "ExecuteTime": {
     "end_time": "2018-08-15T02:05:08.410463Z",
     "start_time": "2018-08-15T02:02:38.227957Z"
    }
   },
   "outputs": [],
   "source": [
    "analyst_glassdoor_salaries = list(get_glassdoor_salaries(data_analyst_salaries_dct))\n",
    "analyst_glassdoor_salaries = pd.DataFrame(analyst_glassdoor_salaries)"
   ]
  },
  {
   "cell_type": "code",
   "execution_count": 22,
   "metadata": {
    "ExecuteTime": {
     "end_time": "2018-08-15T02:06:44.951115Z",
     "start_time": "2018-08-15T02:06:44.924876Z"
    }
   },
   "outputs": [],
   "source": [
    "columns=[\"city\", \"min_salary\", \"avg_salary\"]\n",
    "analyst_glassdoor_salaries = analyst_glassdoor_salaries.reindex(columns=columns)"
   ]
  },
  {
   "cell_type": "code",
   "execution_count": 23,
   "metadata": {
    "ExecuteTime": {
     "end_time": "2018-08-15T02:06:49.966838Z",
     "start_time": "2018-08-15T02:06:49.940212Z"
    }
   },
   "outputs": [],
   "source": [
    "analyst_glassdoor_index = ['Palo-Alto', 'San-Jose', 'Portland', 'Austin', 'Denver', 'San-Diego',\n",
    "       'Washington', 'Boston', 'San-Francisco', 'Seattle', 'Atlanta',\n",
    "       'Los-Angeles', 'Chicago', 'New-York', 'Mountain-View', 'Santa-Monica',\n",
    "       'Cambridge', 'Salt-Lake-City', 'Raleigh', 'Nashville', 'Sunnyvale',\n",
    "       'Boulder', 'Irvine', 'Philadelphia', 'Dallas', 'Bellevue', 'Charlotte',\n",
    "       'Plano', 'Richmond']\n",
    "analyst_glassdoor_salaries.index = analyst_glassdoor_index"
   ]
  },
  {
   "cell_type": "code",
   "execution_count": 27,
   "metadata": {
    "ExecuteTime": {
     "end_time": "2018-08-15T02:07:29.954490Z",
     "start_time": "2018-08-15T02:07:29.930050Z"
    }
   },
   "outputs": [],
   "source": [
    "analyst_glassdoor_salaries.drop(columns='city', inplace=True)"
   ]
  },
  {
   "cell_type": "code",
   "execution_count": 28,
   "metadata": {
    "ExecuteTime": {
     "end_time": "2018-08-15T02:07:37.750619Z",
     "start_time": "2018-08-15T02:07:37.727500Z"
    }
   },
   "outputs": [],
   "source": [
    "##  Pickle DF ##\n",
    "analyst_glassdoor_salaries.to_pickle('analyst_glassdoor_salaries')"
   ]
  },
  {
   "cell_type": "code",
   "execution_count": 37,
   "metadata": {
    "ExecuteTime": {
     "end_time": "2018-08-15T02:10:39.116951Z",
     "start_time": "2018-08-15T02:10:39.093097Z"
    }
   },
   "outputs": [],
   "source": [
    "dfs2 = [analyst_glassdoor_salaries, income_taxes_dct]\n",
    "analyst_city_incomes_taxes = pd.concat(dfs2, axis=1)"
   ]
  },
  {
   "cell_type": "code",
   "execution_count": 39,
   "metadata": {
    "ExecuteTime": {
     "end_time": "2018-08-15T02:11:10.060046Z",
     "start_time": "2018-08-15T02:11:10.035629Z"
    }
   },
   "outputs": [],
   "source": [
    "analyst_city_incomes_taxes.min_salary = analyst_city_incomes_taxes.min_salary.astype(float)\n",
    "analyst_city_incomes_taxes.avg_salary = analyst_city_incomes_taxes.avg_salary.astype(float)"
   ]
  },
  {
   "cell_type": "code",
   "execution_count": 41,
   "metadata": {
    "ExecuteTime": {
     "end_time": "2018-08-15T02:11:46.962420Z",
     "start_time": "2018-08-15T02:11:46.715909Z"
    }
   },
   "outputs": [],
   "source": [
    "analyst_city_incomes_taxes['Adjusted_Min_Salary'] = (\n",
    "    analyst_city_incomes_taxes['min_salary'] - \n",
    "    (analyst_city_incomes_taxes['min_salary'] * analyst_city_incomes_taxes['rate']) - \n",
    "    analyst_city_incomes_taxes['personal_exemption'] - analyst_city_incomes_taxes['standard_deduction'])"
   ]
  },
  {
   "cell_type": "code",
   "execution_count": 42,
   "metadata": {
    "ExecuteTime": {
     "end_time": "2018-08-15T02:12:15.195489Z",
     "start_time": "2018-08-15T02:12:15.168359Z"
    }
   },
   "outputs": [],
   "source": [
    "analyst_city_incomes_taxes['Adjusted_Avg_Salary'] = (\n",
    "    analyst_city_incomes_taxes['avg_salary'] - \n",
    "    (analyst_city_incomes_taxes['avg_salary'] * analyst_city_incomes_taxes['rate']) - \n",
    "    analyst_city_incomes_taxes['personal_exemption'] - analyst_city_incomes_taxes['standard_deduction'])"
   ]
  },
  {
   "cell_type": "code",
   "execution_count": 43,
   "metadata": {
    "ExecuteTime": {
     "end_time": "2018-08-15T02:12:31.295751Z",
     "start_time": "2018-08-15T02:12:31.272235Z"
    }
   },
   "outputs": [],
   "source": [
    "analyst_city_incomes_taxes.sort_index(inplace=True)"
   ]
  },
  {
   "cell_type": "code",
   "execution_count": 44,
   "metadata": {
    "ExecuteTime": {
     "end_time": "2018-08-15T02:13:23.821303Z",
     "start_time": "2018-08-15T02:13:23.779915Z"
    }
   },
   "outputs": [
    {
     "data": {
      "text/html": [
       "<div>\n",
       "<style scoped>\n",
       "    .dataframe tbody tr th:only-of-type {\n",
       "        vertical-align: middle;\n",
       "    }\n",
       "\n",
       "    .dataframe tbody tr th {\n",
       "        vertical-align: top;\n",
       "    }\n",
       "\n",
       "    .dataframe thead th {\n",
       "        text-align: right;\n",
       "    }\n",
       "</style>\n",
       "<table border=\"1\" class=\"dataframe\">\n",
       "  <thead>\n",
       "    <tr style=\"text-align: right;\">\n",
       "      <th></th>\n",
       "      <th>min_salary</th>\n",
       "      <th>avg_salary</th>\n",
       "      <th>personal_exemption</th>\n",
       "      <th>rate</th>\n",
       "      <th>standard_deduction</th>\n",
       "      <th>Adjusted_Min_Salary</th>\n",
       "      <th>Adjusted_Avg_Salary</th>\n",
       "      <th>1_Bed_Center_Total</th>\n",
       "      <th>3_Bed_Center_Total</th>\n",
       "      <th>1_Bed_Outside_Total</th>\n",
       "      <th>3_Bed_Outside_Total</th>\n",
       "    </tr>\n",
       "    <tr>\n",
       "      <th>city</th>\n",
       "      <th></th>\n",
       "      <th></th>\n",
       "      <th></th>\n",
       "      <th></th>\n",
       "      <th></th>\n",
       "      <th></th>\n",
       "      <th></th>\n",
       "      <th></th>\n",
       "      <th></th>\n",
       "      <th></th>\n",
       "      <th></th>\n",
       "    </tr>\n",
       "  </thead>\n",
       "  <tbody>\n",
       "    <tr>\n",
       "      <th>Atlanta</th>\n",
       "      <td>46000.0</td>\n",
       "      <td>63247.0</td>\n",
       "      <td>2700.0</td>\n",
       "      <td>0.06000</td>\n",
       "      <td>4600.0</td>\n",
       "      <td>35940.00</td>\n",
       "      <td>52152.18000</td>\n",
       "      <td>2826.20</td>\n",
       "      <td>2212.82</td>\n",
       "      <td>2369.24</td>\n",
       "      <td>1879.63</td>\n",
       "    </tr>\n",
       "    <tr>\n",
       "      <th>Austin</th>\n",
       "      <td>44000.0</td>\n",
       "      <td>60804.0</td>\n",
       "      <td>0.0</td>\n",
       "      <td>0.00000</td>\n",
       "      <td>0.0</td>\n",
       "      <td>44000.00</td>\n",
       "      <td>60804.00000</td>\n",
       "      <td>2969.98</td>\n",
       "      <td>2289.77</td>\n",
       "      <td>2399.66</td>\n",
       "      <td>1943.74</td>\n",
       "    </tr>\n",
       "    <tr>\n",
       "      <th>Bellevue</th>\n",
       "      <td>50000.0</td>\n",
       "      <td>68399.0</td>\n",
       "      <td>0.0</td>\n",
       "      <td>0.00000</td>\n",
       "      <td>0.0</td>\n",
       "      <td>50000.00</td>\n",
       "      <td>68399.00000</td>\n",
       "      <td>3430.36</td>\n",
       "      <td>2473.14</td>\n",
       "      <td>3130.89</td>\n",
       "      <td>2220.37</td>\n",
       "    </tr>\n",
       "    <tr>\n",
       "      <th>Boston</th>\n",
       "      <td>49000.0</td>\n",
       "      <td>67184.0</td>\n",
       "      <td>4400.0</td>\n",
       "      <td>0.05100</td>\n",
       "      <td>0.0</td>\n",
       "      <td>42101.00</td>\n",
       "      <td>59357.61600</td>\n",
       "      <td>3821.77</td>\n",
       "      <td>2853.61</td>\n",
       "      <td>3136.72</td>\n",
       "      <td>2316.74</td>\n",
       "    </tr>\n",
       "    <tr>\n",
       "      <th>Boulder</th>\n",
       "      <td>36000.0</td>\n",
       "      <td>49746.0</td>\n",
       "      <td>0.0</td>\n",
       "      <td>0.04630</td>\n",
       "      <td>0.0</td>\n",
       "      <td>34333.20</td>\n",
       "      <td>47442.76020</td>\n",
       "      <td>2824.38</td>\n",
       "      <td>2341.05</td>\n",
       "      <td>2562.76</td>\n",
       "      <td>2122.53</td>\n",
       "    </tr>\n",
       "    <tr>\n",
       "      <th>Cambridge</th>\n",
       "      <td>49000.0</td>\n",
       "      <td>67184.0</td>\n",
       "      <td>4400.0</td>\n",
       "      <td>0.05100</td>\n",
       "      <td>0.0</td>\n",
       "      <td>42101.00</td>\n",
       "      <td>59357.61600</td>\n",
       "      <td>2314.90</td>\n",
       "      <td>1854.07</td>\n",
       "      <td>2086.22</td>\n",
       "      <td>1725.55</td>\n",
       "    </tr>\n",
       "    <tr>\n",
       "      <th>Charlotte</th>\n",
       "      <td>46000.0</td>\n",
       "      <td>63528.0</td>\n",
       "      <td>0.0</td>\n",
       "      <td>0.05499</td>\n",
       "      <td>8750.0</td>\n",
       "      <td>34720.46</td>\n",
       "      <td>51284.59528</td>\n",
       "      <td>2717.21</td>\n",
       "      <td>2051.36</td>\n",
       "      <td>2269.79</td>\n",
       "      <td>1797.04</td>\n",
       "    </tr>\n",
       "    <tr>\n",
       "      <th>Chicago</th>\n",
       "      <td>46000.0</td>\n",
       "      <td>63218.0</td>\n",
       "      <td>0.0</td>\n",
       "      <td>0.04950</td>\n",
       "      <td>0.0</td>\n",
       "      <td>43723.00</td>\n",
       "      <td>60088.70900</td>\n",
       "      <td>3078.89</td>\n",
       "      <td>2405.30</td>\n",
       "      <td>2463.50</td>\n",
       "      <td>1993.23</td>\n",
       "    </tr>\n",
       "    <tr>\n",
       "      <th>Dallas</th>\n",
       "      <td>48000.0</td>\n",
       "      <td>66387.0</td>\n",
       "      <td>0.0</td>\n",
       "      <td>0.00000</td>\n",
       "      <td>0.0</td>\n",
       "      <td>48000.00</td>\n",
       "      <td>66387.00000</td>\n",
       "      <td>2590.93</td>\n",
       "      <td>2092.87</td>\n",
       "      <td>2255.06</td>\n",
       "      <td>1867.09</td>\n",
       "    </tr>\n",
       "    <tr>\n",
       "      <th>Denver</th>\n",
       "      <td>47000.0</td>\n",
       "      <td>64095.0</td>\n",
       "      <td>0.0</td>\n",
       "      <td>0.04630</td>\n",
       "      <td>0.0</td>\n",
       "      <td>44823.90</td>\n",
       "      <td>61127.40150</td>\n",
       "      <td>2907.57</td>\n",
       "      <td>2211.63</td>\n",
       "      <td>2574.14</td>\n",
       "      <td>1982.24</td>\n",
       "    </tr>\n",
       "    <tr>\n",
       "      <th>Irvine</th>\n",
       "      <td>50000.0</td>\n",
       "      <td>69088.0</td>\n",
       "      <td>114.0</td>\n",
       "      <td>0.09300</td>\n",
       "      <td>4236.0</td>\n",
       "      <td>41000.00</td>\n",
       "      <td>58312.81600</td>\n",
       "      <td>3353.58</td>\n",
       "      <td>2384.34</td>\n",
       "      <td>3143.25</td>\n",
       "      <td>2270.99</td>\n",
       "    </tr>\n",
       "    <tr>\n",
       "      <th>Los-Angeles</th>\n",
       "      <td>50000.0</td>\n",
       "      <td>69088.0</td>\n",
       "      <td>2000.0</td>\n",
       "      <td>0.09300</td>\n",
       "      <td>4236.0</td>\n",
       "      <td>39114.00</td>\n",
       "      <td>56426.81600</td>\n",
       "      <td>3482.61</td>\n",
       "      <td>2646.62</td>\n",
       "      <td>3036.76</td>\n",
       "      <td>2310.66</td>\n",
       "    </tr>\n",
       "    <tr>\n",
       "      <th>Mountain-View</th>\n",
       "      <td>68000.0</td>\n",
       "      <td>91507.0</td>\n",
       "      <td>114.0</td>\n",
       "      <td>0.09300</td>\n",
       "      <td>4236.0</td>\n",
       "      <td>57326.00</td>\n",
       "      <td>78646.84900</td>\n",
       "      <td>4161.09</td>\n",
       "      <td>2832.76</td>\n",
       "      <td>3674.42</td>\n",
       "      <td>2641.09</td>\n",
       "    </tr>\n",
       "    <tr>\n",
       "      <th>Nashville</th>\n",
       "      <td>42000.0</td>\n",
       "      <td>57579.0</td>\n",
       "      <td>1250.0</td>\n",
       "      <td>0.03000</td>\n",
       "      <td>0.0</td>\n",
       "      <td>39490.00</td>\n",
       "      <td>54601.63000</td>\n",
       "      <td>2872.34</td>\n",
       "      <td>2253.19</td>\n",
       "      <td>2374.51</td>\n",
       "      <td>1918.48</td>\n",
       "    </tr>\n",
       "    <tr>\n",
       "      <th>New-York</th>\n",
       "      <td>50000.0</td>\n",
       "      <td>69275.0</td>\n",
       "      <td>0.0</td>\n",
       "      <td>0.06570</td>\n",
       "      <td>8000.0</td>\n",
       "      <td>38715.00</td>\n",
       "      <td>56723.63250</td>\n",
       "      <td>4646.15</td>\n",
       "      <td>3593.82</td>\n",
       "      <td>3414.25</td>\n",
       "      <td>2594.11</td>\n",
       "    </tr>\n",
       "    <tr>\n",
       "      <th>Palo-Alto</th>\n",
       "      <td>68000.0</td>\n",
       "      <td>91507.0</td>\n",
       "      <td>114.0</td>\n",
       "      <td>0.09300</td>\n",
       "      <td>4236.0</td>\n",
       "      <td>57326.00</td>\n",
       "      <td>78646.84900</td>\n",
       "      <td>4387.48</td>\n",
       "      <td>3127.55</td>\n",
       "      <td>4094.21</td>\n",
       "      <td>2871.99</td>\n",
       "    </tr>\n",
       "    <tr>\n",
       "      <th>Philadelphia</th>\n",
       "      <td>44000.0</td>\n",
       "      <td>60843.0</td>\n",
       "      <td>0.0</td>\n",
       "      <td>0.03070</td>\n",
       "      <td>0.0</td>\n",
       "      <td>42649.20</td>\n",
       "      <td>58975.11990</td>\n",
       "      <td>2893.43</td>\n",
       "      <td>2273.30</td>\n",
       "      <td>2368.40</td>\n",
       "      <td>1881.41</td>\n",
       "    </tr>\n",
       "    <tr>\n",
       "      <th>Plano</th>\n",
       "      <td>48000.0</td>\n",
       "      <td>66387.0</td>\n",
       "      <td>0.0</td>\n",
       "      <td>0.00000</td>\n",
       "      <td>0.0</td>\n",
       "      <td>48000.00</td>\n",
       "      <td>66387.00000</td>\n",
       "      <td>2489.02</td>\n",
       "      <td>2043.78</td>\n",
       "      <td>2259.89</td>\n",
       "      <td>1905.69</td>\n",
       "    </tr>\n",
       "    <tr>\n",
       "      <th>Portland</th>\n",
       "      <td>49000.0</td>\n",
       "      <td>67017.0</td>\n",
       "      <td>90.0</td>\n",
       "      <td>0.09000</td>\n",
       "      <td>2175.0</td>\n",
       "      <td>42325.00</td>\n",
       "      <td>58720.47000</td>\n",
       "      <td>2864.56</td>\n",
       "      <td>2296.22</td>\n",
       "      <td>2485.55</td>\n",
       "      <td>1980.12</td>\n",
       "    </tr>\n",
       "    <tr>\n",
       "      <th>Raleigh</th>\n",
       "      <td>46000.0</td>\n",
       "      <td>62990.0</td>\n",
       "      <td>0.0</td>\n",
       "      <td>0.05499</td>\n",
       "      <td>8750.0</td>\n",
       "      <td>34720.46</td>\n",
       "      <td>50776.17990</td>\n",
       "      <td>2463.53</td>\n",
       "      <td>1879.52</td>\n",
       "      <td>2220.98</td>\n",
       "      <td>1737.42</td>\n",
       "    </tr>\n",
       "    <tr>\n",
       "      <th>Richmond</th>\n",
       "      <td>50000.0</td>\n",
       "      <td>68385.0</td>\n",
       "      <td>930.0</td>\n",
       "      <td>0.05750</td>\n",
       "      <td>3000.0</td>\n",
       "      <td>43195.00</td>\n",
       "      <td>60522.86250</td>\n",
       "      <td>2409.60</td>\n",
       "      <td>1833.64</td>\n",
       "      <td>2187.77</td>\n",
       "      <td>1713.20</td>\n",
       "    </tr>\n",
       "    <tr>\n",
       "      <th>Salt-Lake-City</th>\n",
       "      <td>44000.0</td>\n",
       "      <td>60939.0</td>\n",
       "      <td>0.0</td>\n",
       "      <td>0.05000</td>\n",
       "      <td>0.0</td>\n",
       "      <td>41800.00</td>\n",
       "      <td>57892.05000</td>\n",
       "      <td>2440.12</td>\n",
       "      <td>1880.80</td>\n",
       "      <td>2099.88</td>\n",
       "      <td>1722.83</td>\n",
       "    </tr>\n",
       "    <tr>\n",
       "      <th>San-Diego</th>\n",
       "      <td>47000.0</td>\n",
       "      <td>64020.0</td>\n",
       "      <td>0.0</td>\n",
       "      <td>0.09300</td>\n",
       "      <td>12000.0</td>\n",
       "      <td>30629.00</td>\n",
       "      <td>46066.14000</td>\n",
       "      <td>3210.41</td>\n",
       "      <td>2406.10</td>\n",
       "      <td>2804.00</td>\n",
       "      <td>2184.68</td>\n",
       "    </tr>\n",
       "    <tr>\n",
       "      <th>San-Francisco</th>\n",
       "      <td>63000.0</td>\n",
       "      <td>86043.0</td>\n",
       "      <td>114.0</td>\n",
       "      <td>0.09300</td>\n",
       "      <td>4236.0</td>\n",
       "      <td>52791.00</td>\n",
       "      <td>73691.00100</td>\n",
       "      <td>4806.91</td>\n",
       "      <td>3329.76</td>\n",
       "      <td>4053.38</td>\n",
       "      <td>2852.41</td>\n",
       "    </tr>\n",
       "    <tr>\n",
       "      <th>San-Jose</th>\n",
       "      <td>68000.0</td>\n",
       "      <td>91507.0</td>\n",
       "      <td>114.0</td>\n",
       "      <td>0.09300</td>\n",
       "      <td>4236.0</td>\n",
       "      <td>57326.00</td>\n",
       "      <td>78646.84900</td>\n",
       "      <td>3714.08</td>\n",
       "      <td>2500.71</td>\n",
       "      <td>3456.40</td>\n",
       "      <td>2415.23</td>\n",
       "    </tr>\n",
       "    <tr>\n",
       "      <th>Santa-Monica</th>\n",
       "      <td>50000.0</td>\n",
       "      <td>69088.0</td>\n",
       "      <td>114.0</td>\n",
       "      <td>0.09300</td>\n",
       "      <td>4236.0</td>\n",
       "      <td>41000.00</td>\n",
       "      <td>58312.81600</td>\n",
       "      <td>3877.65</td>\n",
       "      <td>3380.75</td>\n",
       "      <td>3464.08</td>\n",
       "      <td>2842.65</td>\n",
       "    </tr>\n",
       "    <tr>\n",
       "      <th>Seattle</th>\n",
       "      <td>50000.0</td>\n",
       "      <td>68399.0</td>\n",
       "      <td>0.0</td>\n",
       "      <td>0.00000</td>\n",
       "      <td>0.0</td>\n",
       "      <td>50000.00</td>\n",
       "      <td>68399.00000</td>\n",
       "      <td>3375.61</td>\n",
       "      <td>2609.09</td>\n",
       "      <td>2866.58</td>\n",
       "      <td>2216.39</td>\n",
       "    </tr>\n",
       "    <tr>\n",
       "      <th>Sunnyvale</th>\n",
       "      <td>68000.0</td>\n",
       "      <td>91507.0</td>\n",
       "      <td>114.0</td>\n",
       "      <td>0.09300</td>\n",
       "      <td>4236.0</td>\n",
       "      <td>57326.00</td>\n",
       "      <td>78646.84900</td>\n",
       "      <td>4161.60</td>\n",
       "      <td>2806.31</td>\n",
       "      <td>3640.97</td>\n",
       "      <td>2542.65</td>\n",
       "    </tr>\n",
       "    <tr>\n",
       "      <th>Washington</th>\n",
       "      <td>51000.0</td>\n",
       "      <td>69979.0</td>\n",
       "      <td>2000.0</td>\n",
       "      <td>0.08500</td>\n",
       "      <td>0.0</td>\n",
       "      <td>44665.00</td>\n",
       "      <td>62030.78500</td>\n",
       "      <td>3517.34</td>\n",
       "      <td>2701.31</td>\n",
       "      <td>3064.00</td>\n",
       "      <td>2314.06</td>\n",
       "    </tr>\n",
       "  </tbody>\n",
       "</table>\n",
       "</div>"
      ],
      "text/plain": [
       "                min_salary  avg_salary  personal_exemption     rate  \\\n",
       "city                                                                  \n",
       "Atlanta            46000.0     63247.0              2700.0  0.06000   \n",
       "Austin             44000.0     60804.0                 0.0  0.00000   \n",
       "Bellevue           50000.0     68399.0                 0.0  0.00000   \n",
       "Boston             49000.0     67184.0              4400.0  0.05100   \n",
       "Boulder            36000.0     49746.0                 0.0  0.04630   \n",
       "Cambridge          49000.0     67184.0              4400.0  0.05100   \n",
       "Charlotte          46000.0     63528.0                 0.0  0.05499   \n",
       "Chicago            46000.0     63218.0                 0.0  0.04950   \n",
       "Dallas             48000.0     66387.0                 0.0  0.00000   \n",
       "Denver             47000.0     64095.0                 0.0  0.04630   \n",
       "Irvine             50000.0     69088.0               114.0  0.09300   \n",
       "Los-Angeles        50000.0     69088.0              2000.0  0.09300   \n",
       "Mountain-View      68000.0     91507.0               114.0  0.09300   \n",
       "Nashville          42000.0     57579.0              1250.0  0.03000   \n",
       "New-York           50000.0     69275.0                 0.0  0.06570   \n",
       "Palo-Alto          68000.0     91507.0               114.0  0.09300   \n",
       "Philadelphia       44000.0     60843.0                 0.0  0.03070   \n",
       "Plano              48000.0     66387.0                 0.0  0.00000   \n",
       "Portland           49000.0     67017.0                90.0  0.09000   \n",
       "Raleigh            46000.0     62990.0                 0.0  0.05499   \n",
       "Richmond           50000.0     68385.0               930.0  0.05750   \n",
       "Salt-Lake-City     44000.0     60939.0                 0.0  0.05000   \n",
       "San-Diego          47000.0     64020.0                 0.0  0.09300   \n",
       "San-Francisco      63000.0     86043.0               114.0  0.09300   \n",
       "San-Jose           68000.0     91507.0               114.0  0.09300   \n",
       "Santa-Monica       50000.0     69088.0               114.0  0.09300   \n",
       "Seattle            50000.0     68399.0                 0.0  0.00000   \n",
       "Sunnyvale          68000.0     91507.0               114.0  0.09300   \n",
       "Washington         51000.0     69979.0              2000.0  0.08500   \n",
       "\n",
       "                standard_deduction  Adjusted_Min_Salary  Adjusted_Avg_Salary  \\\n",
       "city                                                                           \n",
       "Atlanta                     4600.0             35940.00          52152.18000   \n",
       "Austin                         0.0             44000.00          60804.00000   \n",
       "Bellevue                       0.0             50000.00          68399.00000   \n",
       "Boston                         0.0             42101.00          59357.61600   \n",
       "Boulder                        0.0             34333.20          47442.76020   \n",
       "Cambridge                      0.0             42101.00          59357.61600   \n",
       "Charlotte                   8750.0             34720.46          51284.59528   \n",
       "Chicago                        0.0             43723.00          60088.70900   \n",
       "Dallas                         0.0             48000.00          66387.00000   \n",
       "Denver                         0.0             44823.90          61127.40150   \n",
       "Irvine                      4236.0             41000.00          58312.81600   \n",
       "Los-Angeles                 4236.0             39114.00          56426.81600   \n",
       "Mountain-View               4236.0             57326.00          78646.84900   \n",
       "Nashville                      0.0             39490.00          54601.63000   \n",
       "New-York                    8000.0             38715.00          56723.63250   \n",
       "Palo-Alto                   4236.0             57326.00          78646.84900   \n",
       "Philadelphia                   0.0             42649.20          58975.11990   \n",
       "Plano                          0.0             48000.00          66387.00000   \n",
       "Portland                    2175.0             42325.00          58720.47000   \n",
       "Raleigh                     8750.0             34720.46          50776.17990   \n",
       "Richmond                    3000.0             43195.00          60522.86250   \n",
       "Salt-Lake-City                 0.0             41800.00          57892.05000   \n",
       "San-Diego                  12000.0             30629.00          46066.14000   \n",
       "San-Francisco               4236.0             52791.00          73691.00100   \n",
       "San-Jose                    4236.0             57326.00          78646.84900   \n",
       "Santa-Monica                4236.0             41000.00          58312.81600   \n",
       "Seattle                        0.0             50000.00          68399.00000   \n",
       "Sunnyvale                   4236.0             57326.00          78646.84900   \n",
       "Washington                     0.0             44665.00          62030.78500   \n",
       "\n",
       "                1_Bed_Center_Total  3_Bed_Center_Total  1_Bed_Outside_Total  \\\n",
       "city                                                                          \n",
       "Atlanta                    2826.20             2212.82              2369.24   \n",
       "Austin                     2969.98             2289.77              2399.66   \n",
       "Bellevue                   3430.36             2473.14              3130.89   \n",
       "Boston                     3821.77             2853.61              3136.72   \n",
       "Boulder                    2824.38             2341.05              2562.76   \n",
       "Cambridge                  2314.90             1854.07              2086.22   \n",
       "Charlotte                  2717.21             2051.36              2269.79   \n",
       "Chicago                    3078.89             2405.30              2463.50   \n",
       "Dallas                     2590.93             2092.87              2255.06   \n",
       "Denver                     2907.57             2211.63              2574.14   \n",
       "Irvine                     3353.58             2384.34              3143.25   \n",
       "Los-Angeles                3482.61             2646.62              3036.76   \n",
       "Mountain-View              4161.09             2832.76              3674.42   \n",
       "Nashville                  2872.34             2253.19              2374.51   \n",
       "New-York                   4646.15             3593.82              3414.25   \n",
       "Palo-Alto                  4387.48             3127.55              4094.21   \n",
       "Philadelphia               2893.43             2273.30              2368.40   \n",
       "Plano                      2489.02             2043.78              2259.89   \n",
       "Portland                   2864.56             2296.22              2485.55   \n",
       "Raleigh                    2463.53             1879.52              2220.98   \n",
       "Richmond                   2409.60             1833.64              2187.77   \n",
       "Salt-Lake-City             2440.12             1880.80              2099.88   \n",
       "San-Diego                  3210.41             2406.10              2804.00   \n",
       "San-Francisco              4806.91             3329.76              4053.38   \n",
       "San-Jose                   3714.08             2500.71              3456.40   \n",
       "Santa-Monica               3877.65             3380.75              3464.08   \n",
       "Seattle                    3375.61             2609.09              2866.58   \n",
       "Sunnyvale                  4161.60             2806.31              3640.97   \n",
       "Washington                 3517.34             2701.31              3064.00   \n",
       "\n",
       "                3_Bed_Outside_Total  \n",
       "city                                 \n",
       "Atlanta                     1879.63  \n",
       "Austin                      1943.74  \n",
       "Bellevue                    2220.37  \n",
       "Boston                      2316.74  \n",
       "Boulder                     2122.53  \n",
       "Cambridge                   1725.55  \n",
       "Charlotte                   1797.04  \n",
       "Chicago                     1993.23  \n",
       "Dallas                      1867.09  \n",
       "Denver                      1982.24  \n",
       "Irvine                      2270.99  \n",
       "Los-Angeles                 2310.66  \n",
       "Mountain-View               2641.09  \n",
       "Nashville                   1918.48  \n",
       "New-York                    2594.11  \n",
       "Palo-Alto                   2871.99  \n",
       "Philadelphia                1881.41  \n",
       "Plano                       1905.69  \n",
       "Portland                    1980.12  \n",
       "Raleigh                     1737.42  \n",
       "Richmond                    1713.20  \n",
       "Salt-Lake-City              1722.83  \n",
       "San-Diego                   2184.68  \n",
       "San-Francisco               2852.41  \n",
       "San-Jose                    2415.23  \n",
       "Santa-Monica                2842.65  \n",
       "Seattle                     2216.39  \n",
       "Sunnyvale                   2542.65  \n",
       "Washington                  2314.06  "
      ]
     },
     "execution_count": 44,
     "metadata": {},
     "output_type": "execute_result"
    }
   ],
   "source": [
    "dfs3 = [analyst_city_incomes_taxes, df.sort_index()]\n",
    "analyst_net_monthly = pd.concat(dfs3, axis=1)\n",
    "analyst_net_monthly"
   ]
  },
  {
   "cell_type": "code",
   "execution_count": 45,
   "metadata": {
    "ExecuteTime": {
     "end_time": "2018-08-15T02:14:53.327495Z",
     "start_time": "2018-08-15T02:14:53.300049Z"
    }
   },
   "outputs": [],
   "source": [
    "analyst_net_monthly['1BC_Net'] = round(((analyst_net_monthly['Adjusted_Avg_Salary'] / 12) - analyst_net_monthly['1_Bed_Center_Total']),2)\n",
    "analyst_net_monthly['1BO_Net'] = round(((analyst_net_monthly['Adjusted_Avg_Salary'] / 12) - analyst_net_monthly['1_Bed_Outside_Total']),2)\n",
    "analyst_net_monthly['3BC_Net'] = round(((analyst_net_monthly['Adjusted_Avg_Salary'] / 12) - analyst_net_monthly['3_Bed_Center_Total']),2)\n",
    "analyst_net_monthly['3BO_Net'] = round(((analyst_net_monthly['Adjusted_Avg_Salary'] / 12) - analyst_net_monthly['3_Bed_Outside_Total']),2)"
   ]
  },
  {
   "cell_type": "code",
   "execution_count": 46,
   "metadata": {
    "ExecuteTime": {
     "end_time": "2018-08-15T02:15:21.751247Z",
     "start_time": "2018-08-15T02:15:21.725480Z"
    }
   },
   "outputs": [],
   "source": [
    "analyst_net_monthly_slim = analyst_net_monthly.iloc[:,-4:]"
   ]
  },
  {
   "cell_type": "code",
   "execution_count": 47,
   "metadata": {
    "ExecuteTime": {
     "end_time": "2018-08-15T02:16:17.844729Z",
     "start_time": "2018-08-15T02:16:17.819877Z"
    }
   },
   "outputs": [],
   "source": [
    "analyst_net_monthly_slim['1BC_Yrs'] = round(debt / ((analyst_net_monthly_slim['1BC_Net'] * .30) * 12),2)\n",
    "analyst_net_monthly_slim['1BO_Yrs'] = round(debt / ((analyst_net_monthly_slim['1BO_Net'] * .30) * 12),2)\n",
    "analyst_net_monthly_slim['3BC_Yrs'] = round(debt / ((analyst_net_monthly_slim['3BC_Net'] * .30) * 12),2)\n",
    "analyst_net_monthly_slim['3BO_Yrs'] = round(debt / ((analyst_net_monthly_slim['3BO_Net'] * .30) * 12),2)"
   ]
  },
  {
   "cell_type": "code",
   "execution_count": 48,
   "metadata": {
    "ExecuteTime": {
     "end_time": "2018-08-15T02:16:41.598303Z",
     "start_time": "2018-08-15T02:16:41.225814Z"
    }
   },
   "outputs": [
    {
     "data": {
      "text/plain": [
       "<BarContainer object of 29 artists>"
      ]
     },
     "execution_count": 48,
     "metadata": {},
     "output_type": "execute_result"
    },
    {
     "data": {
      "image/png": "[encoded data removed]",
      "text/plain": [
       "<Figure size 2016x432 with 1 Axes>"
      ]
     },
     "metadata": {},
     "output_type": "display_data"
    }
   ],
   "source": [
    "x = analyst_net_monthly_slim.index\n",
    "y = analyst_net_monthly_slim['1BC_Yrs']\n",
    "\n",
    "fig = plt.figure(figsize=(28,6))\n",
    "ax = fig.add_subplot(121)\n",
    "ax.set_xlabel('City')\n",
    "ax.set_ylabel('Years')\n",
    "ax.set_title(\"Num Years To Pay Debt By City - 1 Bedroom In City Center\")\n",
    "ax.set_xticklabels(x, rotation=90)\n",
    "ax.bar(x,y)"
   ]
  },
  {
   "cell_type": "code",
   "execution_count": 49,
   "metadata": {
    "ExecuteTime": {
     "end_time": "2018-08-15T02:17:32.350030Z",
     "start_time": "2018-08-15T02:17:32.309654Z"
    }
   },
   "outputs": [
    {
     "data": {
      "text/html": [
       "<div>\n",
       "<style scoped>\n",
       "    .dataframe tbody tr th:only-of-type {\n",
       "        vertical-align: middle;\n",
       "    }\n",
       "\n",
       "    .dataframe tbody tr th {\n",
       "        vertical-align: top;\n",
       "    }\n",
       "\n",
       "    .dataframe thead th {\n",
       "        text-align: right;\n",
       "    }\n",
       "</style>\n",
       "<table border=\"1\" class=\"dataframe\">\n",
       "  <thead>\n",
       "    <tr style=\"text-align: right;\">\n",
       "      <th></th>\n",
       "      <th>1BC_Net</th>\n",
       "      <th>1BO_Net</th>\n",
       "      <th>3BC_Net</th>\n",
       "      <th>3BO_Net</th>\n",
       "      <th>1BC_Yrs</th>\n",
       "      <th>1BO_Yrs</th>\n",
       "      <th>3BC_Yrs</th>\n",
       "      <th>3BO_Yrs</th>\n",
       "    </tr>\n",
       "    <tr>\n",
       "      <th>city</th>\n",
       "      <th></th>\n",
       "      <th></th>\n",
       "      <th></th>\n",
       "      <th></th>\n",
       "      <th></th>\n",
       "      <th></th>\n",
       "      <th></th>\n",
       "      <th></th>\n",
       "    </tr>\n",
       "  </thead>\n",
       "  <tbody>\n",
       "    <tr>\n",
       "      <th>Atlanta</th>\n",
       "      <td>1519.82</td>\n",
       "      <td>1976.78</td>\n",
       "      <td>2133.20</td>\n",
       "      <td>2466.39</td>\n",
       "      <td>10.36</td>\n",
       "      <td>7.97</td>\n",
       "      <td>7.38</td>\n",
       "      <td>6.39</td>\n",
       "    </tr>\n",
       "    <tr>\n",
       "      <th>Austin</th>\n",
       "      <td>2097.02</td>\n",
       "      <td>2667.34</td>\n",
       "      <td>2777.23</td>\n",
       "      <td>3123.26</td>\n",
       "      <td>7.51</td>\n",
       "      <td>5.90</td>\n",
       "      <td>5.67</td>\n",
       "      <td>5.04</td>\n",
       "    </tr>\n",
       "    <tr>\n",
       "      <th>Bellevue</th>\n",
       "      <td>2269.56</td>\n",
       "      <td>2569.03</td>\n",
       "      <td>3226.78</td>\n",
       "      <td>3479.55</td>\n",
       "      <td>6.94</td>\n",
       "      <td>6.13</td>\n",
       "      <td>4.88</td>\n",
       "      <td>4.53</td>\n",
       "    </tr>\n",
       "    <tr>\n",
       "      <th>Boston</th>\n",
       "      <td>1124.70</td>\n",
       "      <td>1809.75</td>\n",
       "      <td>2092.86</td>\n",
       "      <td>2629.73</td>\n",
       "      <td>14.00</td>\n",
       "      <td>8.70</td>\n",
       "      <td>7.53</td>\n",
       "      <td>5.99</td>\n",
       "    </tr>\n",
       "    <tr>\n",
       "      <th>Boulder</th>\n",
       "      <td>1129.18</td>\n",
       "      <td>1390.80</td>\n",
       "      <td>1612.51</td>\n",
       "      <td>1831.03</td>\n",
       "      <td>13.95</td>\n",
       "      <td>11.32</td>\n",
       "      <td>9.77</td>\n",
       "      <td>8.60</td>\n",
       "    </tr>\n",
       "    <tr>\n",
       "      <th>Cambridge</th>\n",
       "      <td>2631.57</td>\n",
       "      <td>2860.25</td>\n",
       "      <td>3092.40</td>\n",
       "      <td>3220.92</td>\n",
       "      <td>5.99</td>\n",
       "      <td>5.51</td>\n",
       "      <td>5.09</td>\n",
       "      <td>4.89</td>\n",
       "    </tr>\n",
       "    <tr>\n",
       "      <th>Charlotte</th>\n",
       "      <td>1556.51</td>\n",
       "      <td>2003.93</td>\n",
       "      <td>2222.36</td>\n",
       "      <td>2476.68</td>\n",
       "      <td>10.12</td>\n",
       "      <td>7.86</td>\n",
       "      <td>7.09</td>\n",
       "      <td>6.36</td>\n",
       "    </tr>\n",
       "    <tr>\n",
       "      <th>Chicago</th>\n",
       "      <td>1928.50</td>\n",
       "      <td>2543.89</td>\n",
       "      <td>2602.09</td>\n",
       "      <td>3014.16</td>\n",
       "      <td>8.17</td>\n",
       "      <td>6.19</td>\n",
       "      <td>6.05</td>\n",
       "      <td>5.23</td>\n",
       "    </tr>\n",
       "    <tr>\n",
       "      <th>Dallas</th>\n",
       "      <td>2941.32</td>\n",
       "      <td>3277.19</td>\n",
       "      <td>3439.38</td>\n",
       "      <td>3665.16</td>\n",
       "      <td>5.35</td>\n",
       "      <td>4.81</td>\n",
       "      <td>4.58</td>\n",
       "      <td>4.30</td>\n",
       "    </tr>\n",
       "    <tr>\n",
       "      <th>Denver</th>\n",
       "      <td>2186.38</td>\n",
       "      <td>2519.81</td>\n",
       "      <td>2882.32</td>\n",
       "      <td>3111.71</td>\n",
       "      <td>7.20</td>\n",
       "      <td>6.25</td>\n",
       "      <td>5.46</td>\n",
       "      <td>5.06</td>\n",
       "    </tr>\n",
       "    <tr>\n",
       "      <th>Irvine</th>\n",
       "      <td>1505.82</td>\n",
       "      <td>1716.15</td>\n",
       "      <td>2475.06</td>\n",
       "      <td>2588.41</td>\n",
       "      <td>10.46</td>\n",
       "      <td>9.18</td>\n",
       "      <td>6.36</td>\n",
       "      <td>6.08</td>\n",
       "    </tr>\n",
       "    <tr>\n",
       "      <th>Los-Angeles</th>\n",
       "      <td>1219.62</td>\n",
       "      <td>1665.47</td>\n",
       "      <td>2055.61</td>\n",
       "      <td>2391.57</td>\n",
       "      <td>12.91</td>\n",
       "      <td>9.46</td>\n",
       "      <td>7.66</td>\n",
       "      <td>6.59</td>\n",
       "    </tr>\n",
       "    <tr>\n",
       "      <th>Mountain-View</th>\n",
       "      <td>2392.81</td>\n",
       "      <td>2879.48</td>\n",
       "      <td>3721.14</td>\n",
       "      <td>3912.81</td>\n",
       "      <td>6.58</td>\n",
       "      <td>5.47</td>\n",
       "      <td>4.23</td>\n",
       "      <td>4.03</td>\n",
       "    </tr>\n",
       "    <tr>\n",
       "      <th>Nashville</th>\n",
       "      <td>1677.80</td>\n",
       "      <td>2175.63</td>\n",
       "      <td>2296.95</td>\n",
       "      <td>2631.66</td>\n",
       "      <td>9.39</td>\n",
       "      <td>7.24</td>\n",
       "      <td>6.86</td>\n",
       "      <td>5.98</td>\n",
       "    </tr>\n",
       "    <tr>\n",
       "      <th>New-York</th>\n",
       "      <td>80.82</td>\n",
       "      <td>1312.72</td>\n",
       "      <td>1133.15</td>\n",
       "      <td>2132.86</td>\n",
       "      <td>194.88</td>\n",
       "      <td>12.00</td>\n",
       "      <td>13.90</td>\n",
       "      <td>7.38</td>\n",
       "    </tr>\n",
       "    <tr>\n",
       "      <th>Palo-Alto</th>\n",
       "      <td>2166.42</td>\n",
       "      <td>2459.69</td>\n",
       "      <td>3426.35</td>\n",
       "      <td>3681.91</td>\n",
       "      <td>7.27</td>\n",
       "      <td>6.40</td>\n",
       "      <td>4.60</td>\n",
       "      <td>4.28</td>\n",
       "    </tr>\n",
       "    <tr>\n",
       "      <th>Philadelphia</th>\n",
       "      <td>2021.16</td>\n",
       "      <td>2546.19</td>\n",
       "      <td>2641.29</td>\n",
       "      <td>3033.18</td>\n",
       "      <td>7.79</td>\n",
       "      <td>6.19</td>\n",
       "      <td>5.96</td>\n",
       "      <td>5.19</td>\n",
       "    </tr>\n",
       "    <tr>\n",
       "      <th>Plano</th>\n",
       "      <td>3043.23</td>\n",
       "      <td>3272.36</td>\n",
       "      <td>3488.47</td>\n",
       "      <td>3626.56</td>\n",
       "      <td>5.18</td>\n",
       "      <td>4.81</td>\n",
       "      <td>4.51</td>\n",
       "      <td>4.34</td>\n",
       "    </tr>\n",
       "    <tr>\n",
       "      <th>Portland</th>\n",
       "      <td>2028.81</td>\n",
       "      <td>2407.82</td>\n",
       "      <td>2597.15</td>\n",
       "      <td>2913.25</td>\n",
       "      <td>7.76</td>\n",
       "      <td>6.54</td>\n",
       "      <td>6.06</td>\n",
       "      <td>5.41</td>\n",
       "    </tr>\n",
       "    <tr>\n",
       "      <th>Raleigh</th>\n",
       "      <td>1767.82</td>\n",
       "      <td>2010.37</td>\n",
       "      <td>2351.83</td>\n",
       "      <td>2493.93</td>\n",
       "      <td>8.91</td>\n",
       "      <td>7.83</td>\n",
       "      <td>6.70</td>\n",
       "      <td>6.32</td>\n",
       "    </tr>\n",
       "    <tr>\n",
       "      <th>Richmond</th>\n",
       "      <td>2633.97</td>\n",
       "      <td>2855.80</td>\n",
       "      <td>3209.93</td>\n",
       "      <td>3330.37</td>\n",
       "      <td>5.98</td>\n",
       "      <td>5.52</td>\n",
       "      <td>4.91</td>\n",
       "      <td>4.73</td>\n",
       "    </tr>\n",
       "    <tr>\n",
       "      <th>Salt-Lake-City</th>\n",
       "      <td>2384.22</td>\n",
       "      <td>2724.46</td>\n",
       "      <td>2943.54</td>\n",
       "      <td>3101.51</td>\n",
       "      <td>6.61</td>\n",
       "      <td>5.78</td>\n",
       "      <td>5.35</td>\n",
       "      <td>5.08</td>\n",
       "    </tr>\n",
       "    <tr>\n",
       "      <th>San-Diego</th>\n",
       "      <td>628.43</td>\n",
       "      <td>1034.84</td>\n",
       "      <td>1432.74</td>\n",
       "      <td>1654.16</td>\n",
       "      <td>25.06</td>\n",
       "      <td>15.22</td>\n",
       "      <td>10.99</td>\n",
       "      <td>9.52</td>\n",
       "    </tr>\n",
       "    <tr>\n",
       "      <th>San-Francisco</th>\n",
       "      <td>1334.01</td>\n",
       "      <td>2087.54</td>\n",
       "      <td>2811.16</td>\n",
       "      <td>3288.51</td>\n",
       "      <td>11.81</td>\n",
       "      <td>7.54</td>\n",
       "      <td>5.60</td>\n",
       "      <td>4.79</td>\n",
       "    </tr>\n",
       "    <tr>\n",
       "      <th>San-Jose</th>\n",
       "      <td>2839.82</td>\n",
       "      <td>3097.50</td>\n",
       "      <td>4053.19</td>\n",
       "      <td>4138.67</td>\n",
       "      <td>5.55</td>\n",
       "      <td>5.08</td>\n",
       "      <td>3.89</td>\n",
       "      <td>3.81</td>\n",
       "    </tr>\n",
       "    <tr>\n",
       "      <th>Santa-Monica</th>\n",
       "      <td>981.75</td>\n",
       "      <td>1395.32</td>\n",
       "      <td>1478.65</td>\n",
       "      <td>2016.75</td>\n",
       "      <td>16.04</td>\n",
       "      <td>11.29</td>\n",
       "      <td>10.65</td>\n",
       "      <td>7.81</td>\n",
       "    </tr>\n",
       "    <tr>\n",
       "      <th>Seattle</th>\n",
       "      <td>2324.31</td>\n",
       "      <td>2833.34</td>\n",
       "      <td>3090.83</td>\n",
       "      <td>3483.53</td>\n",
       "      <td>6.78</td>\n",
       "      <td>5.56</td>\n",
       "      <td>5.10</td>\n",
       "      <td>4.52</td>\n",
       "    </tr>\n",
       "    <tr>\n",
       "      <th>Sunnyvale</th>\n",
       "      <td>2392.30</td>\n",
       "      <td>2912.93</td>\n",
       "      <td>3747.59</td>\n",
       "      <td>4011.25</td>\n",
       "      <td>6.58</td>\n",
       "      <td>5.41</td>\n",
       "      <td>4.20</td>\n",
       "      <td>3.93</td>\n",
       "    </tr>\n",
       "    <tr>\n",
       "      <th>Washington</th>\n",
       "      <td>1651.89</td>\n",
       "      <td>2105.23</td>\n",
       "      <td>2467.92</td>\n",
       "      <td>2855.17</td>\n",
       "      <td>9.53</td>\n",
       "      <td>7.48</td>\n",
       "      <td>6.38</td>\n",
       "      <td>5.52</td>\n",
       "    </tr>\n",
       "  </tbody>\n",
       "</table>\n",
       "</div>"
      ],
      "text/plain": [
       "                1BC_Net  1BO_Net  3BC_Net  3BO_Net  1BC_Yrs  1BO_Yrs  3BC_Yrs  \\\n",
       "city                                                                            \n",
       "Atlanta         1519.82  1976.78  2133.20  2466.39    10.36     7.97     7.38   \n",
       "Austin          2097.02  2667.34  2777.23  3123.26     7.51     5.90     5.67   \n",
       "Bellevue        2269.56  2569.03  3226.78  3479.55     6.94     6.13     4.88   \n",
       "Boston          1124.70  1809.75  2092.86  2629.73    14.00     8.70     7.53   \n",
       "Boulder         1129.18  1390.80  1612.51  1831.03    13.95    11.32     9.77   \n",
       "Cambridge       2631.57  2860.25  3092.40  3220.92     5.99     5.51     5.09   \n",
       "Charlotte       1556.51  2003.93  2222.36  2476.68    10.12     7.86     7.09   \n",
       "Chicago         1928.50  2543.89  2602.09  3014.16     8.17     6.19     6.05   \n",
       "Dallas          2941.32  3277.19  3439.38  3665.16     5.35     4.81     4.58   \n",
       "Denver          2186.38  2519.81  2882.32  3111.71     7.20     6.25     5.46   \n",
       "Irvine          1505.82  1716.15  2475.06  2588.41    10.46     9.18     6.36   \n",
       "Los-Angeles     1219.62  1665.47  2055.61  2391.57    12.91     9.46     7.66   \n",
       "Mountain-View   2392.81  2879.48  3721.14  3912.81     6.58     5.47     4.23   \n",
       "Nashville       1677.80  2175.63  2296.95  2631.66     9.39     7.24     6.86   \n",
       "New-York          80.82  1312.72  1133.15  2132.86   194.88    12.00    13.90   \n",
       "Palo-Alto       2166.42  2459.69  3426.35  3681.91     7.27     6.40     4.60   \n",
       "Philadelphia    2021.16  2546.19  2641.29  3033.18     7.79     6.19     5.96   \n",
       "Plano           3043.23  3272.36  3488.47  3626.56     5.18     4.81     4.51   \n",
       "Portland        2028.81  2407.82  2597.15  2913.25     7.76     6.54     6.06   \n",
       "Raleigh         1767.82  2010.37  2351.83  2493.93     8.91     7.83     6.70   \n",
       "Richmond        2633.97  2855.80  3209.93  3330.37     5.98     5.52     4.91   \n",
       "Salt-Lake-City  2384.22  2724.46  2943.54  3101.51     6.61     5.78     5.35   \n",
       "San-Diego        628.43  1034.84  1432.74  1654.16    25.06    15.22    10.99   \n",
       "San-Francisco   1334.01  2087.54  2811.16  3288.51    11.81     7.54     5.60   \n",
       "San-Jose        2839.82  3097.50  4053.19  4138.67     5.55     5.08     3.89   \n",
       "Santa-Monica     981.75  1395.32  1478.65  2016.75    16.04    11.29    10.65   \n",
       "Seattle         2324.31  2833.34  3090.83  3483.53     6.78     5.56     5.10   \n",
       "Sunnyvale       2392.30  2912.93  3747.59  4011.25     6.58     5.41     4.20   \n",
       "Washington      1651.89  2105.23  2467.92  2855.17     9.53     7.48     6.38   \n",
       "\n",
       "                3BO_Yrs  \n",
       "city                     \n",
       "Atlanta            6.39  \n",
       "Austin             5.04  \n",
       "Bellevue           4.53  \n",
       "Boston             5.99  \n",
       "Boulder            8.60  \n",
       "Cambridge          4.89  \n",
       "Charlotte          6.36  \n",
       "Chicago            5.23  \n",
       "Dallas             4.30  \n",
       "Denver             5.06  \n",
       "Irvine             6.08  \n",
       "Los-Angeles        6.59  \n",
       "Mountain-View      4.03  \n",
       "Nashville          5.98  \n",
       "New-York           7.38  \n",
       "Palo-Alto          4.28  \n",
       "Philadelphia       5.19  \n",
       "Plano              4.34  \n",
       "Portland           5.41  \n",
       "Raleigh            6.32  \n",
       "Richmond           4.73  \n",
       "Salt-Lake-City     5.08  \n",
       "San-Diego          9.52  \n",
       "San-Francisco      4.79  \n",
       "San-Jose           3.81  \n",
       "Santa-Monica       7.81  \n",
       "Seattle            4.52  \n",
       "Sunnyvale          3.93  \n",
       "Washington         5.52  "
      ]
     },
     "execution_count": 49,
     "metadata": {},
     "output_type": "execute_result"
    }
   ],
   "source": [
    "analyst_net_monthly_slim"
   ]
  },
  {
   "cell_type": "code",
   "execution_count": 50,
   "metadata": {
    "ExecuteTime": {
     "end_time": "2018-08-15T02:18:14.981012Z",
     "start_time": "2018-08-15T02:18:14.671832Z"
    }
   },
   "outputs": [
    {
     "data": {
      "text/plain": [
       "<BarContainer object of 29 artists>"
      ]
     },
     "execution_count": 50,
     "metadata": {},
     "output_type": "execute_result"
    },
    {
     "data": {
      "image/png": "[encoded data removed]",
      "text/plain": [
       "<Figure size 2016x432 with 1 Axes>"
      ]
     },
     "metadata": {},
     "output_type": "display_data"
    }
   ],
   "source": [
    "x = analyst_net_monthly_slim.index\n",
    "y = analyst_net_monthly_slim['1BO_Yrs']\n",
    "\n",
    "fig = plt.figure(figsize=(28,6))\n",
    "ax = fig.add_subplot(121)\n",
    "ax.set_xlabel('City')\n",
    "ax.set_ylabel('Years')\n",
    "ax.set_title(\"Num Years To Pay Debt By City - 1 Bedroom Outside City Center\")\n",
    "ax.set_xticklabels(x, rotation=90)\n",
    "ax.bar(x,y)"
   ]
  },
  {
   "cell_type": "code",
   "execution_count": 51,
   "metadata": {
    "ExecuteTime": {
     "end_time": "2018-08-15T02:18:40.379322Z",
     "start_time": "2018-08-15T02:18:40.030209Z"
    }
   },
   "outputs": [
    {
     "data": {
      "text/plain": [
       "<BarContainer object of 29 artists>"
      ]
     },
     "execution_count": 51,
     "metadata": {},
     "output_type": "execute_result"
    },
    {
     "data": {
      "image/png": "[encoded data removed]",
      "text/plain": [
       "<Figure size 2016x432 with 1 Axes>"
      ]
     },
     "metadata": {},
     "output_type": "display_data"
    }
   ],
   "source": [
    "x = analyst_net_monthly_slim.index\n",
    "y = analyst_net_monthly_slim['3BC_Yrs']\n",
    "\n",
    "fig = plt.figure(figsize=(28,6))\n",
    "ax = fig.add_subplot(121)\n",
    "ax.set_xlabel('City')\n",
    "ax.set_ylabel('Years')\n",
    "ax.set_title(\"Num Years To Pay Debt By City - 3 Bedrooms In City Center\")\n",
    "ax.set_xticklabels(x, rotation=90)\n",
    "ax.bar(x,y)"
   ]
  },
  {
   "cell_type": "code",
   "execution_count": 52,
   "metadata": {
    "ExecuteTime": {
     "end_time": "2018-08-15T02:19:00.175133Z",
     "start_time": "2018-08-15T02:18:59.862506Z"
    }
   },
   "outputs": [
    {
     "data": {
      "text/plain": [
       "<BarContainer object of 29 artists>"
      ]
     },
     "execution_count": 52,
     "metadata": {},
     "output_type": "execute_result"
    },
    {
     "data": {
      "image/png": "[encoded data removed]",
      "text/plain": [
       "<Figure size 2016x432 with 1 Axes>"
      ]
     },
     "metadata": {},
     "output_type": "display_data"
    }
   ],
   "source": [
    "x = analyst_net_monthly_slim.index\n",
    "y = analyst_net_monthly_slim['3BO_Yrs']\n",
    "\n",
    "fig = plt.figure(figsize=(28,6))\n",
    "ax = fig.add_subplot(121)\n",
    "ax.set_xlabel('City')\n",
    "ax.set_ylabel('Years')\n",
    "ax.set_title(\"Num Years To Pay Debt By City - 3 Bedrooms Outside City Center\")\n",
    "ax.set_xticklabels(x, rotation=90)\n",
    "ax.bar(x,y)"
   ]
  },
  {
   "cell_type": "code",
   "execution_count": null,
   "metadata": {},
   "outputs": [],
   "source": []
  }
 ],
 "metadata": {
  "kernelspec": {
   "display_name": "Python 3",
   "language": "python",
   "name": "python3"
  },
  "language_info": {
   "codemirror_mode": {
    "name": "ipython",
    "version": 3
   },
   "file_extension": ".py",
   "mimetype": "text/x-python",
   "name": "python",
   "nbconvert_exporter": "python",
   "pygments_lexer": "ipython3",
   "version": "3.6.5"
  }
 },
 "nbformat": 4,
 "nbformat_minor": 2
}
