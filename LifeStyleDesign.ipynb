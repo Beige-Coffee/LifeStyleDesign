{
 "cells": [
  {
   "cell_type": "code",
   "execution_count": 1,
   "metadata": {
    "ExecuteTime": {
     "end_time": "2018-08-14T12:14:13.000940Z",
     "start_time": "2018-08-14T12:14:11.761056Z"
    },
    "scrolled": true
   },
   "outputs": [],
   "source": [
    "from selenium.webdriver import Chrome\n",
    "from bs4 import BeautifulSoup\n",
    "import pandas as pd\n",
    "import numpy as np\n",
    "import pymongo\n",
    "from selenium.common.exceptions import NoSuchElementException\n",
    "from cost_of_living import *\n",
    "from functools import reduce\n",
    "import matplotlib.pyplot as plt\n",
    "%matplotlib inline\n",
    "from hidden import debt"
   ]
  },
  {
   "cell_type": "markdown",
   "metadata": {},
   "source": [
    "## Use this to download a DataFrame to csv, pickle a DF, and unpickle a DF"
   ]
  },
  {
   "cell_type": "code",
   "execution_count": 2,
   "metadata": {
    "ExecuteTime": {
     "end_time": "2018-08-14T12:14:13.030442Z",
     "start_time": "2018-08-14T12:14:13.003157Z"
    }
   },
   "outputs": [],
   "source": [
    "#avg_salaries_df.to_csv(\"avg_salaries.csv\", index=False)\n",
    "\n",
    "##  Pickle DF ##\n",
    "#citydf.to_pickle('citydf')\n",
    "##  Unpickle DF ##\n",
    "# df = pd.read_pickle(file_name)\n",
    "\n",
    "##  Save DF to excel ##\n",
    "#writer = pd.ExcelWriter('citydf.xlsx')\n",
    "#citydf.to_excel(writer,'citydf')\n",
    "#writer.save()"
   ]
  },
  {
   "cell_type": "markdown",
   "metadata": {},
   "source": [
    "## Declare cities of interest"
   ]
  },
  {
   "cell_type": "code",
   "execution_count": 13,
   "metadata": {
    "ExecuteTime": {
     "end_time": "2018-08-14T12:16:07.976810Z",
     "start_time": "2018-08-14T12:16:07.951719Z"
    }
   },
   "outputs": [],
   "source": [
    "cities = ['Palo-Alto', 'San-Jose', 'Portland', 'Austin', 'Denver', 'San-Diego', 'Washington', 'Boston', \n",
    "                 'San-Francisco', 'Seattle', 'Atlanta', 'Los-Angeles', 'Chicago', 'New-York', 'Mountain-View',\n",
    "                 'Santa-Monica', 'Cambridge', 'Salt-Lake-City', 'Raleigh', 'Nashville', 'Sunnyvale', 'Boulder',\n",
    "                 'Irvine', 'Philadelphia', 'Dallas', 'Bellevue', \n",
    "                 'Charlotte', 'Plano', 'Richmond']"
   ]
  },
  {
   "cell_type": "markdown",
   "metadata": {
    "ExecuteTime": {
     "end_time": "2018-08-06T19:11:16.061216Z",
     "start_time": "2018-08-06T19:11:16.037767Z"
    }
   },
   "source": [
    "## Scrape Cost-Of-Living data and turn into DataFrame"
   ]
  },
  {
   "cell_type": "code",
   "execution_count": 14,
   "metadata": {
    "ExecuteTime": {
     "end_time": "2018-08-14T12:20:37.361712Z",
     "start_time": "2018-08-14T12:16:15.279383Z"
    }
   },
   "outputs": [],
   "source": [
    "city_data = list(scrape_cities(cities))"
   ]
  },
  {
   "cell_type": "code",
   "execution_count": 15,
   "metadata": {
    "ExecuteTime": {
     "end_time": "2018-08-14T12:25:44.697783Z",
     "start_time": "2018-08-14T12:25:44.646157Z"
    }
   },
   "outputs": [],
   "source": [
    "citydf = pd.DataFrame(city_data)"
   ]
  },
  {
   "cell_type": "markdown",
   "metadata": {},
   "source": [
    "## Remove characters from price columns that will cause problems later"
   ]
  },
  {
   "cell_type": "code",
   "execution_count": 16,
   "metadata": {
    "ExecuteTime": {
     "end_time": "2018-08-14T12:25:45.684016Z",
     "start_time": "2018-08-14T12:25:45.649260Z"
    }
   },
   "outputs": [],
   "source": [
    "citydf['price'] = citydf['price'].apply(lambda x : x.replace(',', '').replace('£', ''))"
   ]
  },
  {
   "cell_type": "markdown",
   "metadata": {},
   "source": [
    "## Create a monthy constants object that can be used to calculate cost-of-living expenditures that are specific for each city"
   ]
  },
  {
   "cell_type": "code",
   "execution_count": 17,
   "metadata": {
    "ExecuteTime": {
     "end_time": "2018-08-14T12:25:46.434433Z",
     "start_time": "2018-08-14T12:25:46.409063Z"
    }
   },
   "outputs": [],
   "source": [
    "monthly_constants = {\n",
    "'Cinema, International Release, 1 Seat' : 2,\n",
    "'Fitness Club, Monthly Fee for 1 Adult' : 2,\n",
    "'Basic (Electricity, Heating, Cooling, Water, Garbage) for 915 sq ft Apartment' : 1,\n",
    "'Internet (60 Mbps or More, Unlimited Data, Cable/ADSL)' : 1,\n",
    "'Gasoline (1 gallon)' : 15,\n",
    "'Imported Beer (11.2 oz small bottle)' : 10,\n",
    "'Bottle of Wine (Mid-Range)' : 2,\n",
    "'Cappuccino (regular)'  : 30,\n",
    "'Meal, Inexpensive Restaurant' : 8,\n",
    "'1 Pair of Jeans (Levis 501 Or Similar)' : 1\n",
    "}"
   ]
  },
  {
   "cell_type": "markdown",
   "metadata": {},
   "source": [
    "## Write funcions to calculate the specific cost-of-living for 4 different prespecified living situations"
   ]
  },
  {
   "cell_type": "code",
   "execution_count": 18,
   "metadata": {
    "ExecuteTime": {
     "end_time": "2018-08-14T12:25:47.260801Z",
     "start_time": "2018-08-14T12:25:47.233351Z"
    }
   },
   "outputs": [],
   "source": [
    "def cost_per_city_1B_Center(citydf, cities):\n",
    "    for city in cities:\n",
    "        total = 0\n",
    "        for item, price in monthly_constants.items():\n",
    "            price = float(citydf[(citydf['city']==city) & (citydf['item']==item)].values[0][3]) * price\n",
    "            total += price\n",
    "        total += 600 # for groceries & transportation\n",
    "        total += (float(citydf[(citydf['city']==city) & \n",
    "                               (citydf['item']=='Apartment (1 bedroom) in City Centre')].values[0][3]))\n",
    "        result = {\n",
    "        'city' : city,\n",
    "        '1_Bed_Center_Total' : total\n",
    "                  }\n",
    "        yield result"
   ]
  },
  {
   "cell_type": "code",
   "execution_count": 19,
   "metadata": {
    "ExecuteTime": {
     "end_time": "2018-08-14T12:25:47.674288Z",
     "start_time": "2018-08-14T12:25:47.645399Z"
    }
   },
   "outputs": [],
   "source": [
    "def cost_per_city_3B_Center(citydf, cities):\n",
    "    for city in cities:\n",
    "        total = 0\n",
    "        for item, price in monthly_constants.items():\n",
    "            price = float(citydf[(citydf['city']==city) & (citydf['item']==item)].values[0][3]) * price\n",
    "            total += price\n",
    "        total += 600 # for groceries & transportation\n",
    "        total += round((float(citydf[(citydf['city']==city) & \n",
    "                               (citydf['item']=='Apartment (3 bedrooms) in City Centre')].values[0][3]) / 3),2)\n",
    "        result = {\n",
    "        'city' : city,\n",
    "        '3_Bed_Center_Total' : total\n",
    "                  }\n",
    "        yield result"
   ]
  },
  {
   "cell_type": "code",
   "execution_count": 20,
   "metadata": {
    "ExecuteTime": {
     "end_time": "2018-08-14T12:25:47.909015Z",
     "start_time": "2018-08-14T12:25:47.881653Z"
    }
   },
   "outputs": [],
   "source": [
    "def cost_per_city_3B_Outside(citydf, cities):\n",
    "    for city in cities:\n",
    "        total = 0\n",
    "        for item, price in monthly_constants.items():\n",
    "            price = float(citydf[(citydf['city']==city) & (citydf['item']==item)].values[0][3]) * price\n",
    "            total += price\n",
    "        total += 600 # for groceries & transportation\n",
    "        total += round(((float(citydf[(citydf['city']==city) & \n",
    "                               (citydf['item']=='Apartment (3 bedrooms) Outside of Centre')].values[0][3])) / 3),2)\n",
    "        result = {\n",
    "        'city' : city,\n",
    "        '3_Bed_Outside_Total' : total\n",
    "                  }\n",
    "        yield result"
   ]
  },
  {
   "cell_type": "code",
   "execution_count": 21,
   "metadata": {
    "ExecuteTime": {
     "end_time": "2018-08-14T12:25:48.201005Z",
     "start_time": "2018-08-14T12:25:48.169606Z"
    }
   },
   "outputs": [],
   "source": [
    "def cost_per_city_1B_Outside(citydf, cities):\n",
    "    for city in cities:\n",
    "        total = 0\n",
    "        for item, price in monthly_constants.items():\n",
    "            price = float(citydf[(citydf['city']==city) & (citydf['item']==item)].values[0][3]) * price\n",
    "            total += price\n",
    "        total += 600 # for groceries & transportation\n",
    "        total += (float(citydf[(citydf['city']==city) & \n",
    "                               (citydf['item']=='Apartment (1 bedroom) Outside of Centre')].values[0][3]))\n",
    "        result = {\n",
    "        'city' : city,\n",
    "        '1_Bed_Outside_Total' : total\n",
    "                  }\n",
    "        yield result"
   ]
  },
  {
   "cell_type": "markdown",
   "metadata": {},
   "source": [
    "## Create a dataframe of all 4 living situations - for each city"
   ]
  },
  {
   "cell_type": "code",
   "execution_count": 22,
   "metadata": {
    "ExecuteTime": {
     "end_time": "2018-08-14T12:25:50.368556Z",
     "start_time": "2018-08-14T12:25:49.175865Z"
    }
   },
   "outputs": [],
   "source": [
    "B1_center = list(cost_per_city_1B_Center(citydf, cities))\n",
    "B3_center = list(cost_per_city_3B_Center(citydf, cities))\n",
    "B1_Outside = list(cost_per_city_1B_Outside(citydf, cities))\n",
    "B3_Outside = list(cost_per_city_3B_Outside(citydf, cities))\n",
    "B1_center = pd.DataFrame(B1_center)\n",
    "B3_center = pd.DataFrame(B3_center)\n",
    "B1_Outside = pd.DataFrame(B1_Outside)\n",
    "B3_Outside = pd.DataFrame(B3_Outside)"
   ]
  },
  {
   "cell_type": "code",
   "execution_count": 23,
   "metadata": {
    "ExecuteTime": {
     "end_time": "2018-08-14T12:25:51.150157Z",
     "start_time": "2018-08-14T12:25:51.121690Z"
    }
   },
   "outputs": [],
   "source": [
    "B1_center.set_index('city', inplace=True)\n",
    "B3_center.set_index('city', inplace=True)\n",
    "B1_Outside.set_index('city', inplace=True)\n",
    "B3_Outside.set_index('city', inplace=True)"
   ]
  },
  {
   "cell_type": "code",
   "execution_count": 24,
   "metadata": {
    "ExecuteTime": {
     "end_time": "2018-08-14T12:25:51.695172Z",
     "start_time": "2018-08-14T12:25:51.663046Z"
    }
   },
   "outputs": [],
   "source": [
    "dfs = [B1_center, B3_center, B1_Outside, B3_Outside]\n",
    "city_matrix = pd.concat(dfs, axis=1)\n",
    "city_matrix['city'] = city_matrix.index"
   ]
  },
  {
   "cell_type": "markdown",
   "metadata": {},
   "source": [
    "## Make a slim DataFrame, which includes a couple less cities, and, therefore, is a little more focused for our purposes"
   ]
  },
  {
   "cell_type": "code",
   "execution_count": 25,
   "metadata": {
    "ExecuteTime": {
     "end_time": "2018-08-14T12:25:52.725630Z",
     "start_time": "2018-08-14T12:25:52.553396Z"
    }
   },
   "outputs": [
    {
     "data": {
      "text/html": [
       "<div>\n",
       "<style scoped>\n",
       "    .dataframe tbody tr th:only-of-type {\n",
       "        vertical-align: middle;\n",
       "    }\n",
       "\n",
       "    .dataframe tbody tr th {\n",
       "        vertical-align: top;\n",
       "    }\n",
       "\n",
       "    .dataframe thead th {\n",
       "        text-align: right;\n",
       "    }\n",
       "</style>\n",
       "<table border=\"1\" class=\"dataframe\">\n",
       "  <thead>\n",
       "    <tr style=\"text-align: right;\">\n",
       "      <th></th>\n",
       "      <th>1_Bed_Center_Total</th>\n",
       "      <th>3_Bed_Center_Total</th>\n",
       "      <th>1_Bed_Outside_Total</th>\n",
       "      <th>3_Bed_Outside_Total</th>\n",
       "    </tr>\n",
       "    <tr>\n",
       "      <th>city</th>\n",
       "      <th></th>\n",
       "      <th></th>\n",
       "      <th></th>\n",
       "      <th></th>\n",
       "    </tr>\n",
       "  </thead>\n",
       "  <tbody>\n",
       "    <tr>\n",
       "      <th>Palo-Alto</th>\n",
       "      <td>4387.78</td>\n",
       "      <td>3127.85</td>\n",
       "      <td>4094.51</td>\n",
       "      <td>2872.29</td>\n",
       "    </tr>\n",
       "    <tr>\n",
       "      <th>Austin</th>\n",
       "      <td>2969.98</td>\n",
       "      <td>2289.77</td>\n",
       "      <td>2399.66</td>\n",
       "      <td>1943.74</td>\n",
       "    </tr>\n",
       "    <tr>\n",
       "      <th>Denver</th>\n",
       "      <td>2910.66</td>\n",
       "      <td>2213.23</td>\n",
       "      <td>2577.82</td>\n",
       "      <td>1985.90</td>\n",
       "    </tr>\n",
       "    <tr>\n",
       "      <th>San-Diego</th>\n",
       "      <td>3210.41</td>\n",
       "      <td>2406.10</td>\n",
       "      <td>2804.00</td>\n",
       "      <td>2184.68</td>\n",
       "    </tr>\n",
       "    <tr>\n",
       "      <th>Washington</th>\n",
       "      <td>3517.19</td>\n",
       "      <td>2701.16</td>\n",
       "      <td>3063.85</td>\n",
       "      <td>2313.91</td>\n",
       "    </tr>\n",
       "    <tr>\n",
       "      <th>Boston</th>\n",
       "      <td>3821.53</td>\n",
       "      <td>2853.37</td>\n",
       "      <td>3136.48</td>\n",
       "      <td>2316.50</td>\n",
       "    </tr>\n",
       "    <tr>\n",
       "      <th>San-Francisco</th>\n",
       "      <td>4815.12</td>\n",
       "      <td>3350.49</td>\n",
       "      <td>4076.46</td>\n",
       "      <td>2863.90</td>\n",
       "    </tr>\n",
       "    <tr>\n",
       "      <th>Seattle</th>\n",
       "      <td>3374.11</td>\n",
       "      <td>2609.85</td>\n",
       "      <td>2867.34</td>\n",
       "      <td>2217.15</td>\n",
       "    </tr>\n",
       "    <tr>\n",
       "      <th>Chicago</th>\n",
       "      <td>3078.89</td>\n",
       "      <td>2405.30</td>\n",
       "      <td>2463.50</td>\n",
       "      <td>1993.23</td>\n",
       "    </tr>\n",
       "    <tr>\n",
       "      <th>New-York</th>\n",
       "      <td>4643.37</td>\n",
       "      <td>3595.55</td>\n",
       "      <td>3423.52</td>\n",
       "      <td>2591.48</td>\n",
       "    </tr>\n",
       "    <tr>\n",
       "      <th>Mountain-View</th>\n",
       "      <td>4161.09</td>\n",
       "      <td>2832.76</td>\n",
       "      <td>3674.42</td>\n",
       "      <td>2641.09</td>\n",
       "    </tr>\n",
       "    <tr>\n",
       "      <th>Cambridge</th>\n",
       "      <td>2314.90</td>\n",
       "      <td>1854.07</td>\n",
       "      <td>2086.22</td>\n",
       "      <td>1725.55</td>\n",
       "    </tr>\n",
       "    <tr>\n",
       "      <th>Philadelphia</th>\n",
       "      <td>2893.43</td>\n",
       "      <td>2273.30</td>\n",
       "      <td>2368.40</td>\n",
       "      <td>1881.41</td>\n",
       "    </tr>\n",
       "    <tr>\n",
       "      <th>Dallas</th>\n",
       "      <td>2589.88</td>\n",
       "      <td>2094.07</td>\n",
       "      <td>2254.14</td>\n",
       "      <td>1868.29</td>\n",
       "    </tr>\n",
       "    <tr>\n",
       "      <th>Richmond</th>\n",
       "      <td>2409.60</td>\n",
       "      <td>1833.64</td>\n",
       "      <td>2187.77</td>\n",
       "      <td>1713.20</td>\n",
       "    </tr>\n",
       "  </tbody>\n",
       "</table>\n",
       "</div>"
      ],
      "text/plain": [
       "               1_Bed_Center_Total  3_Bed_Center_Total  1_Bed_Outside_Total  \\\n",
       "city                                                                         \n",
       "Palo-Alto                 4387.78             3127.85              4094.51   \n",
       "Austin                    2969.98             2289.77              2399.66   \n",
       "Denver                    2910.66             2213.23              2577.82   \n",
       "San-Diego                 3210.41             2406.10              2804.00   \n",
       "Washington                3517.19             2701.16              3063.85   \n",
       "Boston                    3821.53             2853.37              3136.48   \n",
       "San-Francisco             4815.12             3350.49              4076.46   \n",
       "Seattle                   3374.11             2609.85              2867.34   \n",
       "Chicago                   3078.89             2405.30              2463.50   \n",
       "New-York                  4643.37             3595.55              3423.52   \n",
       "Mountain-View             4161.09             2832.76              3674.42   \n",
       "Cambridge                 2314.90             1854.07              2086.22   \n",
       "Philadelphia              2893.43             2273.30              2368.40   \n",
       "Dallas                    2589.88             2094.07              2254.14   \n",
       "Richmond                  2409.60             1833.64              2187.77   \n",
       "\n",
       "               3_Bed_Outside_Total  \n",
       "city                                \n",
       "Palo-Alto                  2872.29  \n",
       "Austin                     1943.74  \n",
       "Denver                     1985.90  \n",
       "San-Diego                  2184.68  \n",
       "Washington                 2313.91  \n",
       "Boston                     2316.50  \n",
       "San-Francisco              2863.90  \n",
       "Seattle                    2217.15  \n",
       "Chicago                    1993.23  \n",
       "New-York                   2591.48  \n",
       "Mountain-View              2641.09  \n",
       "Cambridge                  1725.55  \n",
       "Philadelphia               1881.41  \n",
       "Dallas                     1868.29  \n",
       "Richmond                   1713.20  "
      ]
     },
     "execution_count": 25,
     "metadata": {},
     "output_type": "execute_result"
    }
   ],
   "source": [
    "slim_city = city_matrix.loc[city_matrix['city'].isin(['Palo-Alto', 'San_Jose', 'Austin', 'Denver', 'San-Diego', 'Washington',\n",
    "                                          'Boston', 'San-Francisco', 'Seattle', 'Los_Angeles', 'Chicago', 'New-York',\n",
    "                                         'Mountain-View', 'Cambridge', 'Philadelphia', 'Dallas', 'Richmond'])]\n",
    "slim_city.drop(columns='city')"
   ]
  },
  {
   "cell_type": "markdown",
   "metadata": {},
   "source": [
    "# Scrape Salaries"
   ]
  },
  {
   "cell_type": "markdown",
   "metadata": {},
   "source": [
    "## Write function to find salary range"
   ]
  },
  {
   "cell_type": "code",
   "execution_count": 26,
   "metadata": {
    "ExecuteTime": {
     "end_time": "2018-08-14T12:25:56.782155Z",
     "start_time": "2018-08-14T12:25:56.745861Z"
    }
   },
   "outputs": [],
   "source": [
    "salaries_dct = {\n",
    "    'palo-alto' : 'https://www.glassdoor.com/Salaries/san-jose-data-scientist-salary-SRCH_IL.0,8_IM761_KO9,23.htm',\n",
    "    'san-jose' : 'https://www.glassdoor.com/Salaries/san-jose-data-scientist-salary-SRCH_IL.0,8_IM761_KO9,23.htm',\n",
    "    'portland' : 'https://www.glassdoor.com/Salaries/portland-data-scientist-salary-SRCH_IL.0,8_IM700_KO9,23.htm',\n",
    "    'austin' : 'https://www.glassdoor.com/Salaries/austin-data-scientist-salary-SRCH_IL.0,6_IM60_KO7,21.htm',\n",
    "    'denver' : 'https://www.glassdoor.com/Salaries/denver-data-scientist-salary-SRCH_IL.0,6_IM234_KO7,21.htm',\n",
    "    'san-diego' : 'https://www.glassdoor.com/Salaries/san-diego-data-scientist-salary-SRCH_IL.0,9_IM758_KO10,24.htm',\n",
    "    'washington' : 'https://www.glassdoor.com/Salaries/washington-dc-data-scientist-salary-SRCH_IL.0,13_IM911_KO14,28.htm',\n",
    "    'boston' : 'https://www.glassdoor.com/Salaries/boston-data-scientist-salary-SRCH_IL.0,6_IM109_KO7,21.htm',\n",
    "    'san-francisco' : 'https://www.glassdoor.com/Salaries/san-francisco-data-scientist-salary-SRCH_IL.0,13_IM759_KO14,28.htm',\n",
    "    'seattle' : 'https://www.glassdoor.com/Salaries/seattle-data-scientist-salary-SRCH_IL.0,7_IM781_KO8,22.htm',\n",
    "    'atlanta' : 'https://www.glassdoor.com/Salaries/atlanta-data-scientist-salary-SRCH_IL.0,7_IM52_KO8,22.htm',\n",
    "    'los-angeles' : 'https://www.glassdoor.com/Salaries/los-angeles-data-scientist-salary-SRCH_IL.0,11_IM508_KO12,26.htm',\n",
    "    'chicago' : 'https://www.glassdoor.com/Salaries/chicago-data-scientist-salary-SRCH_IL.0,7_IM167_KO8,22.htm',\n",
    "    'new-york' : 'https://www.glassdoor.com/Salaries/new-york-city-data-scientist-salary-SRCH_IL.0,13_IM615_KO14,28.htm',\n",
    "    'mountain-view' : 'https://www.glassdoor.com/Salaries/san-jose-data-scientist-salary-SRCH_IL.0,8_IM761_KO9,23.htm',\n",
    "    'santa-monica' : 'https://www.glassdoor.com/Salaries/los-angeles-data-scientist-salary-SRCH_IL.0,11_IM508_KO12,26.htm',\n",
    "    'cambridge' : 'https://www.glassdoor.com/Salaries/boston-data-scientist-salary-SRCH_IL.0,6_IM109_KO7,21.htm',\n",
    "    'salt-lake-city' : 'https://www.glassdoor.com/Salaries/salt-lake-city-data-scientist-salary-SRCH_IL.0,14_IM755_KO15,29.htm',\n",
    "    'raleigh' : 'https://www.glassdoor.com/Salaries/raleigh-data-scientist-salary-SRCH_IL.0,7_IM714_KO8,22.htm',\n",
    "    'nashville' : 'https://www.glassdoor.com/Salaries/nashville-data-scientist-salary-SRCH_IL.0,9_IM604_KO10,24.htm',\n",
    "    'sunnyvale' : 'https://www.glassdoor.com/Salaries/san-jose-data-scientist-salary-SRCH_IL.0,8_IM761_KO9,23.htm',\n",
    "    'boulder' : 'https://www.glassdoor.com/Salaries/boulder-data-scientist-salary-SRCH_IL.0,7_IM110_KO8,22.htm',\n",
    "    'irvine' : 'https://www.glassdoor.com/Salaries/los-angeles-data-scientist-salary-SRCH_IL.0,11_IM508_KO12,26.htm',\n",
    "    'philadelphia' : 'https://www.glassdoor.com/Salaries/philadelphia-data-scientist-salary-SRCH_IL.0,12_IM676_KO13,27.htm',\n",
    "    'dallas' : 'https://www.glassdoor.com/Salaries/dallas-data-scientist-salary-SRCH_IL.0,6_IM218_KO7,21.htm',\n",
    "    'bellevue' : 'https://www.glassdoor.com/Salaries/seattle-data-scientist-salary-SRCH_IL.0,7_IM781_KO8,22.htm',\n",
    "    'charlotte' : 'https://www.glassdoor.com/Salaries/charlotte-data-scientist-salary-SRCH_IL.0,9_IM162_KO10,24.htm',\n",
    "    'Plano' : 'https://www.glassdoor.com/Salaries/dallas-data-scientist-salary-SRCH_IL.0,6_IM218_KO7,21.htm',\n",
    "    'Richmond' : 'https://www.glassdoor.com/Salaries/richmond-data-scientist-salary-SRCH_IL.0,8_IM724_KO9,23.htm',    \n",
    "}\n"
   ]
  },
  {
   "cell_type": "code",
   "execution_count": 27,
   "metadata": {
    "ExecuteTime": {
     "end_time": "2018-08-14T12:25:57.243477Z",
     "start_time": "2018-08-14T12:25:57.209355Z"
    }
   },
   "outputs": [],
   "source": [
    "def get_glassdoor_salaries(salaries_dct):\n",
    "    \"\"\" Return a dict of city, avg_salary, and, if available, min/max salaries per city.\"\"\"\n",
    "    for city, url in salaries_dct.items():\n",
    "        browser = Chrome()\n",
    "        browser.get(url)\n",
    "        sel_title = 'span.OccMedianBasePayStyle__payNumber' # This is for average salaries \n",
    "        sel_title2 = 'div.HistogramStyle__labelWrapper' # This is for the low range of salaries\n",
    "        avg_salary = browser.find_element_by_css_selector(sel_title).text.strip().strip('$').replace(',','')\n",
    "        min_salary = browser.find_element_by_css_selector(sel_title2).text.replace('K', '000').strip('\\nLow').strip('$')\n",
    "        result = {'city': city,\n",
    "                  'avg_salary': avg_salary,\n",
    "                  'min_salary': min_salary}\n",
    "        yield result\n",
    "        browser.quit()"
   ]
  },
  {
   "cell_type": "markdown",
   "metadata": {},
   "source": [
    "## Make a DataFrame of salary information for each city"
   ]
  },
  {
   "cell_type": "code",
   "execution_count": 28,
   "metadata": {
    "ExecuteTime": {
     "end_time": "2018-08-14T12:28:33.015656Z",
     "start_time": "2018-08-14T12:25:57.950783Z"
    }
   },
   "outputs": [],
   "source": [
    "glassdoor_salaries = list(get_glassdoor_salaries(salaries_dct))"
   ]
  },
  {
   "cell_type": "code",
   "execution_count": 29,
   "metadata": {
    "ExecuteTime": {
     "end_time": "2018-08-14T12:28:33.177110Z",
     "start_time": "2018-08-14T12:28:33.018606Z"
    }
   },
   "outputs": [],
   "source": [
    "glassdoor_salaries = pd.DataFrame(glassdoor_salaries)"
   ]
  },
  {
   "cell_type": "code",
   "execution_count": 30,
   "metadata": {
    "ExecuteTime": {
     "end_time": "2018-08-14T12:28:33.214777Z",
     "start_time": "2018-08-14T12:28:33.179511Z"
    }
   },
   "outputs": [],
   "source": [
    "glassdoor_columns=[\"city\", \"min_salary\", \"avg_salary\"]\n",
    "glassdoor_salaries = glassdoor_salaries.reindex(columns=glassdoor_columns)"
   ]
  },
  {
   "cell_type": "markdown",
   "metadata": {},
   "source": [
    "## Change index to match the same style (capitalization, hyphen instead of space) as other DataFrames so that we can seamlessly concatenate them"
   ]
  },
  {
   "cell_type": "code",
   "execution_count": 31,
   "metadata": {
    "ExecuteTime": {
     "end_time": "2018-08-14T12:28:34.727798Z",
     "start_time": "2018-08-14T12:28:34.698368Z"
    }
   },
   "outputs": [],
   "source": [
    "glassdoor_index = ['Palo-Alto', 'San-Jose', 'Portland', 'Austin', 'Denver', 'San-Diego',\n",
    "       'Washington', 'Boston', 'San-Francisco', 'Seattle', 'Atlanta',\n",
    "       'Los-Angeles', 'Chicago', 'New-York', 'Mountain-View', 'Santa-Monica',\n",
    "       'Cambridge', 'Salt-Lake-City', 'Raleigh', 'Nashville', 'Sunnyvale',\n",
    "       'Boulder', 'Irvine', 'Philadelphia', 'Dallas', 'Bellevue', 'Charlotte',\n",
    "       'Plano', 'Richmond']\n",
    "glassdoor_salaries.index = glassdoor_index"
   ]
  },
  {
   "cell_type": "markdown",
   "metadata": {},
   "source": [
    "## Graph min Data Science salary by city - notice that y-axis is inverted"
   ]
  },
  {
   "cell_type": "code",
   "execution_count": 32,
   "metadata": {
    "ExecuteTime": {
     "end_time": "2018-08-14T12:28:36.479002Z",
     "start_time": "2018-08-14T12:28:36.041264Z"
    }
   },
   "outputs": [
    {
     "data": {
      "text/plain": [
       "<BarContainer object of 29 artists>"
      ]
     },
     "execution_count": 32,
     "metadata": {},
     "output_type": "execute_result"
    },
    {
     "data": {
      "image/png": "[encoded data removed]",
      "text/plain": [
       "<Figure size 2016x432 with 1 Axes>"
      ]
     },
     "metadata": {},
     "output_type": "display_data"
    }
   ],
   "source": [
    "x = glassdoor_salaries.index\n",
    "y = glassdoor_salaries['min_salary']\n",
    "\n",
    "fig = plt.figure(figsize=(28,6))\n",
    "ax = fig.add_subplot(121)\n",
    "ax.set_xlabel('City')\n",
    "ax.set_ylabel('Salary')\n",
    "ax.set_title(\"Min Data Science Salary By City\")\n",
    "ax.set_xticklabels(x, rotation=90)\n",
    "ax.bar(x,y)"
   ]
  },
  {
   "cell_type": "markdown",
   "metadata": {},
   "source": [
    "# Income Taxes"
   ]
  },
  {
   "cell_type": "code",
   "execution_count": 33,
   "metadata": {
    "ExecuteTime": {
     "end_time": "2018-08-14T12:28:38.677534Z",
     "start_time": "2018-08-14T12:28:38.558043Z"
    }
   },
   "outputs": [],
   "source": [
    "income_taxes_dct = {\n",
    "    'Palo-Alto' : {'rate': .0930, 'standard_deduction' : 4236,\n",
    "                   'personal_exemption' : 114},\n",
    "    \n",
    "    'San-Jose' : {'rate': .0930, 'standard_deduction' : 4236,\n",
    "                   'personal_exemption' : 114},\n",
    "    \n",
    "    'Portland' : {'rate': .0900 , 'standard_deduction' : 2175 ,\n",
    "                   'personal_exemption' : 90},\n",
    "    \n",
    "    'Austin' : {'rate': 0, 'standard_deduction' : 0,\n",
    "                   'personal_exemption' : 0},\n",
    "    \n",
    "    'Denver' : {'rate': .0463, 'standard_deduction' : 0,\n",
    "                   'personal_exemption' : 0},\n",
    "    \n",
    "    'San-Diego' : {'rate': .0930, 'standard_deduction' : 12000,\n",
    "                   'personal_exemption' : 0},\n",
    "    \n",
    "    'Washington' : {'rate': .0850, 'standard_deduction' : 0,\n",
    "                   'personal_exemption' : 2000},\n",
    "    \n",
    "    'Boston' : {'rate': .0510, 'standard_deduction' : 0,\n",
    "                   'personal_exemption' : 4400},\n",
    "    \n",
    "    'San-Francisco' : {'rate': .0930, 'standard_deduction' : 4236,\n",
    "                   'personal_exemption' : 114},\n",
    "    \n",
    "    'Seattle' : {'rate': 0, 'standard_deduction' : 0,\n",
    "                   'personal_exemption' : 0},\n",
    "    \n",
    "    'Atlanta' : {'rate': .06, 'standard_deduction' : 4600,\n",
    "                   'personal_exemption' : 2700},\n",
    "    \n",
    "    'Los-Angeles' : {'rate': .0930, 'standard_deduction' : 4236,\n",
    "                   'personal_exemption' : 2000},\n",
    "    \n",
    "    'Chicago' : {'rate': .0495, 'standard_deduction' : 0,\n",
    "                   'personal_exemption' : 0},\n",
    "    \n",
    "    'New-York' : {'rate': .0657, 'standard_deduction' : 8000,\n",
    "                   'personal_exemption' : 0},\n",
    "    \n",
    "    'Mountain-View' : {'rate': .0930, 'standard_deduction' : 4236,\n",
    "                   'personal_exemption' : 114},\n",
    "    \n",
    "    'Santa-Monica' : {'rate': .0930, 'standard_deduction' : 4236,\n",
    "                   'personal_exemption' : 114},\n",
    "    \n",
    "    'Cambridge' : {'rate': .0510, 'standard_deduction' : 0,\n",
    "                   'personal_exemption' : 4400},\n",
    "    \n",
    "    'Salt-Lake-City' : {'rate': .050, 'standard_deduction' : 0,\n",
    "                   'personal_exemption' : 0},\n",
    "    \n",
    "    'Raleigh' : {'rate': .05499, 'standard_deduction' : 8750,\n",
    "                   'personal_exemption' :0},\n",
    "    \n",
    "    'Nashville' : {'rate': .03, 'standard_deduction' : 0,\n",
    "                   'personal_exemption' : 1250},\n",
    "    \n",
    "    'Sunnyvale' : {'rate': .0930, 'standard_deduction' : 4236,\n",
    "                   'personal_exemption' : 114},\n",
    "    \n",
    "    'Boulder' : {'rate': .0463, 'standard_deduction' : 0,\n",
    "                   'personal_exemption' : 0},\n",
    "    \n",
    "    'Irvine' : {'rate': .0930, 'standard_deduction' : 4236,\n",
    "                   'personal_exemption' : 114},\n",
    "    \n",
    "    'Philadelphia' : {'rate': .0307, 'standard_deduction' : 0,\n",
    "                   'personal_exemption' : 0},\n",
    "    \n",
    "    'Dallas' : {'rate': 0, 'standard_deduction' : 0,\n",
    "                   'personal_exemption' : 0},\n",
    "    \n",
    "    'Bellevue' : {'rate': 0, 'standard_deduction' : 0,\n",
    "                   'personal_exemption' : 0},\n",
    "    \n",
    "    'Charlotte' : {'rate': .05499, 'standard_deduction' : 8750,\n",
    "                   'personal_exemption' :0},\n",
    "    \n",
    "    'Plano' : {'rate': 0, 'standard_deduction' : 0,\n",
    "                   'personal_exemption' : 0},\n",
    "    \n",
    "    'Richmond' : {'rate': .0575, 'standard_deduction' : 3000,\n",
    "                   'personal_exemption' : 930},    \n",
    "}\n"
   ]
  },
  {
   "cell_type": "code",
   "execution_count": 34,
   "metadata": {
    "ExecuteTime": {
     "end_time": "2018-08-14T12:28:39.038189Z",
     "start_time": "2018-08-14T12:28:39.001083Z"
    }
   },
   "outputs": [],
   "source": [
    "income_taxes_dct = pd.DataFrame(income_taxes_dct).T"
   ]
  },
  {
   "cell_type": "markdown",
   "metadata": {},
   "source": [
    "# Combine Income Tax Information With Salaries"
   ]
  },
  {
   "cell_type": "code",
   "execution_count": 35,
   "metadata": {
    "ExecuteTime": {
     "end_time": "2018-08-14T12:28:39.633479Z",
     "start_time": "2018-08-14T12:28:39.606428Z"
    }
   },
   "outputs": [],
   "source": [
    "#glassdoor_salaries.set_index('city', inplace=True)\n",
    "dfs2 = [glassdoor_salaries, income_taxes_dct]\n",
    "city_incomes_taxes = pd.concat(dfs2, axis=1)"
   ]
  },
  {
   "cell_type": "markdown",
   "metadata": {},
   "source": [
    "## Cast min and max salary columns to float so that math can be performed on them"
   ]
  },
  {
   "cell_type": "code",
   "execution_count": 36,
   "metadata": {
    "ExecuteTime": {
     "end_time": "2018-08-14T12:28:42.444120Z",
     "start_time": "2018-08-14T12:28:42.408722Z"
    }
   },
   "outputs": [],
   "source": [
    "city_incomes_taxes.min_salary = city_incomes_taxes.min_salary.astype(float)\n",
    "city_incomes_taxes.avg_salary = city_incomes_taxes.avg_salary.astype(float)"
   ]
  },
  {
   "cell_type": "markdown",
   "metadata": {},
   "source": [
    "## Calculate adjusted min/average salary for each city"
   ]
  },
  {
   "cell_type": "code",
   "execution_count": 37,
   "metadata": {
    "ExecuteTime": {
     "end_time": "2018-08-14T12:28:43.354107Z",
     "start_time": "2018-08-14T12:28:43.222162Z"
    }
   },
   "outputs": [],
   "source": [
    "city_incomes_taxes['Adjusted_Min_Salary'] = (\n",
    "    city_incomes_taxes['min_salary'] - \n",
    "    (city_incomes_taxes['min_salary'] * city_incomes_taxes['rate']) - \n",
    "    city_incomes_taxes['personal_exemption'] - city_incomes_taxes['standard_deduction'])"
   ]
  },
  {
   "cell_type": "code",
   "execution_count": 38,
   "metadata": {
    "ExecuteTime": {
     "end_time": "2018-08-14T12:28:43.590272Z",
     "start_time": "2018-08-14T12:28:43.562730Z"
    }
   },
   "outputs": [],
   "source": [
    "city_incomes_taxes['Adjusted_Avg_Salary'] = (\n",
    "    city_incomes_taxes['avg_salary'] - \n",
    "    (city_incomes_taxes['avg_salary'] * city_incomes_taxes['rate']) - \n",
    "    city_incomes_taxes['personal_exemption'] - city_incomes_taxes['standard_deduction'])"
   ]
  },
  {
   "cell_type": "markdown",
   "metadata": {},
   "source": [
    "## Sort index so that we can easily concatenate this DataFrame with our Cost-Of-Living DataFrame"
   ]
  },
  {
   "cell_type": "code",
   "execution_count": 39,
   "metadata": {
    "ExecuteTime": {
     "end_time": "2018-08-14T12:28:44.437868Z",
     "start_time": "2018-08-14T12:28:44.406100Z"
    }
   },
   "outputs": [],
   "source": [
    "city_incomes_taxes.sort_index(inplace=True)"
   ]
  },
  {
   "cell_type": "markdown",
   "metadata": {
    "ExecuteTime": {
     "end_time": "2018-08-12T14:26:53.561579Z",
     "start_time": "2018-08-12T14:26:53.526162Z"
    }
   },
   "source": [
    "## Estimate Net Monthly Income For Each Living Situation"
   ]
  },
  {
   "cell_type": "code",
   "execution_count": 40,
   "metadata": {
    "ExecuteTime": {
     "end_time": "2018-08-14T12:28:45.290339Z",
     "start_time": "2018-08-14T12:28:45.237778Z"
    }
   },
   "outputs": [
    {
     "data": {
      "text/html": [
       "<div>\n",
       "<style scoped>\n",
       "    .dataframe tbody tr th:only-of-type {\n",
       "        vertical-align: middle;\n",
       "    }\n",
       "\n",
       "    .dataframe tbody tr th {\n",
       "        vertical-align: top;\n",
       "    }\n",
       "\n",
       "    .dataframe thead th {\n",
       "        text-align: right;\n",
       "    }\n",
       "</style>\n",
       "<table border=\"1\" class=\"dataframe\">\n",
       "  <thead>\n",
       "    <tr style=\"text-align: right;\">\n",
       "      <th></th>\n",
       "      <th>city</th>\n",
       "      <th>min_salary</th>\n",
       "      <th>avg_salary</th>\n",
       "      <th>personal_exemption</th>\n",
       "      <th>rate</th>\n",
       "      <th>standard_deduction</th>\n",
       "      <th>Adjusted_Min_Salary</th>\n",
       "      <th>Adjusted_Avg_Salary</th>\n",
       "      <th>1_Bed_Center_Total</th>\n",
       "      <th>3_Bed_Center_Total</th>\n",
       "      <th>1_Bed_Outside_Total</th>\n",
       "      <th>3_Bed_Outside_Total</th>\n",
       "    </tr>\n",
       "    <tr>\n",
       "      <th>city</th>\n",
       "      <th></th>\n",
       "      <th></th>\n",
       "      <th></th>\n",
       "      <th></th>\n",
       "      <th></th>\n",
       "      <th></th>\n",
       "      <th></th>\n",
       "      <th></th>\n",
       "      <th></th>\n",
       "      <th></th>\n",
       "      <th></th>\n",
       "      <th></th>\n",
       "    </tr>\n",
       "  </thead>\n",
       "  <tbody>\n",
       "    <tr>\n",
       "      <th>Atlanta</th>\n",
       "      <td>atlanta</td>\n",
       "      <td>76000.0</td>\n",
       "      <td>99680.0</td>\n",
       "      <td>2700.0</td>\n",
       "      <td>0.06000</td>\n",
       "      <td>4600.0</td>\n",
       "      <td>64140.00</td>\n",
       "      <td>86399.20000</td>\n",
       "      <td>2827.69</td>\n",
       "      <td>2214.31</td>\n",
       "      <td>2370.73</td>\n",
       "      <td>1881.12</td>\n",
       "    </tr>\n",
       "    <tr>\n",
       "      <th>Austin</th>\n",
       "      <td>austin</td>\n",
       "      <td>79000.0</td>\n",
       "      <td>103313.0</td>\n",
       "      <td>0.0</td>\n",
       "      <td>0.00000</td>\n",
       "      <td>0.0</td>\n",
       "      <td>79000.00</td>\n",
       "      <td>103313.00000</td>\n",
       "      <td>2969.98</td>\n",
       "      <td>2289.77</td>\n",
       "      <td>2399.66</td>\n",
       "      <td>1943.74</td>\n",
       "    </tr>\n",
       "    <tr>\n",
       "      <th>Bellevue</th>\n",
       "      <td>bellevue</td>\n",
       "      <td>101000.0</td>\n",
       "      <td>131112.0</td>\n",
       "      <td>0.0</td>\n",
       "      <td>0.00000</td>\n",
       "      <td>0.0</td>\n",
       "      <td>101000.00</td>\n",
       "      <td>131112.00000</td>\n",
       "      <td>3430.36</td>\n",
       "      <td>2473.14</td>\n",
       "      <td>3130.89</td>\n",
       "      <td>2220.37</td>\n",
       "    </tr>\n",
       "    <tr>\n",
       "      <th>Boston</th>\n",
       "      <td>boston</td>\n",
       "      <td>86000.0</td>\n",
       "      <td>112468.0</td>\n",
       "      <td>4400.0</td>\n",
       "      <td>0.05100</td>\n",
       "      <td>0.0</td>\n",
       "      <td>77214.00</td>\n",
       "      <td>102332.13200</td>\n",
       "      <td>3821.53</td>\n",
       "      <td>2853.37</td>\n",
       "      <td>3136.48</td>\n",
       "      <td>2316.50</td>\n",
       "    </tr>\n",
       "    <tr>\n",
       "      <th>Boulder</th>\n",
       "      <td>boulder</td>\n",
       "      <td>80000.0</td>\n",
       "      <td>104962.0</td>\n",
       "      <td>0.0</td>\n",
       "      <td>0.04630</td>\n",
       "      <td>0.0</td>\n",
       "      <td>76296.00</td>\n",
       "      <td>100102.25940</td>\n",
       "      <td>2824.38</td>\n",
       "      <td>2341.05</td>\n",
       "      <td>2562.76</td>\n",
       "      <td>2122.53</td>\n",
       "    </tr>\n",
       "    <tr>\n",
       "      <th>Cambridge</th>\n",
       "      <td>cambridge</td>\n",
       "      <td>86000.0</td>\n",
       "      <td>112468.0</td>\n",
       "      <td>4400.0</td>\n",
       "      <td>0.05100</td>\n",
       "      <td>0.0</td>\n",
       "      <td>77214.00</td>\n",
       "      <td>102332.13200</td>\n",
       "      <td>2314.90</td>\n",
       "      <td>1854.07</td>\n",
       "      <td>2086.22</td>\n",
       "      <td>1725.55</td>\n",
       "    </tr>\n",
       "    <tr>\n",
       "      <th>Charlotte</th>\n",
       "      <td>charlotte</td>\n",
       "      <td>80000.0</td>\n",
       "      <td>104647.0</td>\n",
       "      <td>0.0</td>\n",
       "      <td>0.05499</td>\n",
       "      <td>8750.0</td>\n",
       "      <td>66850.80</td>\n",
       "      <td>90142.46147</td>\n",
       "      <td>2717.21</td>\n",
       "      <td>2051.36</td>\n",
       "      <td>2269.79</td>\n",
       "      <td>1797.04</td>\n",
       "    </tr>\n",
       "    <tr>\n",
       "      <th>Chicago</th>\n",
       "      <td>chicago</td>\n",
       "      <td>79000.0</td>\n",
       "      <td>103685.0</td>\n",
       "      <td>0.0</td>\n",
       "      <td>0.04950</td>\n",
       "      <td>0.0</td>\n",
       "      <td>75089.50</td>\n",
       "      <td>98552.59250</td>\n",
       "      <td>3078.89</td>\n",
       "      <td>2405.30</td>\n",
       "      <td>2463.50</td>\n",
       "      <td>1993.23</td>\n",
       "    </tr>\n",
       "    <tr>\n",
       "      <th>Dallas</th>\n",
       "      <td>dallas</td>\n",
       "      <td>77000.0</td>\n",
       "      <td>101853.0</td>\n",
       "      <td>0.0</td>\n",
       "      <td>0.00000</td>\n",
       "      <td>0.0</td>\n",
       "      <td>77000.00</td>\n",
       "      <td>101853.00000</td>\n",
       "      <td>2589.88</td>\n",
       "      <td>2094.07</td>\n",
       "      <td>2254.14</td>\n",
       "      <td>1868.29</td>\n",
       "    </tr>\n",
       "    <tr>\n",
       "      <th>Denver</th>\n",
       "      <td>denver</td>\n",
       "      <td>76000.0</td>\n",
       "      <td>100221.0</td>\n",
       "      <td>0.0</td>\n",
       "      <td>0.04630</td>\n",
       "      <td>0.0</td>\n",
       "      <td>72481.20</td>\n",
       "      <td>95580.76770</td>\n",
       "      <td>2910.66</td>\n",
       "      <td>2213.23</td>\n",
       "      <td>2577.82</td>\n",
       "      <td>1985.90</td>\n",
       "    </tr>\n",
       "    <tr>\n",
       "      <th>Irvine</th>\n",
       "      <td>irvine</td>\n",
       "      <td>93000.0</td>\n",
       "      <td>120774.0</td>\n",
       "      <td>114.0</td>\n",
       "      <td>0.09300</td>\n",
       "      <td>4236.0</td>\n",
       "      <td>80001.00</td>\n",
       "      <td>105192.01800</td>\n",
       "      <td>3357.72</td>\n",
       "      <td>2388.25</td>\n",
       "      <td>3142.85</td>\n",
       "      <td>2275.84</td>\n",
       "    </tr>\n",
       "    <tr>\n",
       "      <th>Los-Angeles</th>\n",
       "      <td>los-angeles</td>\n",
       "      <td>93000.0</td>\n",
       "      <td>120774.0</td>\n",
       "      <td>2000.0</td>\n",
       "      <td>0.09300</td>\n",
       "      <td>4236.0</td>\n",
       "      <td>78115.00</td>\n",
       "      <td>103306.01800</td>\n",
       "      <td>3478.00</td>\n",
       "      <td>2647.25</td>\n",
       "      <td>3033.31</td>\n",
       "      <td>2315.14</td>\n",
       "    </tr>\n",
       "    <tr>\n",
       "      <th>Mountain-View</th>\n",
       "      <td>mountain-view</td>\n",
       "      <td>109000.0</td>\n",
       "      <td>141317.0</td>\n",
       "      <td>114.0</td>\n",
       "      <td>0.09300</td>\n",
       "      <td>4236.0</td>\n",
       "      <td>94513.00</td>\n",
       "      <td>123824.51900</td>\n",
       "      <td>4161.09</td>\n",
       "      <td>2832.76</td>\n",
       "      <td>3674.42</td>\n",
       "      <td>2641.09</td>\n",
       "    </tr>\n",
       "    <tr>\n",
       "      <th>Nashville</th>\n",
       "      <td>nashville</td>\n",
       "      <td>73000.0</td>\n",
       "      <td>96751.0</td>\n",
       "      <td>1250.0</td>\n",
       "      <td>0.03000</td>\n",
       "      <td>0.0</td>\n",
       "      <td>69560.00</td>\n",
       "      <td>92598.47000</td>\n",
       "      <td>2872.34</td>\n",
       "      <td>2253.19</td>\n",
       "      <td>2374.51</td>\n",
       "      <td>1918.48</td>\n",
       "    </tr>\n",
       "    <tr>\n",
       "      <th>New-York</th>\n",
       "      <td>new-york</td>\n",
       "      <td>90000.0</td>\n",
       "      <td>118225.0</td>\n",
       "      <td>0.0</td>\n",
       "      <td>0.06570</td>\n",
       "      <td>8000.0</td>\n",
       "      <td>76087.00</td>\n",
       "      <td>102457.61750</td>\n",
       "      <td>4643.37</td>\n",
       "      <td>3595.55</td>\n",
       "      <td>3423.52</td>\n",
       "      <td>2591.48</td>\n",
       "    </tr>\n",
       "    <tr>\n",
       "      <th>Palo-Alto</th>\n",
       "      <td>palo-alto</td>\n",
       "      <td>109000.0</td>\n",
       "      <td>141317.0</td>\n",
       "      <td>114.0</td>\n",
       "      <td>0.09300</td>\n",
       "      <td>4236.0</td>\n",
       "      <td>94513.00</td>\n",
       "      <td>123824.51900</td>\n",
       "      <td>4387.78</td>\n",
       "      <td>3127.85</td>\n",
       "      <td>4094.51</td>\n",
       "      <td>2872.29</td>\n",
       "    </tr>\n",
       "    <tr>\n",
       "      <th>Philadelphia</th>\n",
       "      <td>philadelphia</td>\n",
       "      <td>76000.0</td>\n",
       "      <td>99539.0</td>\n",
       "      <td>0.0</td>\n",
       "      <td>0.03070</td>\n",
       "      <td>0.0</td>\n",
       "      <td>73666.80</td>\n",
       "      <td>96483.15270</td>\n",
       "      <td>2893.43</td>\n",
       "      <td>2273.30</td>\n",
       "      <td>2368.40</td>\n",
       "      <td>1881.41</td>\n",
       "    </tr>\n",
       "    <tr>\n",
       "      <th>Plano</th>\n",
       "      <td>Plano</td>\n",
       "      <td>77000.0</td>\n",
       "      <td>101853.0</td>\n",
       "      <td>0.0</td>\n",
       "      <td>0.00000</td>\n",
       "      <td>0.0</td>\n",
       "      <td>77000.00</td>\n",
       "      <td>101853.00000</td>\n",
       "      <td>2489.02</td>\n",
       "      <td>2043.78</td>\n",
       "      <td>2259.89</td>\n",
       "      <td>1905.69</td>\n",
       "    </tr>\n",
       "    <tr>\n",
       "      <th>Portland</th>\n",
       "      <td>portland</td>\n",
       "      <td>92000.0</td>\n",
       "      <td>119754.0</td>\n",
       "      <td>90.0</td>\n",
       "      <td>0.09000</td>\n",
       "      <td>2175.0</td>\n",
       "      <td>81455.00</td>\n",
       "      <td>106711.14000</td>\n",
       "      <td>2872.38</td>\n",
       "      <td>2295.22</td>\n",
       "      <td>2486.15</td>\n",
       "      <td>1977.56</td>\n",
       "    </tr>\n",
       "    <tr>\n",
       "      <th>Raleigh</th>\n",
       "      <td>raleigh</td>\n",
       "      <td>74000.0</td>\n",
       "      <td>97731.0</td>\n",
       "      <td>0.0</td>\n",
       "      <td>0.05499</td>\n",
       "      <td>8750.0</td>\n",
       "      <td>61180.74</td>\n",
       "      <td>83606.77231</td>\n",
       "      <td>2463.53</td>\n",
       "      <td>1879.52</td>\n",
       "      <td>2220.98</td>\n",
       "      <td>1737.42</td>\n",
       "    </tr>\n",
       "    <tr>\n",
       "      <th>Richmond</th>\n",
       "      <td>Richmond</td>\n",
       "      <td>75000.0</td>\n",
       "      <td>98365.0</td>\n",
       "      <td>930.0</td>\n",
       "      <td>0.05750</td>\n",
       "      <td>3000.0</td>\n",
       "      <td>66757.50</td>\n",
       "      <td>88779.01250</td>\n",
       "      <td>2409.60</td>\n",
       "      <td>1833.64</td>\n",
       "      <td>2187.77</td>\n",
       "      <td>1713.20</td>\n",
       "    </tr>\n",
       "    <tr>\n",
       "      <th>Salt-Lake-City</th>\n",
       "      <td>salt-lake-city</td>\n",
       "      <td>76000.0</td>\n",
       "      <td>100436.0</td>\n",
       "      <td>0.0</td>\n",
       "      <td>0.05000</td>\n",
       "      <td>0.0</td>\n",
       "      <td>72200.00</td>\n",
       "      <td>95414.20000</td>\n",
       "      <td>2438.04</td>\n",
       "      <td>1879.04</td>\n",
       "      <td>2114.56</td>\n",
       "      <td>1718.61</td>\n",
       "    </tr>\n",
       "    <tr>\n",
       "      <th>San-Diego</th>\n",
       "      <td>san-diego</td>\n",
       "      <td>87000.0</td>\n",
       "      <td>114236.0</td>\n",
       "      <td>0.0</td>\n",
       "      <td>0.09300</td>\n",
       "      <td>12000.0</td>\n",
       "      <td>66909.00</td>\n",
       "      <td>91612.05200</td>\n",
       "      <td>3210.41</td>\n",
       "      <td>2406.10</td>\n",
       "      <td>2804.00</td>\n",
       "      <td>2184.68</td>\n",
       "    </tr>\n",
       "    <tr>\n",
       "      <th>San-Francisco</th>\n",
       "      <td>san-francisco</td>\n",
       "      <td>111000.0</td>\n",
       "      <td>142729.0</td>\n",
       "      <td>114.0</td>\n",
       "      <td>0.09300</td>\n",
       "      <td>4236.0</td>\n",
       "      <td>96327.00</td>\n",
       "      <td>125105.20300</td>\n",
       "      <td>4815.12</td>\n",
       "      <td>3350.49</td>\n",
       "      <td>4076.46</td>\n",
       "      <td>2863.90</td>\n",
       "    </tr>\n",
       "    <tr>\n",
       "      <th>San-Jose</th>\n",
       "      <td>san-jose</td>\n",
       "      <td>109000.0</td>\n",
       "      <td>141317.0</td>\n",
       "      <td>114.0</td>\n",
       "      <td>0.09300</td>\n",
       "      <td>4236.0</td>\n",
       "      <td>94513.00</td>\n",
       "      <td>123824.51900</td>\n",
       "      <td>3714.23</td>\n",
       "      <td>2500.36</td>\n",
       "      <td>3456.55</td>\n",
       "      <td>2415.38</td>\n",
       "    </tr>\n",
       "    <tr>\n",
       "      <th>Santa-Monica</th>\n",
       "      <td>santa-monica</td>\n",
       "      <td>93000.0</td>\n",
       "      <td>120774.0</td>\n",
       "      <td>114.0</td>\n",
       "      <td>0.09300</td>\n",
       "      <td>4236.0</td>\n",
       "      <td>80001.00</td>\n",
       "      <td>105192.01800</td>\n",
       "      <td>3821.54</td>\n",
       "      <td>3382.59</td>\n",
       "      <td>3460.36</td>\n",
       "      <td>2844.49</td>\n",
       "    </tr>\n",
       "    <tr>\n",
       "      <th>Seattle</th>\n",
       "      <td>seattle</td>\n",
       "      <td>101000.0</td>\n",
       "      <td>131112.0</td>\n",
       "      <td>0.0</td>\n",
       "      <td>0.00000</td>\n",
       "      <td>0.0</td>\n",
       "      <td>101000.00</td>\n",
       "      <td>131112.00000</td>\n",
       "      <td>3374.11</td>\n",
       "      <td>2609.85</td>\n",
       "      <td>2867.34</td>\n",
       "      <td>2217.15</td>\n",
       "    </tr>\n",
       "    <tr>\n",
       "      <th>Sunnyvale</th>\n",
       "      <td>sunnyvale</td>\n",
       "      <td>109000.0</td>\n",
       "      <td>141317.0</td>\n",
       "      <td>114.0</td>\n",
       "      <td>0.09300</td>\n",
       "      <td>4236.0</td>\n",
       "      <td>94513.00</td>\n",
       "      <td>123824.51900</td>\n",
       "      <td>4161.60</td>\n",
       "      <td>2806.31</td>\n",
       "      <td>3640.97</td>\n",
       "      <td>2542.65</td>\n",
       "    </tr>\n",
       "    <tr>\n",
       "      <th>Washington</th>\n",
       "      <td>washington</td>\n",
       "      <td>81000.0</td>\n",
       "      <td>105613.0</td>\n",
       "      <td>2000.0</td>\n",
       "      <td>0.08500</td>\n",
       "      <td>0.0</td>\n",
       "      <td>72115.00</td>\n",
       "      <td>94635.89500</td>\n",
       "      <td>3517.19</td>\n",
       "      <td>2701.16</td>\n",
       "      <td>3063.85</td>\n",
       "      <td>2313.91</td>\n",
       "    </tr>\n",
       "  </tbody>\n",
       "</table>\n",
       "</div>"
      ],
      "text/plain": [
       "                          city  min_salary  avg_salary  personal_exemption  \\\n",
       "city                                                                         \n",
       "Atlanta                atlanta     76000.0     99680.0              2700.0   \n",
       "Austin                  austin     79000.0    103313.0                 0.0   \n",
       "Bellevue              bellevue    101000.0    131112.0                 0.0   \n",
       "Boston                  boston     86000.0    112468.0              4400.0   \n",
       "Boulder                boulder     80000.0    104962.0                 0.0   \n",
       "Cambridge            cambridge     86000.0    112468.0              4400.0   \n",
       "Charlotte            charlotte     80000.0    104647.0                 0.0   \n",
       "Chicago                chicago     79000.0    103685.0                 0.0   \n",
       "Dallas                  dallas     77000.0    101853.0                 0.0   \n",
       "Denver                  denver     76000.0    100221.0                 0.0   \n",
       "Irvine                  irvine     93000.0    120774.0               114.0   \n",
       "Los-Angeles        los-angeles     93000.0    120774.0              2000.0   \n",
       "Mountain-View    mountain-view    109000.0    141317.0               114.0   \n",
       "Nashville            nashville     73000.0     96751.0              1250.0   \n",
       "New-York              new-york     90000.0    118225.0                 0.0   \n",
       "Palo-Alto            palo-alto    109000.0    141317.0               114.0   \n",
       "Philadelphia      philadelphia     76000.0     99539.0                 0.0   \n",
       "Plano                    Plano     77000.0    101853.0                 0.0   \n",
       "Portland              portland     92000.0    119754.0                90.0   \n",
       "Raleigh                raleigh     74000.0     97731.0                 0.0   \n",
       "Richmond              Richmond     75000.0     98365.0               930.0   \n",
       "Salt-Lake-City  salt-lake-city     76000.0    100436.0                 0.0   \n",
       "San-Diego            san-diego     87000.0    114236.0                 0.0   \n",
       "San-Francisco    san-francisco    111000.0    142729.0               114.0   \n",
       "San-Jose              san-jose    109000.0    141317.0               114.0   \n",
       "Santa-Monica      santa-monica     93000.0    120774.0               114.0   \n",
       "Seattle                seattle    101000.0    131112.0                 0.0   \n",
       "Sunnyvale            sunnyvale    109000.0    141317.0               114.0   \n",
       "Washington          washington     81000.0    105613.0              2000.0   \n",
       "\n",
       "                   rate  standard_deduction  Adjusted_Min_Salary  \\\n",
       "city                                                               \n",
       "Atlanta         0.06000              4600.0             64140.00   \n",
       "Austin          0.00000                 0.0             79000.00   \n",
       "Bellevue        0.00000                 0.0            101000.00   \n",
       "Boston          0.05100                 0.0             77214.00   \n",
       "Boulder         0.04630                 0.0             76296.00   \n",
       "Cambridge       0.05100                 0.0             77214.00   \n",
       "Charlotte       0.05499              8750.0             66850.80   \n",
       "Chicago         0.04950                 0.0             75089.50   \n",
       "Dallas          0.00000                 0.0             77000.00   \n",
       "Denver          0.04630                 0.0             72481.20   \n",
       "Irvine          0.09300              4236.0             80001.00   \n",
       "Los-Angeles     0.09300              4236.0             78115.00   \n",
       "Mountain-View   0.09300              4236.0             94513.00   \n",
       "Nashville       0.03000                 0.0             69560.00   \n",
       "New-York        0.06570              8000.0             76087.00   \n",
       "Palo-Alto       0.09300              4236.0             94513.00   \n",
       "Philadelphia    0.03070                 0.0             73666.80   \n",
       "Plano           0.00000                 0.0             77000.00   \n",
       "Portland        0.09000              2175.0             81455.00   \n",
       "Raleigh         0.05499              8750.0             61180.74   \n",
       "Richmond        0.05750              3000.0             66757.50   \n",
       "Salt-Lake-City  0.05000                 0.0             72200.00   \n",
       "San-Diego       0.09300             12000.0             66909.00   \n",
       "San-Francisco   0.09300              4236.0             96327.00   \n",
       "San-Jose        0.09300              4236.0             94513.00   \n",
       "Santa-Monica    0.09300              4236.0             80001.00   \n",
       "Seattle         0.00000                 0.0            101000.00   \n",
       "Sunnyvale       0.09300              4236.0             94513.00   \n",
       "Washington      0.08500                 0.0             72115.00   \n",
       "\n",
       "                Adjusted_Avg_Salary  1_Bed_Center_Total  3_Bed_Center_Total  \\\n",
       "city                                                                          \n",
       "Atlanta                 86399.20000             2827.69             2214.31   \n",
       "Austin                 103313.00000             2969.98             2289.77   \n",
       "Bellevue               131112.00000             3430.36             2473.14   \n",
       "Boston                 102332.13200             3821.53             2853.37   \n",
       "Boulder                100102.25940             2824.38             2341.05   \n",
       "Cambridge              102332.13200             2314.90             1854.07   \n",
       "Charlotte               90142.46147             2717.21             2051.36   \n",
       "Chicago                 98552.59250             3078.89             2405.30   \n",
       "Dallas                 101853.00000             2589.88             2094.07   \n",
       "Denver                  95580.76770             2910.66             2213.23   \n",
       "Irvine                 105192.01800             3357.72             2388.25   \n",
       "Los-Angeles            103306.01800             3478.00             2647.25   \n",
       "Mountain-View          123824.51900             4161.09             2832.76   \n",
       "Nashville               92598.47000             2872.34             2253.19   \n",
       "New-York               102457.61750             4643.37             3595.55   \n",
       "Palo-Alto              123824.51900             4387.78             3127.85   \n",
       "Philadelphia            96483.15270             2893.43             2273.30   \n",
       "Plano                  101853.00000             2489.02             2043.78   \n",
       "Portland               106711.14000             2872.38             2295.22   \n",
       "Raleigh                 83606.77231             2463.53             1879.52   \n",
       "Richmond                88779.01250             2409.60             1833.64   \n",
       "Salt-Lake-City          95414.20000             2438.04             1879.04   \n",
       "San-Diego               91612.05200             3210.41             2406.10   \n",
       "San-Francisco          125105.20300             4815.12             3350.49   \n",
       "San-Jose               123824.51900             3714.23             2500.36   \n",
       "Santa-Monica           105192.01800             3821.54             3382.59   \n",
       "Seattle                131112.00000             3374.11             2609.85   \n",
       "Sunnyvale              123824.51900             4161.60             2806.31   \n",
       "Washington              94635.89500             3517.19             2701.16   \n",
       "\n",
       "                1_Bed_Outside_Total  3_Bed_Outside_Total  \n",
       "city                                                      \n",
       "Atlanta                     2370.73              1881.12  \n",
       "Austin                      2399.66              1943.74  \n",
       "Bellevue                    3130.89              2220.37  \n",
       "Boston                      3136.48              2316.50  \n",
       "Boulder                     2562.76              2122.53  \n",
       "Cambridge                   2086.22              1725.55  \n",
       "Charlotte                   2269.79              1797.04  \n",
       "Chicago                     2463.50              1993.23  \n",
       "Dallas                      2254.14              1868.29  \n",
       "Denver                      2577.82              1985.90  \n",
       "Irvine                      3142.85              2275.84  \n",
       "Los-Angeles                 3033.31              2315.14  \n",
       "Mountain-View               3674.42              2641.09  \n",
       "Nashville                   2374.51              1918.48  \n",
       "New-York                    3423.52              2591.48  \n",
       "Palo-Alto                   4094.51              2872.29  \n",
       "Philadelphia                2368.40              1881.41  \n",
       "Plano                       2259.89              1905.69  \n",
       "Portland                    2486.15              1977.56  \n",
       "Raleigh                     2220.98              1737.42  \n",
       "Richmond                    2187.77              1713.20  \n",
       "Salt-Lake-City              2114.56              1718.61  \n",
       "San-Diego                   2804.00              2184.68  \n",
       "San-Francisco               4076.46              2863.90  \n",
       "San-Jose                    3456.55              2415.38  \n",
       "Santa-Monica                3460.36              2844.49  \n",
       "Seattle                     2867.34              2217.15  \n",
       "Sunnyvale                   3640.97              2542.65  \n",
       "Washington                  3063.85              2313.91  "
      ]
     },
     "execution_count": 40,
     "metadata": {},
     "output_type": "execute_result"
    }
   ],
   "source": [
    "dfs3 = [city_incomes_taxes, city_matrix.drop(columns='city').sort_index()]\n",
    "net_monthly = pd.concat(dfs3, axis=1)\n",
    "net_monthly"
   ]
  },
  {
   "cell_type": "markdown",
   "metadata": {},
   "source": [
    "## Calculate the Net Monthly total for each of the 4 predetermined living scenarios"
   ]
  },
  {
   "cell_type": "code",
   "execution_count": 41,
   "metadata": {
    "ExecuteTime": {
     "end_time": "2018-08-14T12:28:46.412537Z",
     "start_time": "2018-08-14T12:28:46.382404Z"
    }
   },
   "outputs": [],
   "source": [
    "net_monthly['1BC_Net'] = round(((net_monthly['Adjusted_Min_Salary'] / 12) - net_monthly['1_Bed_Center_Total']),2)\n",
    "net_monthly['1BO_Net'] = round(((net_monthly['Adjusted_Min_Salary'] / 12) - net_monthly['1_Bed_Outside_Total']),2)\n",
    "net_monthly['3BC_Net'] = round(((net_monthly['Adjusted_Min_Salary'] / 12) - net_monthly['3_Bed_Center_Total']),2)\n",
    "net_monthly['3BO_Net'] = round(((net_monthly['Adjusted_Min_Salary'] / 12) - net_monthly['3_Bed_Outside_Total']),2)"
   ]
  },
  {
   "cell_type": "markdown",
   "metadata": {
    "ExecuteTime": {
     "end_time": "2018-08-12T15:03:08.978328Z",
     "start_time": "2018-08-12T15:03:08.839865Z"
    }
   },
   "source": [
    "## Years To Pay Off Debt (Assuming Allocation Of 30% Net Per/Month)\n",
    "#### Also, cut down df to only include columns that represent Years-To-Pay-Off-Debt"
   ]
  },
  {
   "cell_type": "code",
   "execution_count": 42,
   "metadata": {
    "ExecuteTime": {
     "end_time": "2018-08-14T12:28:47.006698Z",
     "start_time": "2018-08-14T12:28:46.981363Z"
    }
   },
   "outputs": [],
   "source": [
    "net_monthly_slim = net_monthly.iloc[:,-4:]"
   ]
  },
  {
   "cell_type": "code",
   "execution_count": 43,
   "metadata": {
    "ExecuteTime": {
     "end_time": "2018-08-14T12:28:47.223772Z",
     "start_time": "2018-08-14T12:28:47.192957Z"
    }
   },
   "outputs": [],
   "source": [
    "net_monthly_slim['1BC_Yrs'] = round(debt / ((net_monthly_slim['1BC_Net'] * .30) * 12),2)\n",
    "net_monthly_slim['1BO_Yrs'] = round(debt / ((net_monthly_slim['1BO_Net'] * .30) * 12),2)\n",
    "net_monthly_slim['3BC_Yrs'] = round(debt / ((net_monthly_slim['3BC_Net'] * .30) * 12),2)\n",
    "net_monthly_slim['3BO_Yrs'] = round(debt / ((net_monthly_slim['3BO_Net'] * .30) * 12),2)"
   ]
  },
  {
   "cell_type": "markdown",
   "metadata": {},
   "source": [
    "## Finally, graph our 4 different living scenarios in each of our chosen cities"
   ]
  },
  {
   "cell_type": "code",
   "execution_count": 44,
   "metadata": {
    "ExecuteTime": {
     "end_time": "2018-08-14T12:28:48.140829Z",
     "start_time": "2018-08-14T12:28:47.841933Z"
    }
   },
   "outputs": [
    {
     "data": {
      "text/plain": [
       "<BarContainer object of 29 artists>"
      ]
     },
     "execution_count": 44,
     "metadata": {},
     "output_type": "execute_result"
    },
    {
     "data": {
      "image/png": "[encoded data removed]",
      "text/plain": [
       "<Figure size 2016x432 with 1 Axes>"
      ]
     },
     "metadata": {},
     "output_type": "display_data"
    }
   ],
   "source": [
    "x = net_monthly_slim.index\n",
    "y = net_monthly_slim['1BC_Yrs']\n",
    "\n",
    "fig = plt.figure(figsize=(28,6))\n",
    "ax = fig.add_subplot(121)\n",
    "ax.set_xlabel('City')\n",
    "ax.set_ylabel('Years')\n",
    "ax.set_title(\"Num Years To Pay Debt By City - 1 Bedroom In City Center\")\n",
    "ax.set_xticklabels(x, rotation=90)\n",
    "ax.bar(x,y)"
   ]
  },
  {
   "cell_type": "code",
   "execution_count": 45,
   "metadata": {
    "ExecuteTime": {
     "end_time": "2018-08-14T12:28:48.546480Z",
     "start_time": "2018-08-14T12:28:48.250182Z"
    },
    "scrolled": true
   },
   "outputs": [
    {
     "data": {
      "text/plain": [
       "<BarContainer object of 29 artists>"
      ]
     },
     "execution_count": 45,
     "metadata": {},
     "output_type": "execute_result"
    },
    {
     "data": {
      "image/png": "[encoded data removed]",
      "text/plain": [
       "<Figure size 2016x432 with 1 Axes>"
      ]
     },
     "metadata": {},
     "output_type": "display_data"
    }
   ],
   "source": [
    "x = net_monthly_slim.index\n",
    "y = net_monthly_slim['1BO_Yrs']\n",
    "\n",
    "fig = plt.figure(figsize=(28,6))\n",
    "ax = fig.add_subplot(121)\n",
    "ax.set_xlabel('City')\n",
    "ax.set_ylabel('Years')\n",
    "ax.set_title(\"Num Years To Pay Debt By City - 1 Bedroom Outside City Center\")\n",
    "ax.set_xticklabels(x, rotation=90)\n",
    "ax.bar(x,y)"
   ]
  },
  {
   "cell_type": "code",
   "execution_count": 46,
   "metadata": {
    "ExecuteTime": {
     "end_time": "2018-08-14T12:28:48.987230Z",
     "start_time": "2018-08-14T12:28:48.667441Z"
    }
   },
   "outputs": [
    {
     "data": {
      "text/plain": [
       "<BarContainer object of 29 artists>"
      ]
     },
     "execution_count": 46,
     "metadata": {},
     "output_type": "execute_result"
    },
    {
     "data": {
      "image/png": "[encoded data removed]",
      "text/plain": [
       "<Figure size 2016x432 with 1 Axes>"
      ]
     },
     "metadata": {},
     "output_type": "display_data"
    }
   ],
   "source": [
    "x = net_monthly_slim.index\n",
    "y = net_monthly_slim['3BC_Yrs']\n",
    "\n",
    "fig = plt.figure(figsize=(28,6))\n",
    "ax = fig.add_subplot(121)\n",
    "ax.set_xlabel('City')\n",
    "ax.set_ylabel('Years')\n",
    "ax.set_title(\"Num Years To Pay Debt By City - 3 Bedrooms In City Center\")\n",
    "ax.set_xticklabels(x, rotation=90)\n",
    "ax.bar(x,y)"
   ]
  },
  {
   "cell_type": "code",
   "execution_count": 47,
   "metadata": {
    "ExecuteTime": {
     "end_time": "2018-08-14T12:28:49.308959Z",
     "start_time": "2018-08-14T12:28:48.990229Z"
    }
   },
   "outputs": [
    {
     "data": {
      "text/plain": [
       "<BarContainer object of 29 artists>"
      ]
     },
     "execution_count": 47,
     "metadata": {},
     "output_type": "execute_result"
    },
    {
     "data": {
      "image/png": "[encoded data removed]",
      "text/plain": [
       "<Figure size 2016x432 with 1 Axes>"
      ]
     },
     "metadata": {},
     "output_type": "display_data"
    }
   ],
   "source": [
    "x = net_monthly_slim.index\n",
    "y = net_monthly_slim['3BO_Yrs']\n",
    "\n",
    "fig = plt.figure(figsize=(28,6))\n",
    "ax = fig.add_subplot(121)\n",
    "ax.set_xlabel('City')\n",
    "ax.set_ylabel('Years')\n",
    "ax.set_title(\"Num Years To Pay Debt By City - 3 Bedrooms Outside City Center\")\n",
    "ax.set_xticklabels(x, rotation=90)\n",
    "ax.bar(x,y)"
   ]
  },
  {
   "cell_type": "code",
   "execution_count": null,
   "metadata": {},
   "outputs": [],
   "source": []
  },
  {
   "cell_type": "code",
   "execution_count": null,
   "metadata": {},
   "outputs": [],
   "source": []
  }
 ],
 "metadata": {
  "kernelspec": {
   "display_name": "Python 3",
   "language": "python",
   "name": "python3"
  },
  "language_info": {
   "codemirror_mode": {
    "name": "ipython",
    "version": 3
   },
   "file_extension": ".py",
   "mimetype": "text/x-python",
   "name": "python",
   "nbconvert_exporter": "python",
   "pygments_lexer": "ipython3",
   "version": "3.6.5"
  }
 },
 "nbformat": 4,
 "nbformat_minor": 2
}
